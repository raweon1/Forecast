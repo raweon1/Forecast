{
 "cells": [
  {
   "cell_type": "code",
   "execution_count": 1,
   "metadata": {
    "collapsed": true
   },
   "outputs": [],
   "source": [
    "from __future__ import print_function\n",
    "\n",
    "import os\n",
    "import copy\n",
    "import pandas as pd\n",
    "import numpy as np\n",
    "import matplotlib.pyplot as plt\n",
    "from matplotlib import cm, colors\n",
    "\n",
    "from sklearn.pipeline import Pipeline, FeatureUnion\n",
    "from sklearn.preprocessing import MinMaxScaler\n",
    "from sklearn.metrics import mean_squared_error\n",
    "from source.DataFrameSelector import DataFrameSelector\n",
    "\n",
    "from datetime import datetime, timezone\n",
    "\n",
    "from tqdm import tqdm\n",
    "import torch\n",
    "import torch.nn as nn"
   ]
  },
  {
   "cell_type": "code",
   "execution_count": 2,
   "outputs": [],
   "source": [
    "DATA_PATH = os.path.join(\"..\", \"data\")\n",
    "\n",
    "def load_csv(filename, path=DATA_PATH):\n",
    "    return pd.read_csv(os.path.join(path, filename))\n",
    "\n",
    "def to_utc_datetime(df, column=\"time\"):\n",
    "    df[column] = df.apply(lambda row: datetime.strptime(row[column], \"%Y-%m-%d %H:%M:%S%z\").astimezone(timezone.utc), axis=1)\n",
    "    return df\n",
    "\n",
    "def get_price():\n",
    "    e_data = load_csv(\"energy_dataset.csv\")\n",
    "    return e_data[[\"time\", \"price day ahead\", \"total load actual\", \"price\"]].rename(\n",
    "        columns={\"price day ahead\": \"TSO_price_forecast\",\n",
    "                 \"total load actual\": \"load\"})\n",
    "\n",
    "def add_weather_data(df):\n",
    "    w_data = load_csv(\"weather_features.csv\").drop(columns=[\"weather_id\", \"weather_icon\", \"temp_min\", \"temp_max\"])\n",
    "    w_data = w_data.join(other=df.set_index(\"time\"), on=\"time\").drop_duplicates(subset=[\"time\", \"city_name\"])\n",
    "    return w_data.reset_index(drop=True)"
   ],
   "metadata": {
    "collapsed": false,
    "pycharm": {
     "name": "#%%\n"
    }
   }
  },
  {
   "cell_type": "code",
   "execution_count": 185,
   "outputs": [],
   "source": [
    "data = to_utc_datetime(add_weather_data(get_price()))\n",
    "data.drop(columns=[\"weather_main\", \"weather_description\", \"TSO_price_forecast\"], inplace=True)\n",
    "data.fillna(method=\"ffill\", inplace=True)\n",
    "data = data.drop(columns=[\"city_name\"]).groupby(by=[\"time\"]).mean()"
   ],
   "metadata": {
    "collapsed": false,
    "pycharm": {
     "name": "#%%\n"
    }
   }
  },
  {
   "cell_type": "code",
   "execution_count": 186,
   "outputs": [],
   "source": [
    "#differencing\n",
    "data[\"price_\"] = data[\"price\"]\n",
    "data[\"price\"] = data[\"price\"].diff()\n",
    "\n",
    "target_year = 2018\n",
    "train_data = data.loc[data.index.year != target_year]\n",
    "train_data = train_data.drop(columns=\"price_\")\n",
    "train_data = train_data.iloc[1:]\n",
    "test_data = data.loc[data.index.year == target_year]\n",
    "test_data = test_data.drop(columns=\"price_\")"
   ],
   "metadata": {
    "collapsed": false,
    "pycharm": {
     "name": "#%%\n"
    }
   }
  },
  {
   "cell_type": "code",
   "execution_count": 99,
   "outputs": [
    {
     "data": {
      "text/plain": "False"
     },
     "execution_count": 99,
     "metadata": {},
     "output_type": "execute_result"
    }
   ],
   "source": [
    "train_data.isna().values.any()"
   ],
   "metadata": {
    "collapsed": false,
    "pycharm": {
     "name": "#%%\n"
    }
   }
  },
  {
   "cell_type": "code",
   "execution_count": 183,
   "outputs": [],
   "source": [
    "target_year = 2018\n",
    "train_data = data.loc[data.index.year != target_year]\n",
    "test_data = data.loc[data.index.year == target_year]"
   ],
   "metadata": {
    "collapsed": false,
    "pycharm": {
     "name": "#%%\n"
    }
   }
  },
  {
   "cell_type": "code",
   "execution_count": 77,
   "outputs": [],
   "source": [
    "scaler_y = MinMaxScaler()\n",
    "scaler_y.fit(train_data[\"price\"].values.reshape(-1, 1))\n",
    "\n",
    "scaler = MinMaxScaler()\n",
    "train_data_scaled = scaler.fit_transform(train_data)\n",
    "device = torch.device(\"cuda\" if torch.cuda.is_available() else \"cpu\")\n",
    "#train_data_scaled = torch.FloatTensor(train_data_scaled).to(device)"
   ],
   "metadata": {
    "collapsed": false,
    "pycharm": {
     "name": "#%%\n"
    }
   }
  },
  {
   "cell_type": "code",
   "execution_count": 121,
   "outputs": [],
   "source": [
    "def create_input_output_sequence(input_data, seq_len, multivar=False):\n",
    "    # if multivar: target column has to be the last column\n",
    "    X = []\n",
    "    y = []\n",
    "    L = len(input_data)\n",
    "    for i in range(L-seq_len):\n",
    "        train_seq = input_data[i:i+seq_len]\n",
    "        train_label = input_data[i+seq_len:i+seq_len+1]\n",
    "        if multivar:\n",
    "            train_label = train_label[:, -1]\n",
    "        X.append(train_seq)\n",
    "        y.append(train_label)\n",
    "    X=torch.FloatTensor(X).to(device)\n",
    "    y=torch.FloatTensor(y).to(device)\n",
    "    return X, y\n",
    "\n",
    "X, y = create_input_output_sequence(train_data_scaled, 24*7, True)"
   ],
   "metadata": {
    "collapsed": false,
    "pycharm": {
     "name": "#%%\n"
    }
   }
  },
  {
   "cell_type": "code",
   "execution_count": 122,
   "outputs": [
    {
     "data": {
      "text/plain": "tensor([[0.0154, 0.0010, 0.7609,  ..., 0.0000, 0.2760, 0.4230],\n        [0.0042, 0.0010, 0.7554,  ..., 0.0000, 0.2043, 0.4237],\n        [0.0040, 0.0010, 0.7554,  ..., 0.0000, 0.1412, 0.3603],\n        ...,\n        [0.1332, 0.0010, 0.7989,  ..., 0.1087, 0.6379, 0.3097],\n        [0.1147, 0.0010, 0.7989,  ..., 0.1478, 0.5413, 0.3882],\n        [0.1255, 0.0010, 0.8016,  ..., 0.1478, 0.3807, 0.4116]],\n       device='cuda:0')"
     },
     "execution_count": 122,
     "metadata": {},
     "output_type": "execute_result"
    }
   ],
   "source": [
    "X[0]\n",
    "#print(X[2][-1])\n",
    "#print(y[1])\n",
    "#train_data_scaled[0]"
   ],
   "metadata": {
    "collapsed": false,
    "pycharm": {
     "name": "#%%\n"
    }
   }
  },
  {
   "cell_type": "code",
   "execution_count": 37,
   "outputs": [],
   "source": [
    "class LSTM(nn.Module):\n",
    "    def __init__(self, input_size=1, batch_size=1, hidden_layer_size=100, output_size=1):\n",
    "        super().__init__()\n",
    "        self.hidden_layer_size = hidden_layer_size\n",
    "\n",
    "        self.lstm = nn.LSTM(input_size, hidden_layer_size, batch_first=True)\n",
    "\n",
    "        self.linear = nn.Linear(hidden_layer_size, output_size)\n",
    "\n",
    "        self.hidden_cell = (torch.zeros(1,batch_size,self.hidden_layer_size).to(device),\n",
    "                            torch.zeros(1,batch_size,self.hidden_layer_size).to(device))\n",
    "\n",
    "    def forward(self, input_seq):\n",
    "        lstm_out, self.hidden_cell = self.lstm(input_seq, self.hidden_cell)\n",
    "        predictions = self.linear(self.hidden_cell[0])\n",
    "        return predictions[-1]\n",
    "\n",
    "class LSTMModel(nn.Module):\n",
    "    def __init__(self, input_dim, hidden_dim, layer_dim, output_dim):\n",
    "        super(LSTMModel, self).__init__()\n",
    "        # Hidden dimensions\n",
    "        self.hidden_dim = hidden_dim\n",
    "\n",
    "        # Number of hidden layers\n",
    "        self.layer_dim = layer_dim\n",
    "\n",
    "        # Building your LSTM\n",
    "        # batch_first=True causes input/output tensors to be of shape\n",
    "        # (batch_dim, seq_dim, feature_dim)\n",
    "        self.lstm = nn.LSTM(input_dim, hidden_dim, layer_dim, batch_first=True)\n",
    "\n",
    "        # Readout layer\n",
    "        self.fc = nn.Linear(hidden_dim, output_dim)\n",
    "\n",
    "    def forward(self, x):\n",
    "        # Initialize hidden state with zeros\n",
    "        #######################\n",
    "        #  USE GPU FOR MODEL  #\n",
    "        #######################\n",
    "        h0 = torch.zeros(self.layer_dim, x.size(0), self.hidden_dim).requires_grad_().to(device)\n",
    "\n",
    "        # Initialize cell state\n",
    "        c0 = torch.zeros(self.layer_dim, x.size(0), self.hidden_dim).requires_grad_().to(device)\n",
    "\n",
    "        # One time step\n",
    "        out, (hn, cn) = self.lstm(x.view(len(x) ,1, -1), (h0.detach(), c0.detach()))\n",
    "\n",
    "        # Index hidden state of last time step\n",
    "        # out.size() --> 100, 28, 100\n",
    "        # out[:, -1, :] --> 100, 100 --> just want last time step hidden states!\n",
    "        out = self.fc(out[:, -1, :])\n",
    "        # out.size() --> 100, 10\n",
    "        return out"
   ],
   "metadata": {
    "collapsed": false,
    "pycharm": {
     "name": "#%%\n"
    }
   }
  },
  {
   "cell_type": "code",
   "execution_count": 123,
   "outputs": [
    {
     "data": {
      "text/plain": "LSTM(\n  (lstm): LSTM(11, 100, batch_first=True)\n  (linear): Linear(in_features=100, out_features=1, bias=True)\n)"
     },
     "execution_count": 123,
     "metadata": {},
     "output_type": "execute_result"
    }
   ],
   "source": [
    "mini_batch = 100\n",
    "model = LSTM(input_size=11,batch_size=mini_batch)\n",
    "#model = LSTMModel(input_dim=11, hidden_dim=100, layer_dim=2, output_dim=1)\n",
    "loss = nn.MSELoss()\n",
    "optimizer = torch.optim.Adam(model.parameters(), lr=0.001)\n",
    "model.to(device)"
   ],
   "metadata": {
    "collapsed": false,
    "pycharm": {
     "name": "#%%\n"
    }
   }
  },
  {
   "cell_type": "code",
   "execution_count": 124,
   "outputs": [
    {
     "name": "stdout",
     "output_type": "stream",
     "text": [
      "epoch:   1 loss: 0.17384781\n",
      "epoch:   6 loss: 0.16121028\n",
      "epoch:  11 loss: 0.14949268\n",
      "epoch:  16 loss: 0.13019384\n",
      "epoch:  21 loss: 0.11777828\n",
      "epoch:  26 loss: 0.10615817\n",
      "epoch:  31 loss: 0.09967572\n",
      "epoch:  36 loss: 0.08094903\n",
      "epoch:  41 loss: 0.08024263\n",
      "epoch:  46 loss: 0.06146123\n",
      "epoch:  51 loss: 0.05624681\n",
      "epoch:  56 loss: 0.04951898\n",
      "epoch:  61 loss: 0.03331634\n",
      "epoch:  66 loss: 0.02774880\n",
      "epoch:  71 loss: 0.01636568\n",
      "epoch:  76 loss: 0.00977111\n",
      "epoch:  81 loss: 0.00773009\n",
      "epoch:  86 loss: 0.00422819\n",
      "epoch:  91 loss: 0.00714806\n",
      "epoch:  96 loss: 0.00431438\n",
      "epoch: 101 loss: 0.00424183\n",
      "epoch: 106 loss: 0.00378791\n",
      "epoch: 111 loss: 0.00501994\n",
      "epoch: 116 loss: 0.00592082\n",
      "epoch: 121 loss: 0.00484592\n",
      "epoch: 126 loss: 0.00362127\n",
      "epoch: 131 loss: 0.00475854\n",
      "epoch: 136 loss: 0.00468818\n",
      "epoch: 141 loss: 0.00546384\n",
      "epoch: 146 loss: 0.00407012\n",
      "epoch: 151 loss: 0.00382855\n",
      "epoch: 156 loss: 0.00365170\n",
      "epoch: 161 loss: 0.00400353\n",
      "epoch: 166 loss: 0.00454931\n",
      "epoch: 171 loss: 0.00354872\n",
      "epoch: 176 loss: 0.00427138\n",
      "epoch: 181 loss: 0.00446569\n",
      "epoch: 186 loss: 0.00370853\n",
      "epoch: 191 loss: 0.00431109\n",
      "epoch: 196 loss: 0.00472972\n",
      "epoch: 201 loss: 0.00367488\n",
      "epoch: 206 loss: 0.00318818\n",
      "epoch: 211 loss: 0.00446798\n",
      "epoch: 216 loss: 0.00344627\n",
      "epoch: 221 loss: 0.00464621\n",
      "epoch: 226 loss: 0.00327026\n",
      "epoch: 231 loss: 0.00428936\n",
      "epoch: 236 loss: 0.00332821\n",
      "epoch: 241 loss: 0.00398212\n",
      "epoch: 246 loss: 0.00291714\n",
      "epoch: 251 loss: 0.00353564\n",
      "epoch: 256 loss: 0.00253764\n",
      "epoch: 261 loss: 0.00504673\n",
      "epoch: 266 loss: 0.00410801\n",
      "epoch: 271 loss: 0.00334344\n",
      "epoch: 276 loss: 0.00341130\n",
      "epoch: 281 loss: 0.00375931\n",
      "epoch: 286 loss: 0.00432015\n",
      "epoch: 291 loss: 0.00354633\n",
      "epoch: 296 loss: 0.00379412\n",
      "epoch: 301 loss: 0.00378742\n",
      "epoch: 306 loss: 0.00373040\n",
      "epoch: 311 loss: 0.00240086\n",
      "epoch: 316 loss: 0.00319988\n",
      "epoch: 321 loss: 0.00277849\n",
      "epoch: 326 loss: 0.00415167\n",
      "epoch: 331 loss: 0.00279571\n",
      "epoch: 336 loss: 0.00517300\n",
      "epoch: 341 loss: 0.00322261\n",
      "epoch: 346 loss: 0.00400632\n",
      "epoch: 351 loss: 0.00283918\n",
      "epoch: 356 loss: 0.00360733\n",
      "epoch: 361 loss: 0.00387964\n",
      "epoch: 366 loss: 0.00370011\n",
      "epoch: 371 loss: 0.00240181\n",
      "epoch: 376 loss: 0.00236123\n",
      "epoch: 381 loss: 0.00232154\n",
      "epoch: 386 loss: 0.00497695\n",
      "epoch: 391 loss: 0.00303535\n",
      "epoch: 396 loss: 0.00245037\n",
      "epoch: 401 loss: 0.00312001\n",
      "epoch: 406 loss: 0.00295390\n",
      "epoch: 411 loss: 0.00285718\n",
      "epoch: 416 loss: 0.00282113\n",
      "epoch: 421 loss: 0.00326826\n",
      "epoch: 426 loss: 0.00266010\n",
      "epoch: 431 loss: 0.00403523\n",
      "epoch: 436 loss: 0.00257945\n",
      "epoch: 441 loss: 0.00259343\n",
      "epoch: 446 loss: 0.00253909\n",
      "epoch: 451 loss: 0.00338650\n",
      "epoch: 456 loss: 0.00413047\n",
      "epoch: 461 loss: 0.00332998\n",
      "epoch: 466 loss: 0.00291783\n",
      "epoch: 471 loss: 0.00332498\n",
      "epoch: 476 loss: 0.00205587\n",
      "epoch: 481 loss: 0.00263712\n",
      "epoch: 486 loss: 0.00229904\n",
      "epoch: 491 loss: 0.00341263\n",
      "epoch: 496 loss: 0.00291143\n",
      "epoch: 501 loss: 0.00258928\n",
      "epoch: 506 loss: 0.00192424\n",
      "epoch: 511 loss: 0.00333200\n",
      "epoch: 516 loss: 0.00361364\n",
      "epoch: 521 loss: 0.00327901\n",
      "epoch: 526 loss: 0.00300583\n",
      "epoch: 531 loss: 0.00237863\n",
      "epoch: 536 loss: 0.00188287\n",
      "epoch: 541 loss: 0.00361531\n",
      "epoch: 546 loss: 0.00318514\n",
      "epoch: 551 loss: 0.00223980\n",
      "epoch: 556 loss: 0.00271325\n",
      "epoch: 561 loss: 0.00287494\n",
      "epoch: 566 loss: 0.00228557\n",
      "epoch: 571 loss: 0.00229159\n",
      "epoch: 576 loss: 0.00216117\n",
      "epoch: 581 loss: 0.00238405\n",
      "epoch: 586 loss: 0.00270981\n",
      "epoch: 591 loss: 0.00178667\n",
      "epoch: 596 loss: 0.00223247\n",
      "epoch: 601 loss: 0.00227370\n",
      "epoch: 606 loss: 0.00256733\n",
      "epoch: 611 loss: 0.00221667\n",
      "epoch: 616 loss: 0.00287325\n",
      "epoch: 621 loss: 0.00292940\n",
      "epoch: 626 loss: 0.00303028\n",
      "epoch: 631 loss: 0.00256176\n",
      "epoch: 636 loss: 0.00468770\n",
      "epoch: 641 loss: 0.00161967\n",
      "epoch: 646 loss: 0.00257087\n",
      "epoch: 651 loss: 0.00297046\n",
      "epoch: 656 loss: 0.00140115\n",
      "epoch: 661 loss: 0.00262400\n",
      "epoch: 666 loss: 0.00312598\n",
      "epoch: 671 loss: 0.00233948\n",
      "epoch: 676 loss: 0.00251064\n",
      "epoch: 681 loss: 0.00213757\n",
      "epoch: 686 loss: 0.00252007\n",
      "epoch: 691 loss: 0.00210390\n",
      "epoch: 696 loss: 0.00262366\n",
      "epoch: 701 loss: 0.00299038\n",
      "epoch: 706 loss: 0.00320010\n",
      "epoch: 711 loss: 0.00221589\n",
      "epoch: 716 loss: 0.00185389\n",
      "epoch: 721 loss: 0.00232632\n",
      "epoch: 726 loss: 0.00270949\n",
      "epoch: 731 loss: 0.00224003\n",
      "epoch: 736 loss: 0.00272382\n",
      "epoch: 741 loss: 0.00264983\n",
      "epoch: 746 loss: 0.00230406\n",
      "epoch: 751 loss: 0.00247684\n",
      "epoch: 756 loss: 0.00228304\n",
      "epoch: 761 loss: 0.00209321\n",
      "epoch: 766 loss: 0.00153929\n",
      "epoch: 771 loss: 0.00225036\n",
      "epoch: 776 loss: 0.00235635\n",
      "epoch: 781 loss: 0.00339155\n",
      "epoch: 786 loss: 0.00286355\n",
      "epoch: 791 loss: 0.00293224\n",
      "epoch: 796 loss: 0.00213810\n",
      "epoch: 801 loss: 0.00172065\n",
      "epoch: 806 loss: 0.00338064\n",
      "epoch: 811 loss: 0.00157117\n",
      "epoch: 816 loss: 0.00177945\n",
      "epoch: 821 loss: 0.00385476\n",
      "epoch: 826 loss: 0.00343797\n",
      "epoch: 831 loss: 0.00213602\n",
      "epoch: 836 loss: 0.00124137\n",
      "epoch: 841 loss: 0.00252911\n",
      "epoch: 846 loss: 0.00409746\n",
      "epoch: 851 loss: 0.00260727\n",
      "epoch: 856 loss: 0.00150827\n",
      "epoch: 861 loss: 0.00295633\n",
      "epoch: 866 loss: 0.00191308\n",
      "epoch: 871 loss: 0.00559779\n",
      "epoch: 876 loss: 0.00395339\n",
      "epoch: 881 loss: 0.00218128\n",
      "epoch: 886 loss: 0.00310532\n",
      "epoch: 891 loss: 0.00354259\n",
      "epoch: 896 loss: 0.00279171\n",
      "epoch: 901 loss: 0.00149903\n",
      "epoch: 906 loss: 0.00269702\n",
      "epoch: 911 loss: 0.00279890\n",
      "epoch: 916 loss: 0.00222719\n",
      "epoch: 921 loss: 0.00193413\n",
      "epoch: 926 loss: 0.00277368\n",
      "epoch: 931 loss: 0.00171112\n",
      "epoch: 936 loss: 0.00225474\n",
      "epoch: 941 loss: 0.00160948\n",
      "epoch: 946 loss: 0.00210723\n",
      "epoch: 951 loss: 0.00260033\n",
      "epoch: 956 loss: 0.00248320\n",
      "epoch: 961 loss: 0.00243313\n",
      "epoch: 966 loss: 0.00224527\n",
      "epoch: 971 loss: 0.00252004\n",
      "epoch: 976 loss: 0.00219892\n",
      "epoch: 981 loss: 0.00201293\n",
      "epoch: 986 loss: 0.00221327\n",
      "epoch: 991 loss: 0.00234534\n",
      "epoch: 996 loss: 0.00205006\n",
      "epoch: 999 loss: 0.0020925724\n"
     ]
    },
    {
     "name": "stderr",
     "output_type": "stream",
     "text": [
      "C:\\Users\\Andre\\anaconda3\\envs\\Forecast\\lib\\site-packages\\torch\\autograd\\anomaly_mode.py:70: UserWarning: Anomaly Detection has been enabled. This mode will increase the runtime and should only be enabled for debugging.\n",
      "  warnings.warn('Anomaly Detection has been enabled. '\n"
     ]
    }
   ],
   "source": [
    "epochs = 1000\n",
    "\n",
    "for i in range(epochs):\n",
    "    with torch.autograd.detect_anomaly():\n",
    "        idx = np.random.choice(X.shape[0], mini_batch, replace=False)\n",
    "        optimizer.zero_grad()\n",
    "        model.hidden_cell = (torch.zeros(1, mini_batch, model.hidden_layer_size).to(device),\n",
    "                             torch.zeros(1, mini_batch, model.hidden_layer_size).to(device))\n",
    "        y_pred = model(X[idx])\n",
    "        single_loss = loss(y_pred, y[idx])\n",
    "        single_loss.backward()\n",
    "        optimizer.step()\n",
    "\n",
    "        if i%5 == 1:\n",
    "            print(f'epoch: {i:3} loss: {single_loss.item():10.8f}')\n",
    "\n",
    "print(f'epoch: {i:3} loss: {single_loss.item():10.10f}')"
   ],
   "metadata": {
    "collapsed": false,
    "pycharm": {
     "name": "#%%\n"
    }
   }
  },
  {
   "cell_type": "code",
   "execution_count": 194,
   "outputs": [
    {
     "name": "stderr",
     "output_type": "stream",
     "text": [
      "100%|██████████| 8759/8759 [00:25<00:00, 339.59it/s]\n"
     ]
    }
   ],
   "source": [
    "window = 24*7\n",
    "test_inputs = train_data_scaled[-window:].tolist()\n",
    "prediction = []\n",
    "for i in tqdm(range(len(test_data))):\n",
    "    seq = torch.FloatTensor(test_inputs[-window:]).to(device)\n",
    "    #print(seq.unsqueeze_(0).size())\n",
    "    with torch.no_grad():\n",
    "        model.hidden_cell = (torch.zeros(1, 1, model.hidden_layer_size).to(device),\n",
    "                             torch.zeros(1, 1, model.hidden_layer_size).to(device))\n",
    "        output = model(seq.unsqueeze_(0))\n",
    "        prediction.append(output)\n",
    "        next_input = scaler.transform(test_data.iloc[i].values.reshape(1, -1)).reshape(-1)\n",
    "        #next_input = next_input + (np.append(np.random.normal(0, 0.1, 10), 0))         # noise\n",
    "        #next_input[-1] = output                                                        # prediction instead of real value\n",
    "        test_inputs.append(next_input)\n",
    "\n",
    "prediction = np.array(prediction)\n",
    "prediction_df = test_data.assign(prediction=scaler_y.inverse_transform(prediction.reshape(-1, 1)).reshape(-1)).reset_index()"
   ],
   "metadata": {
    "collapsed": false,
    "pycharm": {
     "name": "#%%\n"
    }
   }
  },
  {
   "cell_type": "code",
   "execution_count": 36,
   "outputs": [
    {
     "name": "stdout",
     "output_type": "stream",
     "text": [
      "absolute difference to prediction at t-1 2.326914\n",
      "absolute difference to price at t-1 2.258744\n"
     ]
    }
   ],
   "source": [
    "print(\"absolute difference to prediction at t-1 %f\" % prediction_df[\"prediction\"].diff().abs().mean())\n",
    "print(\"absolute difference to price at t-1 %f\" % prediction_df[\"price\"].diff().abs().mean())"
   ],
   "metadata": {
    "collapsed": false,
    "pycharm": {
     "name": "#%%\n"
    }
   }
  },
  {
   "cell_type": "code",
   "execution_count": 50,
   "outputs": [
    {
     "ename": "KeyboardInterrupt",
     "evalue": "",
     "output_type": "error",
     "traceback": [
      "\u001B[1;31m---------------------------------------------------------------------------\u001B[0m",
      "\u001B[1;31mKeyboardInterrupt\u001B[0m                         Traceback (most recent call last)",
      "\u001B[1;32m<ipython-input-50-c867ef74c5d0>\u001B[0m in \u001B[0;36m<module>\u001B[1;34m\u001B[0m\n\u001B[0;32m     21\u001B[0m     \u001B[0mseq\u001B[0m \u001B[1;33m=\u001B[0m \u001B[0mcopy\u001B[0m\u001B[1;33m.\u001B[0m\u001B[0mdeepcopy\u001B[0m\u001B[1;33m(\u001B[0m\u001B[0mtest_inputs\u001B[0m\u001B[1;33m[\u001B[0m\u001B[0mi\u001B[0m\u001B[1;33m:\u001B[0m\u001B[0mi\u001B[0m\u001B[1;33m+\u001B[0m\u001B[0mseq_len\u001B[0m\u001B[1;33m]\u001B[0m\u001B[1;33m)\u001B[0m\u001B[1;33m\u001B[0m\u001B[1;33m\u001B[0m\u001B[0m\n\u001B[0;32m     22\u001B[0m     \u001B[0mseq_f\u001B[0m \u001B[1;33m=\u001B[0m \u001B[0mtest_data_scaled\u001B[0m\u001B[1;33m[\u001B[0m\u001B[0mi\u001B[0m\u001B[1;33m:\u001B[0m\u001B[0mi\u001B[0m\u001B[1;33m+\u001B[0m\u001B[0mprediction_len\u001B[0m\u001B[1;33m]\u001B[0m\u001B[1;33m\u001B[0m\u001B[1;33m\u001B[0m\u001B[0m\n\u001B[1;32m---> 23\u001B[1;33m     \u001B[0mprediction\u001B[0m\u001B[1;33m.\u001B[0m\u001B[0mappend\u001B[0m\u001B[1;33m(\u001B[0m\u001B[0mrolling_forecast\u001B[0m\u001B[1;33m(\u001B[0m\u001B[0mseq\u001B[0m\u001B[1;33m,\u001B[0m \u001B[0mseq_f\u001B[0m\u001B[1;33m)\u001B[0m\u001B[1;33m)\u001B[0m\u001B[1;33m\u001B[0m\u001B[1;33m\u001B[0m\u001B[0m\n\u001B[0m\u001B[0;32m     24\u001B[0m \u001B[1;33m\u001B[0m\u001B[0m\n\u001B[0;32m     25\u001B[0m \u001B[0mprediction\u001B[0m \u001B[1;33m=\u001B[0m \u001B[0mnp\u001B[0m\u001B[1;33m.\u001B[0m\u001B[0marray\u001B[0m\u001B[1;33m(\u001B[0m\u001B[0mprediction\u001B[0m\u001B[1;33m)\u001B[0m\u001B[1;33m\u001B[0m\u001B[1;33m\u001B[0m\u001B[0m\n",
      "\u001B[1;32m<ipython-input-50-c867ef74c5d0>\u001B[0m in \u001B[0;36mrolling_forecast\u001B[1;34m(seq, feature_data)\u001B[0m\n\u001B[0;32m     11\u001B[0m             model.hidden_cell = (torch.zeros(1, 1, model.hidden_layer_size).to(device),\n\u001B[0;32m     12\u001B[0m                                  torch.zeros(1, 1, model.hidden_layer_size).to(device))\n\u001B[1;32m---> 13\u001B[1;33m             \u001B[0moutput\u001B[0m \u001B[1;33m=\u001B[0m \u001B[0mmodel\u001B[0m\u001B[1;33m(\u001B[0m\u001B[0mmodel_input\u001B[0m\u001B[1;33m.\u001B[0m\u001B[0munsqueeze_\u001B[0m\u001B[1;33m(\u001B[0m\u001B[1;36m0\u001B[0m\u001B[1;33m)\u001B[0m\u001B[1;33m)\u001B[0m\u001B[1;33m\u001B[0m\u001B[1;33m\u001B[0m\u001B[0m\n\u001B[0m\u001B[0;32m     14\u001B[0m             \u001B[0mpredictions\u001B[0m\u001B[1;33m.\u001B[0m\u001B[0mappend\u001B[0m\u001B[1;33m(\u001B[0m\u001B[0moutput\u001B[0m\u001B[1;33m)\u001B[0m\u001B[1;33m\u001B[0m\u001B[1;33m\u001B[0m\u001B[0m\n\u001B[0;32m     15\u001B[0m             \u001B[0mseq\u001B[0m\u001B[1;33m.\u001B[0m\u001B[0mappend\u001B[0m\u001B[1;33m(\u001B[0m\u001B[0mfeature_data\u001B[0m\u001B[1;33m[\u001B[0m\u001B[0mi\u001B[0m\u001B[1;33m]\u001B[0m\u001B[1;33m)\u001B[0m\u001B[1;33m\u001B[0m\u001B[1;33m\u001B[0m\u001B[0m\n",
      "\u001B[1;32m~\\anaconda3\\envs\\Forecast\\lib\\site-packages\\torch\\nn\\modules\\module.py\u001B[0m in \u001B[0;36m__call__\u001B[1;34m(self, *input, **kwargs)\u001B[0m\n\u001B[0;32m    548\u001B[0m             \u001B[0mresult\u001B[0m \u001B[1;33m=\u001B[0m \u001B[0mself\u001B[0m\u001B[1;33m.\u001B[0m\u001B[0m_slow_forward\u001B[0m\u001B[1;33m(\u001B[0m\u001B[1;33m*\u001B[0m\u001B[0minput\u001B[0m\u001B[1;33m,\u001B[0m \u001B[1;33m**\u001B[0m\u001B[0mkwargs\u001B[0m\u001B[1;33m)\u001B[0m\u001B[1;33m\u001B[0m\u001B[1;33m\u001B[0m\u001B[0m\n\u001B[0;32m    549\u001B[0m         \u001B[1;32melse\u001B[0m\u001B[1;33m:\u001B[0m\u001B[1;33m\u001B[0m\u001B[1;33m\u001B[0m\u001B[0m\n\u001B[1;32m--> 550\u001B[1;33m             \u001B[0mresult\u001B[0m \u001B[1;33m=\u001B[0m \u001B[0mself\u001B[0m\u001B[1;33m.\u001B[0m\u001B[0mforward\u001B[0m\u001B[1;33m(\u001B[0m\u001B[1;33m*\u001B[0m\u001B[0minput\u001B[0m\u001B[1;33m,\u001B[0m \u001B[1;33m**\u001B[0m\u001B[0mkwargs\u001B[0m\u001B[1;33m)\u001B[0m\u001B[1;33m\u001B[0m\u001B[1;33m\u001B[0m\u001B[0m\n\u001B[0m\u001B[0;32m    551\u001B[0m         \u001B[1;32mfor\u001B[0m \u001B[0mhook\u001B[0m \u001B[1;32min\u001B[0m \u001B[0mself\u001B[0m\u001B[1;33m.\u001B[0m\u001B[0m_forward_hooks\u001B[0m\u001B[1;33m.\u001B[0m\u001B[0mvalues\u001B[0m\u001B[1;33m(\u001B[0m\u001B[1;33m)\u001B[0m\u001B[1;33m:\u001B[0m\u001B[1;33m\u001B[0m\u001B[1;33m\u001B[0m\u001B[0m\n\u001B[0;32m    552\u001B[0m             \u001B[0mhook_result\u001B[0m \u001B[1;33m=\u001B[0m \u001B[0mhook\u001B[0m\u001B[1;33m(\u001B[0m\u001B[0mself\u001B[0m\u001B[1;33m,\u001B[0m \u001B[0minput\u001B[0m\u001B[1;33m,\u001B[0m \u001B[0mresult\u001B[0m\u001B[1;33m)\u001B[0m\u001B[1;33m\u001B[0m\u001B[1;33m\u001B[0m\u001B[0m\n",
      "\u001B[1;32m<ipython-input-37-69aeead1b40a>\u001B[0m in \u001B[0;36mforward\u001B[1;34m(self, input_seq)\u001B[0m\n\u001B[0;32m     12\u001B[0m \u001B[1;33m\u001B[0m\u001B[0m\n\u001B[0;32m     13\u001B[0m     \u001B[1;32mdef\u001B[0m \u001B[0mforward\u001B[0m\u001B[1;33m(\u001B[0m\u001B[0mself\u001B[0m\u001B[1;33m,\u001B[0m \u001B[0minput_seq\u001B[0m\u001B[1;33m)\u001B[0m\u001B[1;33m:\u001B[0m\u001B[1;33m\u001B[0m\u001B[1;33m\u001B[0m\u001B[0m\n\u001B[1;32m---> 14\u001B[1;33m         \u001B[0mlstm_out\u001B[0m\u001B[1;33m,\u001B[0m \u001B[0mself\u001B[0m\u001B[1;33m.\u001B[0m\u001B[0mhidden_cell\u001B[0m \u001B[1;33m=\u001B[0m \u001B[0mself\u001B[0m\u001B[1;33m.\u001B[0m\u001B[0mlstm\u001B[0m\u001B[1;33m(\u001B[0m\u001B[0minput_seq\u001B[0m\u001B[1;33m,\u001B[0m \u001B[0mself\u001B[0m\u001B[1;33m.\u001B[0m\u001B[0mhidden_cell\u001B[0m\u001B[1;33m)\u001B[0m\u001B[1;33m\u001B[0m\u001B[1;33m\u001B[0m\u001B[0m\n\u001B[0m\u001B[0;32m     15\u001B[0m         \u001B[0mpredictions\u001B[0m \u001B[1;33m=\u001B[0m \u001B[0mself\u001B[0m\u001B[1;33m.\u001B[0m\u001B[0mlinear\u001B[0m\u001B[1;33m(\u001B[0m\u001B[0mself\u001B[0m\u001B[1;33m.\u001B[0m\u001B[0mhidden_cell\u001B[0m\u001B[1;33m[\u001B[0m\u001B[1;36m0\u001B[0m\u001B[1;33m]\u001B[0m\u001B[1;33m)\u001B[0m\u001B[1;33m\u001B[0m\u001B[1;33m\u001B[0m\u001B[0m\n\u001B[0;32m     16\u001B[0m         \u001B[1;32mreturn\u001B[0m \u001B[0mpredictions\u001B[0m\u001B[1;33m[\u001B[0m\u001B[1;33m-\u001B[0m\u001B[1;36m1\u001B[0m\u001B[1;33m]\u001B[0m\u001B[1;33m\u001B[0m\u001B[1;33m\u001B[0m\u001B[0m\n",
      "\u001B[1;32m~\\anaconda3\\envs\\Forecast\\lib\\site-packages\\torch\\nn\\modules\\module.py\u001B[0m in \u001B[0;36m__call__\u001B[1;34m(self, *input, **kwargs)\u001B[0m\n\u001B[0;32m    548\u001B[0m             \u001B[0mresult\u001B[0m \u001B[1;33m=\u001B[0m \u001B[0mself\u001B[0m\u001B[1;33m.\u001B[0m\u001B[0m_slow_forward\u001B[0m\u001B[1;33m(\u001B[0m\u001B[1;33m*\u001B[0m\u001B[0minput\u001B[0m\u001B[1;33m,\u001B[0m \u001B[1;33m**\u001B[0m\u001B[0mkwargs\u001B[0m\u001B[1;33m)\u001B[0m\u001B[1;33m\u001B[0m\u001B[1;33m\u001B[0m\u001B[0m\n\u001B[0;32m    549\u001B[0m         \u001B[1;32melse\u001B[0m\u001B[1;33m:\u001B[0m\u001B[1;33m\u001B[0m\u001B[1;33m\u001B[0m\u001B[0m\n\u001B[1;32m--> 550\u001B[1;33m             \u001B[0mresult\u001B[0m \u001B[1;33m=\u001B[0m \u001B[0mself\u001B[0m\u001B[1;33m.\u001B[0m\u001B[0mforward\u001B[0m\u001B[1;33m(\u001B[0m\u001B[1;33m*\u001B[0m\u001B[0minput\u001B[0m\u001B[1;33m,\u001B[0m \u001B[1;33m**\u001B[0m\u001B[0mkwargs\u001B[0m\u001B[1;33m)\u001B[0m\u001B[1;33m\u001B[0m\u001B[1;33m\u001B[0m\u001B[0m\n\u001B[0m\u001B[0;32m    551\u001B[0m         \u001B[1;32mfor\u001B[0m \u001B[0mhook\u001B[0m \u001B[1;32min\u001B[0m \u001B[0mself\u001B[0m\u001B[1;33m.\u001B[0m\u001B[0m_forward_hooks\u001B[0m\u001B[1;33m.\u001B[0m\u001B[0mvalues\u001B[0m\u001B[1;33m(\u001B[0m\u001B[1;33m)\u001B[0m\u001B[1;33m:\u001B[0m\u001B[1;33m\u001B[0m\u001B[1;33m\u001B[0m\u001B[0m\n\u001B[0;32m    552\u001B[0m             \u001B[0mhook_result\u001B[0m \u001B[1;33m=\u001B[0m \u001B[0mhook\u001B[0m\u001B[1;33m(\u001B[0m\u001B[0mself\u001B[0m\u001B[1;33m,\u001B[0m \u001B[0minput\u001B[0m\u001B[1;33m,\u001B[0m \u001B[0mresult\u001B[0m\u001B[1;33m)\u001B[0m\u001B[1;33m\u001B[0m\u001B[1;33m\u001B[0m\u001B[0m\n",
      "\u001B[1;32m~\\anaconda3\\envs\\Forecast\\lib\\site-packages\\torch\\nn\\modules\\rnn.py\u001B[0m in \u001B[0;36mforward\u001B[1;34m(self, input, hx)\u001B[0m\n\u001B[0;32m    568\u001B[0m         \u001B[1;32mif\u001B[0m \u001B[0mbatch_sizes\u001B[0m \u001B[1;32mis\u001B[0m \u001B[1;32mNone\u001B[0m\u001B[1;33m:\u001B[0m\u001B[1;33m\u001B[0m\u001B[1;33m\u001B[0m\u001B[0m\n\u001B[0;32m    569\u001B[0m             result = _VF.lstm(input, hx, self._flat_weights, self.bias, self.num_layers,\n\u001B[1;32m--> 570\u001B[1;33m                               self.dropout, self.training, self.bidirectional, self.batch_first)\n\u001B[0m\u001B[0;32m    571\u001B[0m         \u001B[1;32melse\u001B[0m\u001B[1;33m:\u001B[0m\u001B[1;33m\u001B[0m\u001B[1;33m\u001B[0m\u001B[0m\n\u001B[0;32m    572\u001B[0m             result = _VF.lstm(input, batch_sizes, hx, self._flat_weights, self.bias,\n",
      "\u001B[1;31mKeyboardInterrupt\u001B[0m: "
     ]
    }
   ],
   "source": [
    "seq_len = 24*7\n",
    "prediction_len = 24*7\n",
    "test_data_scaled = scaler.transform(test_data)\n",
    "test_inputs = np.vstack((train_data_scaled[-seq_len:].tolist(), test_data_scaled)).tolist()\n",
    "\n",
    "def rolling_forecast(seq, feature_data):\n",
    "    predictions = []\n",
    "    for i in range(feature_data.shape[0]):\n",
    "        with torch.no_grad():\n",
    "            model_input = torch.FloatTensor(seq[i:]).to(device)\n",
    "            model.hidden_cell = (torch.zeros(1, 1, model.hidden_layer_size).to(device),\n",
    "                                 torch.zeros(1, 1, model.hidden_layer_size).to(device))\n",
    "            output = model(model_input.unsqueeze_(0))\n",
    "            predictions.append(output)\n",
    "            seq.append(feature_data[i])\n",
    "            seq[-1][-1] = output\n",
    "    return predictions\n",
    "\n",
    "prediction = []\n",
    "for i in range(len(test_data) - prediction_len):\n",
    "    seq = copy.deepcopy(test_inputs[i:i+seq_len])\n",
    "    seq_f = test_data_scaled[i:i+prediction_len]\n",
    "    prediction.append(rolling_forecast(seq, seq_f))\n",
    "\n",
    "prediction = np.array(prediction)\n",
    "prediction.shape"
   ],
   "metadata": {
    "collapsed": false,
    "pycharm": {
     "name": "#%%\n"
    }
   }
  },
  {
   "cell_type": "code",
   "execution_count": 18,
   "outputs": [],
   "source": [
    "f_o=23#*7-1 # offset into the future: 0 next hour, 1 predeciton of next hour +1\n",
    "#prediction_df = test_data[f_o:prediction.shape[0]+f_o].assign(prediction=scaler_y.inverse_transform(prediction[:,f_o].reshape(-1, 1)).reshape(-1)).reset_index()\n",
    "prediction_df = test_data[f_o:prediction.shape[0]+f_o].assign(prediction=prediction[:,f_o]).reset_index()"
   ],
   "metadata": {
    "collapsed": false,
    "pycharm": {
     "name": "#%%\n"
    }
   }
  },
  {
   "cell_type": "code",
   "execution_count": 12,
   "outputs": [
    {
     "data": {
      "text/plain": "(array([  46.,   75.,   59.,  183.,  552., 1150., 2163., 2775., 1454.,\n         302.]),\n array([ 8.43816867, 16.47128754, 24.50440641, 32.53752528, 40.57064415,\n        48.60376302, 56.63688189, 64.67000076, 72.70311963, 80.7362385 ,\n        88.76935737]),\n <a list of 10 Patch objects>)"
     },
     "execution_count": 12,
     "metadata": {},
     "output_type": "execute_result"
    },
    {
     "data": {
      "text/plain": "<Figure size 432x288 with 1 Axes>",
      "image/png": "[encoded data removed]"
     },
     "metadata": {
      "needs_background": "light"
     },
     "output_type": "display_data"
    }
   ],
   "source": [
    "plt.hist(scaler_y.inverse_transform(prediction.reshape(-1, 1)).reshape(-1))"
   ],
   "metadata": {
    "collapsed": false,
    "pycharm": {
     "name": "#%%\n"
    }
   }
  },
  {
   "cell_type": "code",
   "execution_count": 10,
   "outputs": [],
   "source": [
    "class TimeSeriesPlot:\n",
    "    def __init__(self, df: pd.DataFrame, target_col:str, prediction_col:str, time_col:str=\"time\"):\n",
    "        self.df = df.copy(deep=True)\n",
    "        self.target = target_col\n",
    "        self.prediction = prediction_col\n",
    "        self.time = time_col\n",
    "        self.df['year'] = self.df[self.time].dt.year\n",
    "        self.df['month'] = self.df[self.time].dt.month\n",
    "        self.df['day'] = self.df[self.time].dt.day\n",
    "        self.df['hours'] = self.df[self.time].dt.hour\n",
    "        self.df[\"dayofweek\"] = self.df[self.time].dt.weekday\n",
    "        self.df[\"se\"] = self.squared_error()\n",
    "        self.df[\"mae\"] = self.absolute_error()\n",
    "        self.df[\"mape\"] = self.absolute_percentage_error()\n",
    "\n",
    "    def mape(self):\n",
    "        return self.df[\"mape\"].mean()\n",
    "\n",
    "    def mae(self):\n",
    "        return self.df[\"mae\"].mean()\n",
    "\n",
    "    def rmse(self):\n",
    "        return np.sqrt(mean_squared_error(self.df[self.target], self.df[self.prediction]))\n",
    "\n",
    "    def squared_error(self):\n",
    "        return np.power(np.subtract(self.df[self.target], self.df[self.prediction]), 2)\n",
    "\n",
    "    def absolute_error(self):\n",
    "        return np.abs(np.subtract(self.df[self.target], self.df[self.prediction]))\n",
    "\n",
    "    def absolute_percentage_error(self):\n",
    "        return np.abs(np.divide(np.subtract(self.df[self.target], self.df[self.prediction]), self.df[self.target])) * 100\n",
    "\n",
    "    def plot_rmse_by_time(self, time:str):\n",
    "        fig = plt.figure()\n",
    "        col_map = {\"y\": \"year\", \"m\": \"month\", \"d\": \"day\", \"h\": \"hours\",  \"wd\": \"dayofweek\"}\n",
    "        group_by_cols = [col_map[param] for param in time.split(\"%\") if param in col_map.keys()]\n",
    "        grouped = self.df.groupby(by=group_by_cols)\n",
    "        mean = grouped[\"se\"].mean()\n",
    "        group_index = [str(index) for index in mean.index]\n",
    "        plt.plot(group_index, np.sqrt(mean), label=\"rmse\")\n",
    "        return fig\n",
    "\n",
    "    def plot_multiple(self, *cols: str):\n",
    "        fig = plt.figure()\n",
    "        for col in cols:\n",
    "            plt.plot(self.df[self.time].values, self.df[col].values, alpha=0.5, label=col)\n",
    "        plt.legend()\n",
    "        plt.show()\n",
    "        return fig\n",
    "\n",
    "    def plot_target_by_time(self, time:str, *targets:str):\n",
    "        col_map = {\"y\": \"year\", \"m\": \"month\", \"d\": \"day\", \"h\": \"hours\",  \"wd\": \"dayofweek\"}\n",
    "        group_by_cols = [col_map[param] for param in time.split(\"%\") if param in col_map.keys()]\n",
    "        self.df.boxplot(column=[*targets], by=group_by_cols,\n",
    "                        layout=(targets.__len__(), 1), rot=45, figsize=(50,40), grid=False)\n",
    "        return plt.gcf()\n",
    "\n",
    "    def plot_target_by_time_band(self, time:str, *targets:str, band:bool=True):\n",
    "        fig = plt.figure()\n",
    "        col_map = {\"y\": \"year\", \"m\": \"month\", \"d\": \"day\", \"h\": \"hours\",  \"wd\": \"dayofweek\"}\n",
    "        group_by_cols = [col_map[param] for param in time.split(\"%\") if param in col_map.keys()]\n",
    "        grouped = self.df.groupby(by=group_by_cols)\n",
    "        for tar in targets:\n",
    "            mean = grouped[tar].mean()\n",
    "            std = grouped[tar].std()\n",
    "            group_index = [str(index) for index in mean.index]\n",
    "            plt.plot(group_index, mean, label=tar)\n",
    "            if band:\n",
    "                plt.fill_between(group_index, mean - 2*std, mean + 2*std, alpha=.5)\n",
    "        plt.legend()\n",
    "        return fig"
   ],
   "metadata": {
    "collapsed": false,
    "pycharm": {
     "name": "#%%\n"
    }
   }
  },
  {
   "cell_type": "code",
   "execution_count": 53,
   "outputs": [
    {
     "data": {
      "text/plain": "                       time     temp  pressure  humidity  wind_speed  \\\n0 2018-01-01 00:00:00+00:00  283.628    1026.6      60.0         3.2   \n1 2018-01-01 01:00:00+00:00  283.170    1027.0      68.0         3.6   \n2 2018-01-01 02:00:00+00:00  282.432    1027.4      76.2         3.6   \n3 2018-01-01 03:00:00+00:00  281.988    1027.8      71.0         4.2   \n4 2018-01-01 04:00:00+00:00  281.710    1028.2      63.6         3.6   \n\n   wind_deg  rain_1h  rain_3h  snow_3h  clouds_all     load  price  prediction  \n0     236.6      0.0      0.0      0.0         4.0  22009.0   4.74   -0.284854  \n1     160.0      0.0      0.0      0.0         0.0  20589.0  -0.83   -0.406642  \n2     168.0      0.0      0.0      0.0         0.0  19547.0   3.48   -0.715235  \n3     212.0      0.0      0.0      0.0         4.0  18871.0  -9.13   -0.497304  \n4     184.0      0.0      0.0      0.0         1.6  18688.0   4.05   -0.766037  ",
      "text/html": "<div>\n<style scoped>\n    .dataframe tbody tr th:only-of-type {\n        vertical-align: middle;\n    }\n\n    .dataframe tbody tr th {\n        vertical-align: top;\n    }\n\n    .dataframe thead th {\n        text-align: right;\n    }\n</style>\n<table border=\"1\" class=\"dataframe\">\n  <thead>\n    <tr style=\"text-align: right;\">\n      <th></th>\n      <th>time</th>\n      <th>temp</th>\n      <th>pressure</th>\n      <th>humidity</th>\n      <th>wind_speed</th>\n      <th>wind_deg</th>\n      <th>rain_1h</th>\n      <th>rain_3h</th>\n      <th>snow_3h</th>\n      <th>clouds_all</th>\n      <th>load</th>\n      <th>price</th>\n      <th>prediction</th>\n    </tr>\n  </thead>\n  <tbody>\n    <tr>\n      <th>0</th>\n      <td>2018-01-01 00:00:00+00:00</td>\n      <td>283.628</td>\n      <td>1026.6</td>\n      <td>60.0</td>\n      <td>3.2</td>\n      <td>236.6</td>\n      <td>0.0</td>\n      <td>0.0</td>\n      <td>0.0</td>\n      <td>4.0</td>\n      <td>22009.0</td>\n      <td>4.74</td>\n      <td>-0.284854</td>\n    </tr>\n    <tr>\n      <th>1</th>\n      <td>2018-01-01 01:00:00+00:00</td>\n      <td>283.170</td>\n      <td>1027.0</td>\n      <td>68.0</td>\n      <td>3.6</td>\n      <td>160.0</td>\n      <td>0.0</td>\n      <td>0.0</td>\n      <td>0.0</td>\n      <td>0.0</td>\n      <td>20589.0</td>\n      <td>-0.83</td>\n      <td>-0.406642</td>\n    </tr>\n    <tr>\n      <th>2</th>\n      <td>2018-01-01 02:00:00+00:00</td>\n      <td>282.432</td>\n      <td>1027.4</td>\n      <td>76.2</td>\n      <td>3.6</td>\n      <td>168.0</td>\n      <td>0.0</td>\n      <td>0.0</td>\n      <td>0.0</td>\n      <td>0.0</td>\n      <td>19547.0</td>\n      <td>3.48</td>\n      <td>-0.715235</td>\n    </tr>\n    <tr>\n      <th>3</th>\n      <td>2018-01-01 03:00:00+00:00</td>\n      <td>281.988</td>\n      <td>1027.8</td>\n      <td>71.0</td>\n      <td>4.2</td>\n      <td>212.0</td>\n      <td>0.0</td>\n      <td>0.0</td>\n      <td>0.0</td>\n      <td>4.0</td>\n      <td>18871.0</td>\n      <td>-9.13</td>\n      <td>-0.497304</td>\n    </tr>\n    <tr>\n      <th>4</th>\n      <td>2018-01-01 04:00:00+00:00</td>\n      <td>281.710</td>\n      <td>1028.2</td>\n      <td>63.6</td>\n      <td>3.6</td>\n      <td>184.0</td>\n      <td>0.0</td>\n      <td>0.0</td>\n      <td>0.0</td>\n      <td>1.6</td>\n      <td>18688.0</td>\n      <td>4.05</td>\n      <td>-0.766037</td>\n    </tr>\n  </tbody>\n</table>\n</div>"
     },
     "execution_count": 53,
     "metadata": {},
     "output_type": "execute_result"
    }
   ],
   "source": [
    "#prediction_df = test_data.assign(prediction=scaler_y.inverse_transform(prediction.reshape(-1, 1)).reshape(-1)).reset_index()\n",
    "#prediction_df = test_data.assign(prediction=test_data[\"price\"].shift(1)).dropna().reset_index()\n",
    "prediction_df.head()"
   ],
   "metadata": {
    "collapsed": false,
    "pycharm": {
     "name": "#%%\n"
    }
   }
  },
  {
   "cell_type": "code",
   "execution_count": 196,
   "outputs": [
    {
     "data": {
      "text/plain": "<Figure size 432x288 with 1 Axes>",
      "image/png": "[encoded data removed]"
     },
     "metadata": {
      "needs_background": "light"
     },
     "output_type": "display_data"
    },
    {
     "data": {
      "text/plain": "<Figure size 432x288 with 1 Axes>",
      "image/png": "[encoded data removed]"
     },
     "metadata": {
      "needs_background": "light"
     },
     "output_type": "display_data"
    },
    {
     "data": {
      "text/plain": "<Figure size 432x288 with 1 Axes>",
      "image/png": "[encoded data removed]"
     },
     "metadata": {
      "needs_background": "light"
     },
     "output_type": "display_data"
    },
    {
     "data": {
      "text/plain": "<Figure size 432x288 with 1 Axes>",
      "image/png": "[encoded data removed]"
     },
     "metadata": {
      "needs_background": "light"
     },
     "output_type": "display_data"
    }
   ],
   "source": [
    "foobar = TimeSeriesPlot(prediction_df, \"price\", \"prediction\")\n",
    "fig = foobar.plot_multiple(\"price\", \"prediction\")\n",
    "#fig.savefig(\"results/actual_prediction.png\")\n",
    "#bp = foobar.plot_target_by_time(\"%m%wd\", \"price\", \"prediction\")\n",
    "#bp.savefig(\"results/foo.png\")\n",
    "band = foobar.plot_target_by_time_band(\"%m\", \"mape\", band=False)\n",
    "#band.savefig(\"results/mape_per_month.png\")\n",
    "band = foobar.plot_target_by_time_band(\"%h\", \"mape\", band=False)\n",
    "#band.savefig(\"results/mape_per_hour.png\")\n",
    "band = foobar.plot_target_by_time_band(\"%m\", \"mae\", band=False)\n",
    "#band.savefig(\"results/mae_per_hour.png\")\n",
    "#rmse = foobar.plot_rmse_by_time(\"%m\")\n",
    "#band.savefig(\"results/band.png\")"
   ],
   "metadata": {
    "collapsed": false,
    "pycharm": {
     "name": "#%%\n"
    }
   }
  },
  {
   "cell_type": "code",
   "execution_count": 189,
   "outputs": [
    {
     "name": "stdout",
     "output_type": "stream",
     "text": [
      "rmse: 3.258205\n",
      "mape: 4.224648\n",
      "mae: 2.277323\n"
     ]
    }
   ],
   "source": [
    "print(\"rmse: %f\" % foobar.rmse())\n",
    "print(\"mape: %f\" % foobar.mape())\n",
    "print(\"mae: %f\" % foobar.mae())"
   ],
   "metadata": {
    "collapsed": false,
    "pycharm": {
     "name": "#%%\n"
    }
   }
  },
  {
   "cell_type": "code",
   "execution_count": 192,
   "outputs": [],
   "source": [
    "# undiff\n",
    "start, x_diff = 19.020, prediction_df[\"price\"].iloc[1:]\n",
    "prediction_df[\"price\"] = np.r_[start, x_diff].cumsum().astype(float)\n",
    "\n",
    "start, x_diff = 19.020, prediction_df[\"prediction\"].iloc[1:]\n",
    "prediction_df[\"prediction\"] = np.r_[start, x_diff].cumsum().astype(float)"
   ],
   "metadata": {
    "collapsed": false,
    "pycharm": {
     "name": "#%%\n"
    }
   }
  },
  {
   "cell_type": "code",
   "execution_count": 195,
   "outputs": [],
   "source": [
    "# undiff 2\n",
    "prediction_df[\"prediction\"] = prediction_df[\"prediction\"].add(data[\"price_\"].iloc[26304:-1].reset_index(drop=True))\n",
    "prediction_df[\"price\"] = prediction_df[\"price\"].add(data[\"price_\"].iloc[26304:-1].reset_index(drop=True))"
   ],
   "metadata": {
    "collapsed": false,
    "pycharm": {
     "name": "#%%\n"
    }
   }
  },
  {
   "cell_type": "code",
   "execution_count": 12,
   "outputs": [
    {
     "name": "stderr",
     "output_type": "stream",
     "text": [
      "100%|██████████| 167/167 [00:02<00:00, 78.52it/s]\n"
     ]
    },
    {
     "data": {
      "text/plain": "          rmse       mape        mae\n0     3.189002   4.255014   2.391294\n1     4.291371   5.784089   3.242667\n2     5.111129   6.968672   3.877379\n3     5.675136   7.817581   4.313581\n4     6.060710   8.407624   4.604105\n..         ...        ...        ...\n162  13.802162  19.586781  10.515777\n163  13.781531  19.611956  10.520652\n164  13.761039  19.631867  10.522544\n165  13.741860  19.633991  10.518026\n166  13.735049  19.640730  10.517789\n\n[167 rows x 3 columns]",
      "text/html": "<div>\n<style scoped>\n    .dataframe tbody tr th:only-of-type {\n        vertical-align: middle;\n    }\n\n    .dataframe tbody tr th {\n        vertical-align: top;\n    }\n\n    .dataframe thead th {\n        text-align: right;\n    }\n</style>\n<table border=\"1\" class=\"dataframe\">\n  <thead>\n    <tr style=\"text-align: right;\">\n      <th></th>\n      <th>rmse</th>\n      <th>mape</th>\n      <th>mae</th>\n    </tr>\n  </thead>\n  <tbody>\n    <tr>\n      <th>0</th>\n      <td>3.189002</td>\n      <td>4.255014</td>\n      <td>2.391294</td>\n    </tr>\n    <tr>\n      <th>1</th>\n      <td>4.291371</td>\n      <td>5.784089</td>\n      <td>3.242667</td>\n    </tr>\n    <tr>\n      <th>2</th>\n      <td>5.111129</td>\n      <td>6.968672</td>\n      <td>3.877379</td>\n    </tr>\n    <tr>\n      <th>3</th>\n      <td>5.675136</td>\n      <td>7.817581</td>\n      <td>4.313581</td>\n    </tr>\n    <tr>\n      <th>4</th>\n      <td>6.060710</td>\n      <td>8.407624</td>\n      <td>4.604105</td>\n    </tr>\n    <tr>\n      <th>...</th>\n      <td>...</td>\n      <td>...</td>\n      <td>...</td>\n    </tr>\n    <tr>\n      <th>162</th>\n      <td>13.802162</td>\n      <td>19.586781</td>\n      <td>10.515777</td>\n    </tr>\n    <tr>\n      <th>163</th>\n      <td>13.781531</td>\n      <td>19.611956</td>\n      <td>10.520652</td>\n    </tr>\n    <tr>\n      <th>164</th>\n      <td>13.761039</td>\n      <td>19.631867</td>\n      <td>10.522544</td>\n    </tr>\n    <tr>\n      <th>165</th>\n      <td>13.741860</td>\n      <td>19.633991</td>\n      <td>10.518026</td>\n    </tr>\n    <tr>\n      <th>166</th>\n      <td>13.735049</td>\n      <td>19.640730</td>\n      <td>10.517789</td>\n    </tr>\n  </tbody>\n</table>\n<p>167 rows × 3 columns</p>\n</div>"
     },
     "execution_count": 12,
     "metadata": {},
     "output_type": "execute_result"
    }
   ],
   "source": [
    "stats = []\n",
    "for f_o in tqdm(range(24*7-1)):\n",
    "    prediction_df = test_data[f_o:prediction.shape[0]+f_o].assign(prediction=prediction[:,f_o]).reset_index()\n",
    "    foobar = TimeSeriesPlot(prediction_df, \"price\", \"prediction\")\n",
    "    stats.append([foobar.rmse(), foobar.mape(), foobar.mae()])\n",
    "df_stats = pd.DataFrame(stats, columns=[\"rmse\", \"mape\", \"mae\"])\n",
    "df_stats"
   ],
   "metadata": {
    "collapsed": false,
    "pycharm": {
     "name": "#%%\n"
    }
   }
  },
  {
   "cell_type": "code",
   "execution_count": 13,
   "outputs": [
    {
     "data": {
      "text/plain": "rmse     8.005513\nmape    11.267736\nmae      5.987516\nName: 23, dtype: float64"
     },
     "execution_count": 13,
     "metadata": {},
     "output_type": "execute_result"
    }
   ],
   "source": [
    "df_stats.iloc[23]"
   ],
   "metadata": {
    "collapsed": false,
    "pycharm": {
     "name": "#%%\n"
    }
   }
  },
  {
   "cell_type": "code",
   "execution_count": null,
   "outputs": [],
   "source": [
    "df_stats.plot()"
   ],
   "metadata": {
    "collapsed": false,
    "pycharm": {
     "name": "#%%\n"
    }
   }
  },
  {
   "cell_type": "code",
   "execution_count": 113,
   "outputs": [],
   "source": [
    "for i in range(prediction.shape[0]):\n",
    "    for j in range(prediction.shape[1]):\n",
    "        #.cpu().numpy()\n",
    "        prediction[i][j] = prediction[i][j][0][0]"
   ],
   "metadata": {
    "collapsed": false,
    "pycharm": {
     "name": "#%%\n"
    }
   }
  },
  {
   "cell_type": "code",
   "execution_count": 111,
   "outputs": [],
   "source": [
    "for i in range(prediction.shape[0]):\n",
    "    for j in range(prediction.shape[1]):\n",
    "        prediction[i][j] = scaler_y.inverse_transform(prediction[i][j].reshape(1, -1))"
   ],
   "metadata": {
    "collapsed": false,
    "pycharm": {
     "name": "#%%\n"
    }
   }
  },
  {
   "cell_type": "code",
   "execution_count": 11,
   "outputs": [],
   "source": [
    "prediction = np.loadtxt(os.path.join(DATA_PATH, \"predictions_inversed.csv\"))"
   ],
   "metadata": {
    "collapsed": false,
    "pycharm": {
     "name": "#%%\n"
    }
   }
  },
  {
   "cell_type": "code",
   "execution_count": 115,
   "outputs": [],
   "source": [
    "np.savetxt(os.path.join(DATA_PATH, \"predictions_inversed.csv\"), prediction)\n"
   ],
   "metadata": {
    "collapsed": false,
    "pycharm": {
     "name": "#%%\n"
    }
   }
  }
 ],
 "metadata": {
  "kernelspec": {
   "name": "python3",
   "language": "python",
   "display_name": "Python 3"
  },
  "language_info": {
   "codemirror_mode": {
    "name": "ipython",
    "version": 2
   },
   "file_extension": ".py",
   "mimetype": "text/x-python",
   "name": "python",
   "nbconvert_exporter": "python",
   "pygments_lexer": "ipython2",
   "version": "2.7.6"
  }
 },
 "nbformat": 4,
 "nbformat_minor": 0
}