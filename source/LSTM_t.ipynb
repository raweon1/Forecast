{
 "cells": [
  {
   "cell_type": "code",
   "execution_count": 2,
   "outputs": [],
   "source": [
    "import torch\n",
    "from torch import nn\n",
    "from torch.nn import functional as F\n",
    "import pandas as pd\n",
    "import numpy as np\n",
    "import matplotlib.pyplot as plt\n",
    "# from torch.utils.tensorboard import SummaryWriter\n",
    "from functools import reduce\n",
    "from tqdm.auto import tqdm\n",
    "import copy\n",
    "import os"
   ],
   "metadata": {
    "collapsed": false,
    "pycharm": {
     "name": "#%%\n"
    }
   }
  },
  {
   "cell_type": "code",
   "execution_count": 3,
   "outputs": [
    {
     "data": {
      "text/plain": "'cuda:0'"
     },
     "execution_count": 3,
     "metadata": {},
     "output_type": "execute_result"
    }
   ],
   "source": [
    "device=\"cuda:0\" if torch.cuda.is_available() else \"cpu\"\n",
    "device"
   ],
   "metadata": {
    "collapsed": false,
    "pycharm": {
     "name": "#%%\n"
    }
   }
  },
  {
   "cell_type": "code",
   "execution_count": 8,
   "outputs": [],
   "source": [
    "base_path=\"../data/{}\""
   ],
   "metadata": {
    "collapsed": false,
    "pycharm": {
     "name": "#%%\n"
    }
   }
  },
  {
   "cell_type": "code",
   "execution_count": 23,
   "outputs": [
    {
     "data": {
      "text/plain": "                          generation biomass  \\\ntime                                           \n2015-01-01 00:00:00+0100               447.0   \n2015-01-01 01:00:00+0100               449.0   \n2015-01-01 02:00:00+0100               448.0   \n2015-01-01 03:00:00+0100               438.0   \n2015-01-01 04:00:00+0100               428.0   \n\n                          generation fossil brown coal/lignite  \\\ntime                                                             \n2015-01-01 00:00:00+0100                                 329.0   \n2015-01-01 01:00:00+0100                                 328.0   \n2015-01-01 02:00:00+0100                                 323.0   \n2015-01-01 03:00:00+0100                                 254.0   \n2015-01-01 04:00:00+0100                                 187.0   \n\n                          generation fossil coal-derived gas  \\\ntime                                                           \n2015-01-01 00:00:00+0100                                 0.0   \n2015-01-01 01:00:00+0100                                 0.0   \n2015-01-01 02:00:00+0100                                 0.0   \n2015-01-01 03:00:00+0100                                 0.0   \n2015-01-01 04:00:00+0100                                 0.0   \n\n                          generation fossil gas  generation fossil hard coal  \\\ntime                                                                           \n2015-01-01 00:00:00+0100                 4844.0                       4821.0   \n2015-01-01 01:00:00+0100                 5196.0                       4755.0   \n2015-01-01 02:00:00+0100                 4857.0                       4581.0   \n2015-01-01 03:00:00+0100                 4314.0                       4131.0   \n2015-01-01 04:00:00+0100                 4130.0                       3840.0   \n\n                          generation fossil oil  generation fossil oil shale  \\\ntime                                                                           \n2015-01-01 00:00:00+0100                  162.0                          0.0   \n2015-01-01 01:00:00+0100                  158.0                          0.0   \n2015-01-01 02:00:00+0100                  157.0                          0.0   \n2015-01-01 03:00:00+0100                  160.0                          0.0   \n2015-01-01 04:00:00+0100                  156.0                          0.0   \n\n                          generation fossil peat  generation geothermal  \\\ntime                                                                      \n2015-01-01 00:00:00+0100                     0.0                    0.0   \n2015-01-01 01:00:00+0100                     0.0                    0.0   \n2015-01-01 02:00:00+0100                     0.0                    0.0   \n2015-01-01 03:00:00+0100                     0.0                    0.0   \n2015-01-01 04:00:00+0100                     0.0                    0.0   \n\n                          generation hydro pumped storage aggregated  ...  \\\ntime                                                                  ...   \n2015-01-01 00:00:00+0100                                         NaN  ...   \n2015-01-01 01:00:00+0100                                         NaN  ...   \n2015-01-01 02:00:00+0100                                         NaN  ...   \n2015-01-01 03:00:00+0100                                         NaN  ...   \n2015-01-01 04:00:00+0100                                         NaN  ...   \n\n                          generation solar  generation waste  \\\ntime                                                           \n2015-01-01 00:00:00+0100              49.0             196.0   \n2015-01-01 01:00:00+0100              50.0             195.0   \n2015-01-01 02:00:00+0100              50.0             196.0   \n2015-01-01 03:00:00+0100              50.0             191.0   \n2015-01-01 04:00:00+0100              42.0             189.0   \n\n                          generation wind offshore  generation wind onshore  \\\ntime                                                                          \n2015-01-01 00:00:00+0100                       0.0                   6378.0   \n2015-01-01 01:00:00+0100                       0.0                   5890.0   \n2015-01-01 02:00:00+0100                       0.0                   5461.0   \n2015-01-01 03:00:00+0100                       0.0                   5238.0   \n2015-01-01 04:00:00+0100                       0.0                   4935.0   \n\n                          forecast solar day ahead  \\\ntime                                                 \n2015-01-01 00:00:00+0100                      17.0   \n2015-01-01 01:00:00+0100                      16.0   \n2015-01-01 02:00:00+0100                       8.0   \n2015-01-01 03:00:00+0100                       2.0   \n2015-01-01 04:00:00+0100                       9.0   \n\n                          forecast wind offshore eday ahead  \\\ntime                                                          \n2015-01-01 00:00:00+0100                                NaN   \n2015-01-01 01:00:00+0100                                NaN   \n2015-01-01 02:00:00+0100                                NaN   \n2015-01-01 03:00:00+0100                                NaN   \n2015-01-01 04:00:00+0100                                NaN   \n\n                          forecast wind onshore day ahead  \\\ntime                                                        \n2015-01-01 00:00:00+0100                           6436.0   \n2015-01-01 01:00:00+0100                           5856.0   \n2015-01-01 02:00:00+0100                           5454.0   \n2015-01-01 03:00:00+0100                           5151.0   \n2015-01-01 04:00:00+0100                           4861.0   \n\n                          total load forecast  total load actual  price actual  \ntime                                                                            \n2015-01-01 00:00:00+0100              26118.0            25385.0         65.41  \n2015-01-01 01:00:00+0100              24934.0            24382.0         64.92  \n2015-01-01 02:00:00+0100              23515.0            22734.0         64.48  \n2015-01-01 03:00:00+0100              22642.0            21286.0         59.32  \n2015-01-01 04:00:00+0100              21785.0            20264.0         56.04  \n\n[5 rows x 27 columns]",
      "text/html": "<div>\n<style scoped>\n    .dataframe tbody tr th:only-of-type {\n        vertical-align: middle;\n    }\n\n    .dataframe tbody tr th {\n        vertical-align: top;\n    }\n\n    .dataframe thead th {\n        text-align: right;\n    }\n</style>\n<table border=\"1\" class=\"dataframe\">\n  <thead>\n    <tr style=\"text-align: right;\">\n      <th></th>\n      <th>generation biomass</th>\n      <th>generation fossil brown coal/lignite</th>\n      <th>generation fossil coal-derived gas</th>\n      <th>generation fossil gas</th>\n      <th>generation fossil hard coal</th>\n      <th>generation fossil oil</th>\n      <th>generation fossil oil shale</th>\n      <th>generation fossil peat</th>\n      <th>generation geothermal</th>\n      <th>generation hydro pumped storage aggregated</th>\n      <th>...</th>\n      <th>generation solar</th>\n      <th>generation waste</th>\n      <th>generation wind offshore</th>\n      <th>generation wind onshore</th>\n      <th>forecast solar day ahead</th>\n      <th>forecast wind offshore eday ahead</th>\n      <th>forecast wind onshore day ahead</th>\n      <th>total load forecast</th>\n      <th>total load actual</th>\n      <th>price actual</th>\n    </tr>\n    <tr>\n      <th>time</th>\n      <th></th>\n      <th></th>\n      <th></th>\n      <th></th>\n      <th></th>\n      <th></th>\n      <th></th>\n      <th></th>\n      <th></th>\n      <th></th>\n      <th></th>\n      <th></th>\n      <th></th>\n      <th></th>\n      <th></th>\n      <th></th>\n      <th></th>\n      <th></th>\n      <th></th>\n      <th></th>\n      <th></th>\n    </tr>\n  </thead>\n  <tbody>\n    <tr>\n      <th>2015-01-01 00:00:00+0100</th>\n      <td>447.0</td>\n      <td>329.0</td>\n      <td>0.0</td>\n      <td>4844.0</td>\n      <td>4821.0</td>\n      <td>162.0</td>\n      <td>0.0</td>\n      <td>0.0</td>\n      <td>0.0</td>\n      <td>NaN</td>\n      <td>...</td>\n      <td>49.0</td>\n      <td>196.0</td>\n      <td>0.0</td>\n      <td>6378.0</td>\n      <td>17.0</td>\n      <td>NaN</td>\n      <td>6436.0</td>\n      <td>26118.0</td>\n      <td>25385.0</td>\n      <td>65.41</td>\n    </tr>\n    <tr>\n      <th>2015-01-01 01:00:00+0100</th>\n      <td>449.0</td>\n      <td>328.0</td>\n      <td>0.0</td>\n      <td>5196.0</td>\n      <td>4755.0</td>\n      <td>158.0</td>\n      <td>0.0</td>\n      <td>0.0</td>\n      <td>0.0</td>\n      <td>NaN</td>\n      <td>...</td>\n      <td>50.0</td>\n      <td>195.0</td>\n      <td>0.0</td>\n      <td>5890.0</td>\n      <td>16.0</td>\n      <td>NaN</td>\n      <td>5856.0</td>\n      <td>24934.0</td>\n      <td>24382.0</td>\n      <td>64.92</td>\n    </tr>\n    <tr>\n      <th>2015-01-01 02:00:00+0100</th>\n      <td>448.0</td>\n      <td>323.0</td>\n      <td>0.0</td>\n      <td>4857.0</td>\n      <td>4581.0</td>\n      <td>157.0</td>\n      <td>0.0</td>\n      <td>0.0</td>\n      <td>0.0</td>\n      <td>NaN</td>\n      <td>...</td>\n      <td>50.0</td>\n      <td>196.0</td>\n      <td>0.0</td>\n      <td>5461.0</td>\n      <td>8.0</td>\n      <td>NaN</td>\n      <td>5454.0</td>\n      <td>23515.0</td>\n      <td>22734.0</td>\n      <td>64.48</td>\n    </tr>\n    <tr>\n      <th>2015-01-01 03:00:00+0100</th>\n      <td>438.0</td>\n      <td>254.0</td>\n      <td>0.0</td>\n      <td>4314.0</td>\n      <td>4131.0</td>\n      <td>160.0</td>\n      <td>0.0</td>\n      <td>0.0</td>\n      <td>0.0</td>\n      <td>NaN</td>\n      <td>...</td>\n      <td>50.0</td>\n      <td>191.0</td>\n      <td>0.0</td>\n      <td>5238.0</td>\n      <td>2.0</td>\n      <td>NaN</td>\n      <td>5151.0</td>\n      <td>22642.0</td>\n      <td>21286.0</td>\n      <td>59.32</td>\n    </tr>\n    <tr>\n      <th>2015-01-01 04:00:00+0100</th>\n      <td>428.0</td>\n      <td>187.0</td>\n      <td>0.0</td>\n      <td>4130.0</td>\n      <td>3840.0</td>\n      <td>156.0</td>\n      <td>0.0</td>\n      <td>0.0</td>\n      <td>0.0</td>\n      <td>NaN</td>\n      <td>...</td>\n      <td>42.0</td>\n      <td>189.0</td>\n      <td>0.0</td>\n      <td>4935.0</td>\n      <td>9.0</td>\n      <td>NaN</td>\n      <td>4861.0</td>\n      <td>21785.0</td>\n      <td>20264.0</td>\n      <td>56.04</td>\n    </tr>\n  </tbody>\n</table>\n<p>5 rows × 27 columns</p>\n</div>"
     },
     "execution_count": 23,
     "metadata": {},
     "output_type": "execute_result"
    }
   ],
   "source": [
    "df_energy=pd.read_csv(base_path.format(\"energy_dataset.csv\"))\n",
    "df_energy=df_energy.rename(columns={\"price\": \"price actual\"})\n",
    "df_energy.loc[\"time\",:]=pd.to_datetime(df_energy[\"time\"])\n",
    "df_energy=df_energy.set_index(\"time\")\n",
    "df_energy=df_energy.drop(\"price day ahead\",axis=1)\n",
    "df_energy.head()"
   ],
   "metadata": {
    "collapsed": false,
    "pycharm": {
     "name": "#%%\n"
    }
   }
  },
  {
   "cell_type": "code",
   "execution_count": 24,
   "outputs": [],
   "source": [
    "df_weather=pd.read_csv(base_path.format(\"weather_features.csv\"))\n",
    "df_weather=df_weather.rename(columns={\"time\": \"dt_iso\"})\n",
    "df_weather.loc[\"dt_iso\",:]=pd.to_datetime(df_weather[\"dt_iso\"])\n",
    "dfs_weather_city=[df.set_index(\"dt_iso\") for _,df in df_weather.groupby([\"city_name\"])]"
   ],
   "metadata": {
    "collapsed": false,
    "pycharm": {
     "name": "#%%\n"
    }
   }
  },
  {
   "cell_type": "code",
   "execution_count": 14,
   "outputs": [
    {
     "data": {
      "text/plain": "                           city_name     temp  temp_min  temp_max  pressure  \\\ndt_iso                                                                        \n2015-01-01 00:00:00+0100   Barcelona  281.625   281.625   281.625    1035.0   \n2015-01-01 01:00:00+0100   Barcelona  281.625   281.625   281.625    1035.0   \n2015-01-01 02:00:00+0100   Barcelona  281.286   281.286   281.286    1036.0   \n2015-01-01 03:00:00+0100   Barcelona  281.286   281.286   281.286    1036.0   \n2015-01-01 04:00:00+0100   Barcelona  281.286   281.286   281.286    1036.0   \n\n                          humidity  wind_speed  wind_deg  rain_1h  rain_3h  \\\ndt_iso                                                                       \n2015-01-01 00:00:00+0100     100.0         7.0      58.0      0.0      0.0   \n2015-01-01 01:00:00+0100     100.0         7.0      58.0      0.0      0.0   \n2015-01-01 02:00:00+0100     100.0         7.0      48.0      0.0      0.0   \n2015-01-01 03:00:00+0100     100.0         7.0      48.0      0.0      0.0   \n2015-01-01 04:00:00+0100     100.0         7.0      48.0      0.0      0.0   \n\n                          snow_3h  clouds_all  weather_id weather_main  \\\ndt_iso                                                                   \n2015-01-01 00:00:00+0100      0.0         0.0       800.0        clear   \n2015-01-01 01:00:00+0100      0.0         0.0       800.0        clear   \n2015-01-01 02:00:00+0100      0.0         0.0       800.0        clear   \n2015-01-01 03:00:00+0100      0.0         0.0       800.0        clear   \n2015-01-01 04:00:00+0100      0.0         0.0       800.0        clear   \n\n                         weather_description weather_icon  \ndt_iso                                                     \n2015-01-01 00:00:00+0100        sky is clear          01n  \n2015-01-01 01:00:00+0100        sky is clear          01n  \n2015-01-01 02:00:00+0100        sky is clear          01n  \n2015-01-01 03:00:00+0100        sky is clear          01n  \n2015-01-01 04:00:00+0100        sky is clear          01n  ",
      "text/html": "<div>\n<style scoped>\n    .dataframe tbody tr th:only-of-type {\n        vertical-align: middle;\n    }\n\n    .dataframe tbody tr th {\n        vertical-align: top;\n    }\n\n    .dataframe thead th {\n        text-align: right;\n    }\n</style>\n<table border=\"1\" class=\"dataframe\">\n  <thead>\n    <tr style=\"text-align: right;\">\n      <th></th>\n      <th>city_name</th>\n      <th>temp</th>\n      <th>temp_min</th>\n      <th>temp_max</th>\n      <th>pressure</th>\n      <th>humidity</th>\n      <th>wind_speed</th>\n      <th>wind_deg</th>\n      <th>rain_1h</th>\n      <th>rain_3h</th>\n      <th>snow_3h</th>\n      <th>clouds_all</th>\n      <th>weather_id</th>\n      <th>weather_main</th>\n      <th>weather_description</th>\n      <th>weather_icon</th>\n    </tr>\n    <tr>\n      <th>dt_iso</th>\n      <th></th>\n      <th></th>\n      <th></th>\n      <th></th>\n      <th></th>\n      <th></th>\n      <th></th>\n      <th></th>\n      <th></th>\n      <th></th>\n      <th></th>\n      <th></th>\n      <th></th>\n      <th></th>\n      <th></th>\n      <th></th>\n    </tr>\n  </thead>\n  <tbody>\n    <tr>\n      <th>2015-01-01 00:00:00+0100</th>\n      <td>Barcelona</td>\n      <td>281.625</td>\n      <td>281.625</td>\n      <td>281.625</td>\n      <td>1035.0</td>\n      <td>100.0</td>\n      <td>7.0</td>\n      <td>58.0</td>\n      <td>0.0</td>\n      <td>0.0</td>\n      <td>0.0</td>\n      <td>0.0</td>\n      <td>800.0</td>\n      <td>clear</td>\n      <td>sky is clear</td>\n      <td>01n</td>\n    </tr>\n    <tr>\n      <th>2015-01-01 01:00:00+0100</th>\n      <td>Barcelona</td>\n      <td>281.625</td>\n      <td>281.625</td>\n      <td>281.625</td>\n      <td>1035.0</td>\n      <td>100.0</td>\n      <td>7.0</td>\n      <td>58.0</td>\n      <td>0.0</td>\n      <td>0.0</td>\n      <td>0.0</td>\n      <td>0.0</td>\n      <td>800.0</td>\n      <td>clear</td>\n      <td>sky is clear</td>\n      <td>01n</td>\n    </tr>\n    <tr>\n      <th>2015-01-01 02:00:00+0100</th>\n      <td>Barcelona</td>\n      <td>281.286</td>\n      <td>281.286</td>\n      <td>281.286</td>\n      <td>1036.0</td>\n      <td>100.0</td>\n      <td>7.0</td>\n      <td>48.0</td>\n      <td>0.0</td>\n      <td>0.0</td>\n      <td>0.0</td>\n      <td>0.0</td>\n      <td>800.0</td>\n      <td>clear</td>\n      <td>sky is clear</td>\n      <td>01n</td>\n    </tr>\n    <tr>\n      <th>2015-01-01 03:00:00+0100</th>\n      <td>Barcelona</td>\n      <td>281.286</td>\n      <td>281.286</td>\n      <td>281.286</td>\n      <td>1036.0</td>\n      <td>100.0</td>\n      <td>7.0</td>\n      <td>48.0</td>\n      <td>0.0</td>\n      <td>0.0</td>\n      <td>0.0</td>\n      <td>0.0</td>\n      <td>800.0</td>\n      <td>clear</td>\n      <td>sky is clear</td>\n      <td>01n</td>\n    </tr>\n    <tr>\n      <th>2015-01-01 04:00:00+0100</th>\n      <td>Barcelona</td>\n      <td>281.286</td>\n      <td>281.286</td>\n      <td>281.286</td>\n      <td>1036.0</td>\n      <td>100.0</td>\n      <td>7.0</td>\n      <td>48.0</td>\n      <td>0.0</td>\n      <td>0.0</td>\n      <td>0.0</td>\n      <td>0.0</td>\n      <td>800.0</td>\n      <td>clear</td>\n      <td>sky is clear</td>\n      <td>01n</td>\n    </tr>\n  </tbody>\n</table>\n</div>"
     },
     "execution_count": 14,
     "metadata": {},
     "output_type": "execute_result"
    }
   ],
   "source": [
    "dfs_weather_city[0].head()"
   ],
   "metadata": {
    "collapsed": false,
    "pycharm": {
     "name": "#%%\n"
    }
   }
  },
  {
   "cell_type": "code",
   "execution_count": 25,
   "outputs": [
    {
     "data": {
      "text/plain": "                          generation biomass  \\\n2015-01-01 00:00:00+0100               447.0   \n2015-01-01 01:00:00+0100               449.0   \n2015-01-01 02:00:00+0100               448.0   \n2015-01-01 03:00:00+0100               438.0   \n2015-01-01 04:00:00+0100               428.0   \n\n                          generation fossil brown coal/lignite  \\\n2015-01-01 00:00:00+0100                                 329.0   \n2015-01-01 01:00:00+0100                                 328.0   \n2015-01-01 02:00:00+0100                                 323.0   \n2015-01-01 03:00:00+0100                                 254.0   \n2015-01-01 04:00:00+0100                                 187.0   \n\n                          generation fossil coal-derived gas  \\\n2015-01-01 00:00:00+0100                                 0.0   \n2015-01-01 01:00:00+0100                                 0.0   \n2015-01-01 02:00:00+0100                                 0.0   \n2015-01-01 03:00:00+0100                                 0.0   \n2015-01-01 04:00:00+0100                                 0.0   \n\n                          generation fossil gas  generation fossil hard coal  \\\n2015-01-01 00:00:00+0100                 4844.0                       4821.0   \n2015-01-01 01:00:00+0100                 5196.0                       4755.0   \n2015-01-01 02:00:00+0100                 4857.0                       4581.0   \n2015-01-01 03:00:00+0100                 4314.0                       4131.0   \n2015-01-01 04:00:00+0100                 4130.0                       3840.0   \n\n                          generation fossil oil  generation fossil oil shale  \\\n2015-01-01 00:00:00+0100                  162.0                          0.0   \n2015-01-01 01:00:00+0100                  158.0                          0.0   \n2015-01-01 02:00:00+0100                  157.0                          0.0   \n2015-01-01 03:00:00+0100                  160.0                          0.0   \n2015-01-01 04:00:00+0100                  156.0                          0.0   \n\n                          generation fossil peat  generation geothermal  \\\n2015-01-01 00:00:00+0100                     0.0                    0.0   \n2015-01-01 01:00:00+0100                     0.0                    0.0   \n2015-01-01 02:00:00+0100                     0.0                    0.0   \n2015-01-01 03:00:00+0100                     0.0                    0.0   \n2015-01-01 04:00:00+0100                     0.0                    0.0   \n\n                          generation hydro pumped storage aggregated  ...  \\\n2015-01-01 00:00:00+0100                                         NaN  ...   \n2015-01-01 01:00:00+0100                                         NaN  ...   \n2015-01-01 02:00:00+0100                                         NaN  ...   \n2015-01-01 03:00:00+0100                                         NaN  ...   \n2015-01-01 04:00:00+0100                                         NaN  ...   \n\n                          wind_speed  wind_deg  rain_1h  rain_3h  snow_3h  \\\n2015-01-01 00:00:00+0100         1.0      62.0      0.0      0.0      0.0   \n2015-01-01 01:00:00+0100         1.0      62.0      0.0      0.0      0.0   \n2015-01-01 02:00:00+0100         0.0      23.0      0.0      0.0      0.0   \n2015-01-01 03:00:00+0100         0.0      23.0      0.0      0.0      0.0   \n2015-01-01 04:00:00+0100         0.0      23.0      0.0      0.0      0.0   \n\n                          clouds_all  weather_id  weather_main  \\\n2015-01-01 00:00:00+0100         0.0       800.0         clear   \n2015-01-01 01:00:00+0100         0.0       800.0         clear   \n2015-01-01 02:00:00+0100         0.0       800.0         clear   \n2015-01-01 03:00:00+0100         0.0       800.0         clear   \n2015-01-01 04:00:00+0100         0.0       800.0         clear   \n\n                          weather_description  weather_icon  \n2015-01-01 00:00:00+0100         sky is clear           01n  \n2015-01-01 01:00:00+0100         sky is clear           01n  \n2015-01-01 02:00:00+0100         sky is clear           01n  \n2015-01-01 03:00:00+0100         sky is clear           01n  \n2015-01-01 04:00:00+0100         sky is clear           01n  \n\n[5 rows x 107 columns]",
      "text/html": "<div>\n<style scoped>\n    .dataframe tbody tr th:only-of-type {\n        vertical-align: middle;\n    }\n\n    .dataframe tbody tr th {\n        vertical-align: top;\n    }\n\n    .dataframe thead th {\n        text-align: right;\n    }\n</style>\n<table border=\"1\" class=\"dataframe\">\n  <thead>\n    <tr style=\"text-align: right;\">\n      <th></th>\n      <th>generation biomass</th>\n      <th>generation fossil brown coal/lignite</th>\n      <th>generation fossil coal-derived gas</th>\n      <th>generation fossil gas</th>\n      <th>generation fossil hard coal</th>\n      <th>generation fossil oil</th>\n      <th>generation fossil oil shale</th>\n      <th>generation fossil peat</th>\n      <th>generation geothermal</th>\n      <th>generation hydro pumped storage aggregated</th>\n      <th>...</th>\n      <th>wind_speed</th>\n      <th>wind_deg</th>\n      <th>rain_1h</th>\n      <th>rain_3h</th>\n      <th>snow_3h</th>\n      <th>clouds_all</th>\n      <th>weather_id</th>\n      <th>weather_main</th>\n      <th>weather_description</th>\n      <th>weather_icon</th>\n    </tr>\n  </thead>\n  <tbody>\n    <tr>\n      <th>2015-01-01 00:00:00+0100</th>\n      <td>447.0</td>\n      <td>329.0</td>\n      <td>0.0</td>\n      <td>4844.0</td>\n      <td>4821.0</td>\n      <td>162.0</td>\n      <td>0.0</td>\n      <td>0.0</td>\n      <td>0.0</td>\n      <td>NaN</td>\n      <td>...</td>\n      <td>1.0</td>\n      <td>62.0</td>\n      <td>0.0</td>\n      <td>0.0</td>\n      <td>0.0</td>\n      <td>0.0</td>\n      <td>800.0</td>\n      <td>clear</td>\n      <td>sky is clear</td>\n      <td>01n</td>\n    </tr>\n    <tr>\n      <th>2015-01-01 01:00:00+0100</th>\n      <td>449.0</td>\n      <td>328.0</td>\n      <td>0.0</td>\n      <td>5196.0</td>\n      <td>4755.0</td>\n      <td>158.0</td>\n      <td>0.0</td>\n      <td>0.0</td>\n      <td>0.0</td>\n      <td>NaN</td>\n      <td>...</td>\n      <td>1.0</td>\n      <td>62.0</td>\n      <td>0.0</td>\n      <td>0.0</td>\n      <td>0.0</td>\n      <td>0.0</td>\n      <td>800.0</td>\n      <td>clear</td>\n      <td>sky is clear</td>\n      <td>01n</td>\n    </tr>\n    <tr>\n      <th>2015-01-01 02:00:00+0100</th>\n      <td>448.0</td>\n      <td>323.0</td>\n      <td>0.0</td>\n      <td>4857.0</td>\n      <td>4581.0</td>\n      <td>157.0</td>\n      <td>0.0</td>\n      <td>0.0</td>\n      <td>0.0</td>\n      <td>NaN</td>\n      <td>...</td>\n      <td>0.0</td>\n      <td>23.0</td>\n      <td>0.0</td>\n      <td>0.0</td>\n      <td>0.0</td>\n      <td>0.0</td>\n      <td>800.0</td>\n      <td>clear</td>\n      <td>sky is clear</td>\n      <td>01n</td>\n    </tr>\n    <tr>\n      <th>2015-01-01 03:00:00+0100</th>\n      <td>438.0</td>\n      <td>254.0</td>\n      <td>0.0</td>\n      <td>4314.0</td>\n      <td>4131.0</td>\n      <td>160.0</td>\n      <td>0.0</td>\n      <td>0.0</td>\n      <td>0.0</td>\n      <td>NaN</td>\n      <td>...</td>\n      <td>0.0</td>\n      <td>23.0</td>\n      <td>0.0</td>\n      <td>0.0</td>\n      <td>0.0</td>\n      <td>0.0</td>\n      <td>800.0</td>\n      <td>clear</td>\n      <td>sky is clear</td>\n      <td>01n</td>\n    </tr>\n    <tr>\n      <th>2015-01-01 04:00:00+0100</th>\n      <td>428.0</td>\n      <td>187.0</td>\n      <td>0.0</td>\n      <td>4130.0</td>\n      <td>3840.0</td>\n      <td>156.0</td>\n      <td>0.0</td>\n      <td>0.0</td>\n      <td>0.0</td>\n      <td>NaN</td>\n      <td>...</td>\n      <td>0.0</td>\n      <td>23.0</td>\n      <td>0.0</td>\n      <td>0.0</td>\n      <td>0.0</td>\n      <td>0.0</td>\n      <td>800.0</td>\n      <td>clear</td>\n      <td>sky is clear</td>\n      <td>01n</td>\n    </tr>\n  </tbody>\n</table>\n<p>5 rows × 107 columns</p>\n</div>"
     },
     "execution_count": 25,
     "metadata": {},
     "output_type": "execute_result"
    }
   ],
   "source": [
    "df=reduce(lambda x,y: pd.merge(x,y,left_index=True,right_index=True),[df_energy]+dfs_weather_city)\n",
    "df.head()"
   ],
   "metadata": {
    "collapsed": false,
    "pycharm": {
     "name": "#%%\n"
    }
   }
  },
  {
   "cell_type": "code",
   "execution_count": 26,
   "outputs": [],
   "source": [
    "def get_numeric_data(df):\n",
    "  numerics = ['int16', 'int32', 'int64', 'float16', 'float32', 'float64']\n",
    "  return df.select_dtypes(include=numerics)\n",
    "\n",
    "df=get_numeric_data(df)"
   ],
   "metadata": {
    "collapsed": false,
    "pycharm": {
     "name": "#%%\n"
    }
   }
  },
  {
   "cell_type": "code",
   "execution_count": 27,
   "outputs": [],
   "source": [
    "def exclude_no_variance(df):\n",
    "  return df[df.columns[df.var()>0]]\n",
    "\n",
    "df=exclude_no_variance(df)"
   ],
   "metadata": {
    "collapsed": false,
    "pycharm": {
     "name": "#%%\n"
    }
   }
  },
  {
   "cell_type": "code",
   "execution_count": 28,
   "outputs": [],
   "source": [
    "def exclude_nan_percentage_more_than(df,threshold=.5):\n",
    "  selector=(pd.isna(df).sum()/df.shape[0])<threshold\n",
    "  return df[df.columns[selector]]\n",
    "\n",
    "df=exclude_nan_percentage_more_than(df,.2)"
   ],
   "metadata": {
    "collapsed": false,
    "pycharm": {
     "name": "#%%\n"
    }
   }
  },
  {
   "cell_type": "code",
   "execution_count": 29,
   "outputs": [],
   "source": [
    "def fill_nan_with_median(df):\n",
    "  df = df.groupby(df.columns, axis = 1).transform(lambda x: x.fillna(x.median()))\n",
    "  return df\n",
    "\n",
    "\n",
    "df=fill_nan_with_median(df)"
   ],
   "metadata": {
    "collapsed": false,
    "pycharm": {
     "name": "#%%\n"
    }
   }
  },
  {
   "cell_type": "code",
   "execution_count": 43,
   "outputs": [
    {
     "data": {
      "text/plain": "                          generation biomass  \\\n2015-01-01 00:00:00+0100               447.0   \n2015-01-01 01:00:00+0100               449.0   \n2015-01-01 02:00:00+0100               448.0   \n2015-01-01 03:00:00+0100               438.0   \n2015-01-01 04:00:00+0100               428.0   \n\n                          generation fossil brown coal/lignite  \\\n2015-01-01 00:00:00+0100                                 329.0   \n2015-01-01 01:00:00+0100                                 328.0   \n2015-01-01 02:00:00+0100                                 323.0   \n2015-01-01 03:00:00+0100                                 254.0   \n2015-01-01 04:00:00+0100                                 187.0   \n\n                          generation fossil gas  generation fossil hard coal  \\\n2015-01-01 00:00:00+0100                 4844.0                       4821.0   \n2015-01-01 01:00:00+0100                 5196.0                       4755.0   \n2015-01-01 02:00:00+0100                 4857.0                       4581.0   \n2015-01-01 03:00:00+0100                 4314.0                       4131.0   \n2015-01-01 04:00:00+0100                 4130.0                       3840.0   \n\n                          generation fossil oil  \\\n2015-01-01 00:00:00+0100                  162.0   \n2015-01-01 01:00:00+0100                  158.0   \n2015-01-01 02:00:00+0100                  157.0   \n2015-01-01 03:00:00+0100                  160.0   \n2015-01-01 04:00:00+0100                  156.0   \n\n                          generation hydro pumped storage consumption  \\\n2015-01-01 00:00:00+0100                                        863.0   \n2015-01-01 01:00:00+0100                                        920.0   \n2015-01-01 02:00:00+0100                                       1164.0   \n2015-01-01 03:00:00+0100                                       1503.0   \n2015-01-01 04:00:00+0100                                       1826.0   \n\n                          generation hydro run-of-river and poundage  \\\n2015-01-01 00:00:00+0100                                      1051.0   \n2015-01-01 01:00:00+0100                                      1009.0   \n2015-01-01 02:00:00+0100                                       973.0   \n2015-01-01 03:00:00+0100                                       949.0   \n2015-01-01 04:00:00+0100                                       953.0   \n\n                          generation hydro water reservoir  \\\n2015-01-01 00:00:00+0100                            1899.0   \n2015-01-01 01:00:00+0100                            1658.0   \n2015-01-01 02:00:00+0100                            1371.0   \n2015-01-01 03:00:00+0100                             779.0   \n2015-01-01 04:00:00+0100                             720.0   \n\n                          generation nuclear  generation other  ...  temp_max  \\\n2015-01-01 00:00:00+0100              7096.0              43.0  ...   270.475   \n2015-01-01 01:00:00+0100              7096.0              43.0  ...   270.475   \n2015-01-01 02:00:00+0100              7099.0              43.0  ...   269.686   \n2015-01-01 03:00:00+0100              7098.0              43.0  ...   269.686   \n2015-01-01 04:00:00+0100              7097.0              43.0  ...   269.686   \n\n                          pressure  humidity  wind_speed  wind_deg  rain_1h  \\\n2015-01-01 00:00:00+0100    1001.0      77.0         1.0      62.0      0.0   \n2015-01-01 01:00:00+0100    1001.0      77.0         1.0      62.0      0.0   \n2015-01-01 02:00:00+0100    1002.0      78.0         0.0      23.0      0.0   \n2015-01-01 03:00:00+0100    1002.0      78.0         0.0      23.0      0.0   \n2015-01-01 04:00:00+0100    1002.0      78.0         0.0      23.0      0.0   \n\n                          rain_3h  snow_3h  clouds_all  weather_id  \n2015-01-01 00:00:00+0100      0.0      0.0         0.0       800.0  \n2015-01-01 01:00:00+0100      0.0      0.0         0.0       800.0  \n2015-01-01 02:00:00+0100      0.0      0.0         0.0       800.0  \n2015-01-01 03:00:00+0100      0.0      0.0         0.0       800.0  \n2015-01-01 04:00:00+0100      0.0      0.0         0.0       800.0  \n\n[5 rows x 391 columns]",
      "text/html": "<div>\n<style scoped>\n    .dataframe tbody tr th:only-of-type {\n        vertical-align: middle;\n    }\n\n    .dataframe tbody tr th {\n        vertical-align: top;\n    }\n\n    .dataframe thead th {\n        text-align: right;\n    }\n</style>\n<table border=\"1\" class=\"dataframe\">\n  <thead>\n    <tr style=\"text-align: right;\">\n      <th></th>\n      <th>generation biomass</th>\n      <th>generation fossil brown coal/lignite</th>\n      <th>generation fossil gas</th>\n      <th>generation fossil hard coal</th>\n      <th>generation fossil oil</th>\n      <th>generation hydro pumped storage consumption</th>\n      <th>generation hydro run-of-river and poundage</th>\n      <th>generation hydro water reservoir</th>\n      <th>generation nuclear</th>\n      <th>generation other</th>\n      <th>...</th>\n      <th>temp_max</th>\n      <th>pressure</th>\n      <th>humidity</th>\n      <th>wind_speed</th>\n      <th>wind_deg</th>\n      <th>rain_1h</th>\n      <th>rain_3h</th>\n      <th>snow_3h</th>\n      <th>clouds_all</th>\n      <th>weather_id</th>\n    </tr>\n  </thead>\n  <tbody>\n    <tr>\n      <th>2015-01-01 00:00:00+0100</th>\n      <td>447.0</td>\n      <td>329.0</td>\n      <td>4844.0</td>\n      <td>4821.0</td>\n      <td>162.0</td>\n      <td>863.0</td>\n      <td>1051.0</td>\n      <td>1899.0</td>\n      <td>7096.0</td>\n      <td>43.0</td>\n      <td>...</td>\n      <td>270.475</td>\n      <td>1001.0</td>\n      <td>77.0</td>\n      <td>1.0</td>\n      <td>62.0</td>\n      <td>0.0</td>\n      <td>0.0</td>\n      <td>0.0</td>\n      <td>0.0</td>\n      <td>800.0</td>\n    </tr>\n    <tr>\n      <th>2015-01-01 01:00:00+0100</th>\n      <td>449.0</td>\n      <td>328.0</td>\n      <td>5196.0</td>\n      <td>4755.0</td>\n      <td>158.0</td>\n      <td>920.0</td>\n      <td>1009.0</td>\n      <td>1658.0</td>\n      <td>7096.0</td>\n      <td>43.0</td>\n      <td>...</td>\n      <td>270.475</td>\n      <td>1001.0</td>\n      <td>77.0</td>\n      <td>1.0</td>\n      <td>62.0</td>\n      <td>0.0</td>\n      <td>0.0</td>\n      <td>0.0</td>\n      <td>0.0</td>\n      <td>800.0</td>\n    </tr>\n    <tr>\n      <th>2015-01-01 02:00:00+0100</th>\n      <td>448.0</td>\n      <td>323.0</td>\n      <td>4857.0</td>\n      <td>4581.0</td>\n      <td>157.0</td>\n      <td>1164.0</td>\n      <td>973.0</td>\n      <td>1371.0</td>\n      <td>7099.0</td>\n      <td>43.0</td>\n      <td>...</td>\n      <td>269.686</td>\n      <td>1002.0</td>\n      <td>78.0</td>\n      <td>0.0</td>\n      <td>23.0</td>\n      <td>0.0</td>\n      <td>0.0</td>\n      <td>0.0</td>\n      <td>0.0</td>\n      <td>800.0</td>\n    </tr>\n    <tr>\n      <th>2015-01-01 03:00:00+0100</th>\n      <td>438.0</td>\n      <td>254.0</td>\n      <td>4314.0</td>\n      <td>4131.0</td>\n      <td>160.0</td>\n      <td>1503.0</td>\n      <td>949.0</td>\n      <td>779.0</td>\n      <td>7098.0</td>\n      <td>43.0</td>\n      <td>...</td>\n      <td>269.686</td>\n      <td>1002.0</td>\n      <td>78.0</td>\n      <td>0.0</td>\n      <td>23.0</td>\n      <td>0.0</td>\n      <td>0.0</td>\n      <td>0.0</td>\n      <td>0.0</td>\n      <td>800.0</td>\n    </tr>\n    <tr>\n      <th>2015-01-01 04:00:00+0100</th>\n      <td>428.0</td>\n      <td>187.0</td>\n      <td>4130.0</td>\n      <td>3840.0</td>\n      <td>156.0</td>\n      <td>1826.0</td>\n      <td>953.0</td>\n      <td>720.0</td>\n      <td>7097.0</td>\n      <td>43.0</td>\n      <td>...</td>\n      <td>269.686</td>\n      <td>1002.0</td>\n      <td>78.0</td>\n      <td>0.0</td>\n      <td>23.0</td>\n      <td>0.0</td>\n      <td>0.0</td>\n      <td>0.0</td>\n      <td>0.0</td>\n      <td>800.0</td>\n    </tr>\n  </tbody>\n</table>\n<p>5 rows × 391 columns</p>\n</div>"
     },
     "execution_count": 43,
     "metadata": {},
     "output_type": "execute_result"
    }
   ],
   "source": [
    "df.head()"
   ],
   "metadata": {
    "collapsed": false,
    "pycharm": {
     "name": "#%%\n"
    }
   }
  },
  {
   "cell_type": "code",
   "execution_count": 30,
   "outputs": [],
   "source": [
    "target_cols=[\"price actual\"]"
   ],
   "metadata": {
    "collapsed": false,
    "pycharm": {
     "name": "#%%\n"
    }
   }
  },
  {
   "cell_type": "code",
   "execution_count": 31,
   "outputs": [
    {
     "name": "stdout",
     "output_type": "stream",
     "text": [
      "Train-Test-Split = 30854\n",
      "Train-Validation-Split = 27768\n"
     ]
    }
   ],
   "source": [
    "class TimeSeries:\n",
    "  def __init__(self,df,target_cols,train_test_split=.2,train_val_split=.1):\n",
    "    self.df=df\n",
    "    self.ttsplit=int((1-train_test_split)*df.shape[0])\n",
    "    print(\"Train-Test-Split = {}\".format(self.ttsplit))\n",
    "    self.tvsplit=int((1-train_val_split)*self.ttsplit)\n",
    "    print(\"Train-Validation-Split = {}\".format(self.tvsplit))\n",
    "    self.target_cols=target_cols\n",
    "\n",
    "  def sample_train(self,lookback=128):\n",
    "    end=np.random.choice(self.tvsplit-lookback-1,1)[0]+lookback\n",
    "    start=end-lookback\n",
    "    X=self.df.values[start:end]\n",
    "    y=self.df[self.target_cols].values[end:end+1].reshape(-1)\n",
    "    return X,y\n",
    "\n",
    "  def sample_val(self,lookback=128):\n",
    "    end=np.random.choice(self.ttsplit-self.tvsplit,1)[0]+lookback+self.tvsplit\n",
    "    start=end-lookback\n",
    "    X=self.df.values[start:end]\n",
    "    y=self.df[self.target_cols].values[end:end+1].reshape(-1)\n",
    "    return X,y\n",
    "\n",
    "  def sample_test(self,lookback=128):\n",
    "    end=np.random.choice((self.df.shape[0]-self.ttsplit)-lookback-1,1)[0]+lookback\n",
    "    start=end-lookback\n",
    "    X=self.df.values[start:end]\n",
    "    y=self.df[self.target_cols].values[end:end+1].reshape(-1)\n",
    "    return X,y\n",
    "\n",
    "ts=TimeSeries(df,target_cols)\n",
    "X,y=ts.sample_val()"
   ],
   "metadata": {
    "collapsed": false,
    "pycharm": {
     "name": "#%%\n"
    }
   }
  },
  {
   "cell_type": "code",
   "execution_count": 32,
   "outputs": [
    {
     "data": {
      "text/plain": "generation biomass                       447.0\ngeneration fossil brown coal/lignite     329.0\ngeneration fossil gas                   4844.0\ngeneration fossil hard coal             4821.0\ngeneration fossil oil                    162.0\n                                         ...  \nrain_1h                                    0.0\nrain_3h                                    0.0\nsnow_3h                                    0.0\nclouds_all                                 0.0\nweather_id                               800.0\nName: 2015-01-01 00:00:00+0100, Length: 391, dtype: float64"
     },
     "execution_count": 32,
     "metadata": {},
     "output_type": "execute_result"
    }
   ],
   "source": [
    "df.iloc[0]"
   ],
   "metadata": {
    "collapsed": false,
    "pycharm": {
     "name": "#%%\n"
    }
   }
  },
  {
   "cell_type": "code",
   "execution_count": 33,
   "outputs": [
    {
     "data": {
      "text/plain": "HBox(children=(FloatProgress(value=0.0, max=5000.0), HTML(value='')))",
      "application/vnd.jupyter.widget-view+json": {
       "version_major": 2,
       "version_minor": 0,
       "model_id": "a6ee92bf782a44a882a4422573935c5a"
      }
     },
     "metadata": {},
     "output_type": "display_data"
    },
    {
     "name": "stdout",
     "output_type": "stream",
     "text": [
      "\n"
     ]
    }
   ],
   "source": [
    "X=[]\n",
    "y=[]\n",
    "for _ in tqdm(range(5000)):\n",
    "  X_,y_=ts.sample_train()\n",
    "  X.append(X_)\n",
    "  y.append(y_)\n",
    "\n",
    "X=torch.FloatTensor(X).to(device)\n",
    "y=torch.FloatTensor(y).to(device)"
   ],
   "metadata": {
    "collapsed": false,
    "pycharm": {
     "name": "#%%\n"
    }
   }
  },
  {
   "cell_type": "code",
   "execution_count": 34,
   "outputs": [
    {
     "data": {
      "text/plain": "HBox(children=(FloatProgress(value=0.0, max=1000.0), HTML(value='')))",
      "application/vnd.jupyter.widget-view+json": {
       "version_major": 2,
       "version_minor": 0,
       "model_id": "2905857cd08d492fb6b25a6c090bbe3a"
      }
     },
     "metadata": {},
     "output_type": "display_data"
    },
    {
     "name": "stdout",
     "output_type": "stream",
     "text": [
      "\n"
     ]
    }
   ],
   "source": [
    "X_val=[]\n",
    "y_val=[]\n",
    "for _ in tqdm(range(1000)):\n",
    "  X_,y_=ts.sample_val()\n",
    "  X_val.append(X_)\n",
    "  y_val.append(y_)\n",
    "\n",
    "X_val=torch.FloatTensor(X_val).to(device)\n",
    "y_val=torch.FloatTensor(y_val).to(device)"
   ],
   "metadata": {
    "collapsed": false,
    "pycharm": {
     "name": "#%%\n"
    }
   }
  },
  {
   "cell_type": "code",
   "execution_count": 35,
   "outputs": [
    {
     "data": {
      "text/plain": "HBox(children=(FloatProgress(value=0.0, max=1000.0), HTML(value='')))",
      "application/vnd.jupyter.widget-view+json": {
       "version_major": 2,
       "version_minor": 0,
       "model_id": "af175a5093fb4d3da3f6cdc18b7a4056"
      }
     },
     "metadata": {},
     "output_type": "display_data"
    },
    {
     "name": "stdout",
     "output_type": "stream",
     "text": [
      "\n"
     ]
    }
   ],
   "source": [
    "X_test=[]\n",
    "y_test=[]\n",
    "for _ in tqdm(range(1000)):\n",
    "  X_,y_=ts.sample_test()\n",
    "  X_test.append(X_)\n",
    "  y_test.append(y_)\n",
    "\n",
    "X_test=torch.FloatTensor(X_test).to(device)\n",
    "y_test=torch.FloatTensor(y_test).to(device)"
   ],
   "metadata": {
    "collapsed": false,
    "pycharm": {
     "name": "#%%\n"
    }
   }
  },
  {
   "cell_type": "code",
   "execution_count": 36,
   "outputs": [],
   "source": [
    "class Normalizer(nn.Module):\n",
    "  def __init__(self,X):\n",
    "    super().__init__()\n",
    "    with torch.no_grad():\n",
    "      self.mu=nn.Parameter(X.reshape(X.shape[0],-1).mean(axis=0))\n",
    "      self.std=nn.Parameter(X.reshape(X.shape[0],-1).std(axis=0))\n",
    "\n",
    "  def forward(self,x):\n",
    "    orig_shape=x.shape\n",
    "    x=x.reshape(x.shape[0],-1)\n",
    "    x=(x-self.mu)/(self.std+1e-6)\n",
    "    x=x.reshape(orig_shape)\n",
    "    return x\n",
    "\n",
    "  def reverse(self,x):\n",
    "    orig_shape=x.shape\n",
    "    x=x.reshape(x.shape[0],-1)\n",
    "    x=(x*(self.std+1e-6))+self.mu\n",
    "    x=x.reshape(orig_shape)\n",
    "    return x\n",
    "\n",
    "input_normalizer=Normalizer(X).to(device)\n",
    "output_normalizer=Normalizer(y).to(device)"
   ],
   "metadata": {
    "collapsed": false,
    "pycharm": {
     "name": "#%%\n"
    }
   }
  },
  {
   "cell_type": "code",
   "execution_count": 48,
   "outputs": [
    {
     "data": {
      "text/plain": "torch.Size([5000, 128, 391])"
     },
     "execution_count": 48,
     "metadata": {},
     "output_type": "execute_result"
    }
   ],
   "source": [
    "X.shape"
   ],
   "metadata": {
    "collapsed": false,
    "pycharm": {
     "name": "#%%\n"
    }
   }
  },
  {
   "cell_type": "code",
   "execution_count": 38,
   "outputs": [
    {
     "data": {
      "text/plain": "(tensor([[23.4100],\n         [52.7600],\n         [59.2000],\n         [43.7800],\n         [31.4900]], device='cuda:0', grad_fn=<ViewBackward>),\n tensor([[23.4100],\n         [52.7600],\n         [59.2000],\n         [43.7800],\n         [31.4900]], device='cuda:0'))"
     },
     "execution_count": 38,
     "metadata": {},
     "output_type": "execute_result"
    }
   ],
   "source": [
    "output_normalizer(y[0:5]).shape\n",
    "output_normalizer.reverse(output_normalizer(y[0:5])),y[0:5]"
   ],
   "metadata": {
    "collapsed": false,
    "pycharm": {
     "name": "#%%\n"
    }
   }
  },
  {
   "cell_type": "code",
   "execution_count": 39,
   "outputs": [],
   "source": [
    "class Predictor(nn.Module):\n",
    "  def __init__(self,X,y):\n",
    "    super().__init__()\n",
    "    self.lstm=nn.LSTM(X.shape[-1],64,batch_first=True)\n",
    "    self.hidden=nn.Sequential(\n",
    "        nn.LayerNorm(64),\n",
    "        nn.Linear(64,16),\n",
    "        nn.ELU(),\n",
    "        nn.LayerNorm(16),\n",
    "        nn.Linear(16,8),\n",
    "        nn.ELU(),\n",
    "    )\n",
    "    self.out_mu=nn.Sequential(\n",
    "        nn.Linear(8,y.shape[-1]),\n",
    "        nn.Tanh()\n",
    "    )\n",
    "    self.out_log_prob=nn.Sequential(\n",
    "        nn.Linear(8,y.shape[-1]),\n",
    "        nn.Tanh()\n",
    "    )\n",
    "\n",
    "  def forward(self,x):\n",
    "    _,(x,_)=self.lstm(x)\n",
    "    x=self.hidden(x)\n",
    "    x_mu=self.out_mu(x)*4 # data is normalized to mu 0+-std 1\n",
    "    x_log_prob=self.out_log_prob(x)*4\n",
    "    return torch.distributions.Normal(x_mu,x_log_prob.exp())\n",
    "\n",
    "\n",
    "predictor=Predictor(X,y).to(device)\n"
   ],
   "metadata": {
    "collapsed": false,
    "pycharm": {
     "name": "#%%\n"
    }
   }
  },
  {
   "cell_type": "code",
   "execution_count": 40,
   "outputs": [
    {
     "data": {
      "text/plain": "tensor(-6.6075, device='cuda:0', grad_fn=<MeanBackward0>)"
     },
     "execution_count": 40,
     "metadata": {},
     "output_type": "execute_result"
    }
   ],
   "source": [
    "predictor(input_normalizer(X_test[:100])).log_prob(output_normalizer(y_test[:100])).mean()"
   ],
   "metadata": {
    "collapsed": false,
    "pycharm": {
     "name": "#%%\n"
    }
   }
  },
  {
   "cell_type": "code",
   "execution_count": 41,
   "outputs": [],
   "source": [
    "lr=1e-4\n",
    "optimizer=torch.optim.Adam(predictor.parameters(),lr=lr)"
   ],
   "metadata": {
    "collapsed": false,
    "pycharm": {
     "name": "#%%\n"
    }
   }
  },
  {
   "cell_type": "code",
   "execution_count": 42,
   "outputs": [
    {
     "data": {
      "text/plain": "HBox(children=(FloatProgress(value=0.0, max=100000.0), HTML(value='')))",
      "application/vnd.jupyter.widget-view+json": {
       "version_major": 2,
       "version_minor": 0,
       "model_id": "ab6d2fae60114bf0adcbacba09582ef3"
      }
     },
     "metadata": {},
     "output_type": "display_data"
    },
    {
     "name": "stdout",
     "output_type": "stream",
     "text": [
      "# tensor(6.7286, device='cuda:0', grad_fn=<NegBackward>)\n",
      "- tensor(2.7225, device='cuda:0', grad_fn=<NegBackward>) 1.9695199 1.9695199 1.9695199\n",
      "# tensor(0.6294, device='cuda:0', grad_fn=<NegBackward>)\n",
      "- tensor(1.0560, device='cuda:0', grad_fn=<NegBackward>) 2.3685703 1.2502896 1.1437309\n",
      "# tensor(0.4803, device='cuda:0', grad_fn=<NegBackward>)\n",
      "- tensor(0.7046, device='cuda:0', grad_fn=<NegBackward>) 2.3685703 1.7588763 0.98666596\n",
      "# tensor(0.4255, device='cuda:0', grad_fn=<NegBackward>)\n",
      "- tensor(0.6833, device='cuda:0', grad_fn=<NegBackward>) 2.3685703 1.3618386 0.9749099\n",
      "# tensor(-0.0543, device='cuda:0', grad_fn=<NegBackward>)\n",
      "- tensor(0.9784, device='cuda:0', grad_fn=<NegBackward>) 2.3685703 1.3866901 0.9749099\n",
      "# tensor(0.2536, device='cuda:0', grad_fn=<NegBackward>)\n",
      "- tensor(0.6473, device='cuda:0', grad_fn=<NegBackward>) 2.3685703 1.1522064 0.9749099\n",
      "# tensor(0.1525, device='cuda:0', grad_fn=<NegBackward>)\n",
      "- tensor(1.2291, device='cuda:0', grad_fn=<NegBackward>) 2.3685703 2.9191055 0.9749099\n",
      "# tensor(0.2783, device='cuda:0', grad_fn=<NegBackward>)\n",
      "- tensor(0.8164, device='cuda:0', grad_fn=<NegBackward>) 2.3685703 1.5016779 0.9749099\n",
      "# tensor(0.3066, device='cuda:0', grad_fn=<NegBackward>)\n",
      "- tensor(0.6876, device='cuda:0', grad_fn=<NegBackward>) 2.3685703 1.6980671 0.9749099\n",
      "# tensor(-0.0272, device='cuda:0', grad_fn=<NegBackward>)\n",
      "- tensor(0.8138, device='cuda:0', grad_fn=<NegBackward>) 2.3685703 1.444824 0.8924787\n",
      "# tensor(0.1177, device='cuda:0', grad_fn=<NegBackward>)\n",
      "- tensor(1.2607, device='cuda:0', grad_fn=<NegBackward>) 2.3685703 1.6885455 0.8924787\n",
      "# tensor(0.0677, device='cuda:0', grad_fn=<NegBackward>)\n",
      "- tensor(0.6146, device='cuda:0', grad_fn=<NegBackward>) 2.3685703 1.7719879 0.8924787\n",
      "# tensor(0.1200, device='cuda:0', grad_fn=<NegBackward>)\n",
      "- tensor(1.0774, device='cuda:0', grad_fn=<NegBackward>) 2.3685703 1.7245113 0.8924787\n",
      "# tensor(-0.0090, device='cuda:0', grad_fn=<NegBackward>)\n",
      "- tensor(0.8621, device='cuda:0', grad_fn=<NegBackward>) 2.3685703 1.9453869 0.8924787\n",
      "# tensor(0.1885, device='cuda:0', grad_fn=<NegBackward>)\n",
      "- tensor(0.7887, device='cuda:0', grad_fn=<NegBackward>) 2.3685703 1.978296 0.8924787\n",
      "# tensor(0.1150, device='cuda:0', grad_fn=<NegBackward>)\n",
      "- tensor(0.5982, device='cuda:0', grad_fn=<NegBackward>) 2.3685703 1.9063447 0.8924787\n",
      "# tensor(0.1240, device='cuda:0', grad_fn=<NegBackward>)\n",
      "- tensor(1.2707, device='cuda:0', grad_fn=<NegBackward>) 2.3685703 1.6676395 0.8924787\n",
      "# tensor(0.0193, device='cuda:0', grad_fn=<NegBackward>)\n",
      "- tensor(0.8923, device='cuda:0', grad_fn=<NegBackward>) 2.3685703 1.6510435 0.8924787\n",
      "# tensor(0.2187, device='cuda:0', grad_fn=<NegBackward>)\n",
      "- tensor(0.8362, device='cuda:0', grad_fn=<NegBackward>) 2.3685703 1.5467864 0.8924787\n",
      "# tensor(0.0151, device='cuda:0', grad_fn=<NegBackward>)\n",
      "- tensor(1.0236, device='cuda:0', grad_fn=<NegBackward>) 2.3685703 1.788955 0.8924787\n",
      "# tensor(0.2422, device='cuda:0', grad_fn=<NegBackward>)\n",
      "- tensor(0.8929, device='cuda:0', grad_fn=<NegBackward>) 2.3685703 1.9146137 0.8924787\n",
      "# tensor(0.1436, device='cuda:0', grad_fn=<NegBackward>)\n",
      "- tensor(0.5889, device='cuda:0', grad_fn=<NegBackward>) 2.3685703 2.0203793 0.8924787\n",
      "# tensor(0.1278, device='cuda:0', grad_fn=<NegBackward>)\n",
      "- tensor(0.8191, device='cuda:0', grad_fn=<NegBackward>) 2.3685703 2.2021458 0.8924787\n",
      "# tensor(0.2933, device='cuda:0', grad_fn=<NegBackward>)\n",
      "- tensor(1.1726, device='cuda:0', grad_fn=<NegBackward>) 2.3685703 2.1147537 0.8924787\n",
      "# tensor(0.0422, device='cuda:0', grad_fn=<NegBackward>)\n",
      "- tensor(0.8661, device='cuda:0', grad_fn=<NegBackward>) 2.3685703 2.289068 0.8924787\n",
      "# tensor(0.1696, device='cuda:0', grad_fn=<NegBackward>)\n",
      "- tensor(1.0501, device='cuda:0', grad_fn=<NegBackward>) 2.3685703 1.7864691 0.8924787\n",
      "# tensor(0.2179, device='cuda:0', grad_fn=<NegBackward>)\n",
      "- tensor(0.8031, device='cuda:0', grad_fn=<NegBackward>) 2.3685703 1.40555 0.8924787\n",
      "# tensor(0.2352, device='cuda:0', grad_fn=<NegBackward>)\n",
      "- tensor(1.0385, device='cuda:0', grad_fn=<NegBackward>) 2.3685703 2.017757 0.8924787\n",
      "# tensor(0.2046, device='cuda:0', grad_fn=<NegBackward>)\n",
      "- tensor(0.9574, device='cuda:0', grad_fn=<NegBackward>) 2.3685703 1.4465381 0.8924787\n",
      "# tensor(0.0615, device='cuda:0', grad_fn=<NegBackward>)\n",
      "- tensor(1.0474, device='cuda:0', grad_fn=<NegBackward>) 2.3685703 1.720344 0.8924787\n",
      "# tensor(0.3039, device='cuda:0', grad_fn=<NegBackward>)\n",
      "- tensor(1.1387, device='cuda:0', grad_fn=<NegBackward>) 2.3685703 1.3020253 0.8924787\n",
      "# tensor(0.3449, device='cuda:0', grad_fn=<NegBackward>)\n",
      "- tensor(1.1605, device='cuda:0', grad_fn=<NegBackward>) 2.3685703 1.4974756 0.8924787\n",
      "# tensor(0.2806, device='cuda:0', grad_fn=<NegBackward>)\n",
      "- tensor(1.0666, device='cuda:0', grad_fn=<NegBackward>) 2.3685703 1.6029259 0.8924787\n",
      "# tensor(-0.0112, device='cuda:0', grad_fn=<NegBackward>)\n",
      "- tensor(0.8788, device='cuda:0', grad_fn=<NegBackward>) 2.3685703 1.3696771 0.8924787\n",
      "# tensor(0.1384, device='cuda:0', grad_fn=<NegBackward>)\n",
      "- tensor(0.9274, device='cuda:0', grad_fn=<NegBackward>) 2.3685703 1.477659 0.8924787\n",
      "# tensor(0.2329, device='cuda:0', grad_fn=<NegBackward>)\n",
      "- tensor(1.1651, device='cuda:0', grad_fn=<NegBackward>) 2.3685703 1.4616262 0.8924787\n",
      "# tensor(0.1195, device='cuda:0', grad_fn=<NegBackward>)\n",
      "- tensor(1.0067, device='cuda:0', grad_fn=<NegBackward>) 2.3685703 1.8979968 0.8924787\n",
      "# tensor(0.2179, device='cuda:0', grad_fn=<NegBackward>)\n",
      "- tensor(1.1147, device='cuda:0', grad_fn=<NegBackward>) 2.3685703 1.3904569 0.8924787\n",
      "# tensor(0.2321, device='cuda:0', grad_fn=<NegBackward>)\n",
      "- tensor(1.0780, device='cuda:0', grad_fn=<NegBackward>) 2.3685703 1.4506626 0.8924787\n",
      "# tensor(0.1852, device='cuda:0', grad_fn=<NegBackward>)\n",
      "- tensor(0.9716, device='cuda:0', grad_fn=<NegBackward>) 2.3685703 1.7897224 0.8924787\n",
      "# tensor(0.2952, device='cuda:0', grad_fn=<NegBackward>)\n",
      "- tensor(0.9869, device='cuda:0', grad_fn=<NegBackward>) 2.3685703 1.2571764 0.8924787\n",
      "# tensor(0.1940, device='cuda:0', grad_fn=<NegBackward>)\n",
      "- tensor(0.8980, device='cuda:0', grad_fn=<NegBackward>) 2.3685703 1.7597846 0.8924787\n",
      "# tensor(0.0835, device='cuda:0', grad_fn=<NegBackward>)\n",
      "- tensor(0.8669, device='cuda:0', grad_fn=<NegBackward>) 2.3685703 1.8741598 0.8924787\n",
      "# tensor(0.3030, device='cuda:0', grad_fn=<NegBackward>)\n",
      "- tensor(0.8348, device='cuda:0', grad_fn=<NegBackward>) 2.3685703 1.2747169 0.8924787\n",
      "# tensor(0.0454, device='cuda:0', grad_fn=<NegBackward>)\n",
      "- tensor(0.8518, device='cuda:0', grad_fn=<NegBackward>) 2.3685703 1.6864486 0.8924787\n",
      "# tensor(0.1192, device='cuda:0', grad_fn=<NegBackward>)\n",
      "- tensor(0.8685, device='cuda:0', grad_fn=<NegBackward>) 2.3685703 1.7208569 0.8924787\n",
      "# tensor(0.1867, device='cuda:0', grad_fn=<NegBackward>)\n",
      "- tensor(1.2278, device='cuda:0', grad_fn=<NegBackward>) 2.3685703 1.5662684 0.8924787\n",
      "# tensor(0.3050, device='cuda:0', grad_fn=<NegBackward>)\n",
      "- tensor(0.8368, device='cuda:0', grad_fn=<NegBackward>) 2.3685703 1.5541759 0.8924787\n",
      "# tensor(0.2449, device='cuda:0', grad_fn=<NegBackward>)\n",
      "- tensor(0.9333, device='cuda:0', grad_fn=<NegBackward>) 2.3685703 1.581325 0.8924787\n",
      "# tensor(0.2676, device='cuda:0', grad_fn=<NegBackward>)\n",
      "- tensor(1.1334, device='cuda:0', grad_fn=<NegBackward>) 2.3685703 1.5573077 0.8924787\n",
      "# tensor(0.2859, device='cuda:0', grad_fn=<NegBackward>)\n",
      "- tensor(0.9218, device='cuda:0', grad_fn=<NegBackward>) 2.3685703 1.5379744 0.8924787\n",
      "# tensor(0.3715, device='cuda:0', grad_fn=<NegBackward>)\n",
      "- tensor(0.9159, device='cuda:0', grad_fn=<NegBackward>) 2.3685703 1.626499 0.8924787\n",
      "# tensor(0.2354, device='cuda:0', grad_fn=<NegBackward>)\n",
      "- tensor(1.0907, device='cuda:0', grad_fn=<NegBackward>) 2.3685703 1.7330928 0.8924787\n",
      "# tensor(0.2079, device='cuda:0', grad_fn=<NegBackward>)\n",
      "- tensor(0.9428, device='cuda:0', grad_fn=<NegBackward>) 2.3685703 1.6080186 0.88394713\n",
      "# tensor(0.2336, device='cuda:0', grad_fn=<NegBackward>)\n",
      "- tensor(1.2351, device='cuda:0', grad_fn=<NegBackward>) 2.3685703 1.4582784 0.88394713\n",
      "# tensor(0.1367, device='cuda:0', grad_fn=<NegBackward>)\n",
      "- tensor(1.0263, device='cuda:0', grad_fn=<NegBackward>) 2.3685703 1.8085977 0.88394713\n",
      "# tensor(0.1294, device='cuda:0', grad_fn=<NegBackward>)\n",
      "- tensor(0.9432, device='cuda:0', grad_fn=<NegBackward>) 2.3685703 1.8222787 0.88394713\n",
      "# tensor(0.2804, device='cuda:0', grad_fn=<NegBackward>)\n",
      "- tensor(1.0271, device='cuda:0', grad_fn=<NegBackward>) 2.3685703 1.5478606 0.88394713\n",
      "# tensor(0.0606, device='cuda:0', grad_fn=<NegBackward>)\n",
      "- tensor(0.9006, device='cuda:0', grad_fn=<NegBackward>) 2.3685703 2.1373625 0.88394713\n",
      "# tensor(0.1694, device='cuda:0', grad_fn=<NegBackward>)\n",
      "- tensor(0.6792, device='cuda:0', grad_fn=<NegBackward>) 2.3685703 1.6574244 0.88394713\n",
      "# tensor(0.1653, device='cuda:0', grad_fn=<NegBackward>)\n",
      "- tensor(0.5816, device='cuda:0', grad_fn=<NegBackward>) 2.3685703 1.9928372 0.88394713\n",
      "# tensor(0.0586, device='cuda:0', grad_fn=<NegBackward>)\n",
      "- tensor(0.9519, device='cuda:0', grad_fn=<NegBackward>) 2.3685703 1.1446556 0.88394713\n",
      "# tensor(0.3011, device='cuda:0', grad_fn=<NegBackward>)\n",
      "- tensor(0.7266, device='cuda:0', grad_fn=<NegBackward>) 2.3685703 1.3825463 0.88394713\n",
      "# tensor(0.2245, device='cuda:0', grad_fn=<NegBackward>)\n",
      "- tensor(0.9645, device='cuda:0', grad_fn=<NegBackward>) 2.3685703 1.3059607 0.88394713\n",
      "# tensor(0.1960, device='cuda:0', grad_fn=<NegBackward>)\n",
      "- tensor(1.2157, device='cuda:0', grad_fn=<NegBackward>) 2.3685703 1.7233018 0.88394713\n",
      "# tensor(0.1499, device='cuda:0', grad_fn=<NegBackward>)\n",
      "- tensor(0.8929, device='cuda:0', grad_fn=<NegBackward>) 2.3685703 1.759202 0.88394713\n",
      "# tensor(0.1630, device='cuda:0', grad_fn=<NegBackward>)\n",
      "- tensor(0.9628, device='cuda:0', grad_fn=<NegBackward>) 2.3685703 1.4314411 0.88394713\n",
      "# tensor(0.2135, device='cuda:0', grad_fn=<NegBackward>)\n",
      "- tensor(1.1804, device='cuda:0', grad_fn=<NegBackward>) 2.3685703 1.8769958 0.88394713\n",
      "# tensor(0.1346, device='cuda:0', grad_fn=<NegBackward>)\n",
      "- tensor(0.9402, device='cuda:0', grad_fn=<NegBackward>) 2.3685703 1.7776034 0.88394713\n",
      "# tensor(0.2421, device='cuda:0', grad_fn=<NegBackward>)\n",
      "- tensor(0.9113, device='cuda:0', grad_fn=<NegBackward>) 2.3685703 1.1784055 0.88394713\n",
      "# tensor(0.1912, device='cuda:0', grad_fn=<NegBackward>)\n",
      "- tensor(0.7822, device='cuda:0', grad_fn=<NegBackward>) 2.3685703 1.5080185 0.88394713\n",
      "# tensor(0.2091, device='cuda:0', grad_fn=<NegBackward>)\n",
      "- tensor(0.8321, device='cuda:0', grad_fn=<NegBackward>) 2.3685703 1.6542554 0.88394713\n",
      "# tensor(0.2597, device='cuda:0', grad_fn=<NegBackward>)\n",
      "- tensor(1.1241, device='cuda:0', grad_fn=<NegBackward>) 2.3685703 1.7002198 0.88394713\n",
      "# tensor(0.2117, device='cuda:0', grad_fn=<NegBackward>)\n",
      "- tensor(0.9631, device='cuda:0', grad_fn=<NegBackward>) 2.3685703 1.292213 0.88394713\n",
      "# tensor(0.0672, device='cuda:0', grad_fn=<NegBackward>)\n",
      "- tensor(1.1515, device='cuda:0', grad_fn=<NegBackward>) 2.3685703 1.8272737 0.88394713\n",
      "# tensor(0.1818, device='cuda:0', grad_fn=<NegBackward>)\n",
      "- tensor(0.7159, device='cuda:0', grad_fn=<NegBackward>) 2.3685703 2.1010637 0.88394713\n",
      "# tensor(0.3626, device='cuda:0', grad_fn=<NegBackward>)\n",
      "- tensor(1.0392, device='cuda:0', grad_fn=<NegBackward>) 2.3685703 1.3280253 0.88394713\n",
      "# tensor(0.1199, device='cuda:0', grad_fn=<NegBackward>)\n",
      "- tensor(1.0778, device='cuda:0', grad_fn=<NegBackward>) 2.3685703 1.2030189 0.88394713\n",
      "# tensor(0.1943, device='cuda:0', grad_fn=<NegBackward>)\n",
      "- tensor(1.1227, device='cuda:0', grad_fn=<NegBackward>) 2.3685703 1.2990506 0.88394713\n",
      "# tensor(0.1447, device='cuda:0', grad_fn=<NegBackward>)\n",
      "- tensor(0.8968, device='cuda:0', grad_fn=<NegBackward>) 2.3685703 1.3320959 0.88394713\n",
      "# tensor(0.2517, device='cuda:0', grad_fn=<NegBackward>)\n",
      "- tensor(0.7173, device='cuda:0', grad_fn=<NegBackward>) 2.3685703 2.0932178 0.88394713\n",
      "# tensor(0.1994, device='cuda:0', grad_fn=<NegBackward>)\n",
      "- tensor(0.9084, device='cuda:0', grad_fn=<NegBackward>) 2.3685703 1.1842515 0.88394713\n",
      "# tensor(0.1505, device='cuda:0', grad_fn=<NegBackward>)\n",
      "- tensor(1.1974, device='cuda:0', grad_fn=<NegBackward>) 2.3685703 1.5422344 0.88394713\n",
      "# tensor(0.1231, device='cuda:0', grad_fn=<NegBackward>)\n",
      "- tensor(0.7322, device='cuda:0', grad_fn=<NegBackward>) 2.3685703 1.8078387 0.88394713\n",
      "# tensor(0.1708, device='cuda:0', grad_fn=<NegBackward>)\n",
      "- tensor(0.8326, device='cuda:0', grad_fn=<NegBackward>) 2.3685703 2.2148738 0.88394713\n",
      "# tensor(0.3195, device='cuda:0', grad_fn=<NegBackward>)\n",
      "- tensor(1.2854, device='cuda:0', grad_fn=<NegBackward>) 2.3685703 2.0256822 0.88394713\n",
      "# tensor(0.1640, device='cuda:0', grad_fn=<NegBackward>)\n",
      "- tensor(0.9678, device='cuda:0', grad_fn=<NegBackward>) 2.3685703 1.4588811 0.88394713\n",
      "# tensor(0.1563, device='cuda:0', grad_fn=<NegBackward>)\n",
      "- tensor(0.9082, device='cuda:0', grad_fn=<NegBackward>) 2.3685703 1.4845604 0.875335\n",
      "# tensor(0.1601, device='cuda:0', grad_fn=<NegBackward>)\n",
      "- tensor(0.7933, device='cuda:0', grad_fn=<NegBackward>) 2.3685703 1.4670341 0.875335\n",
      "# tensor(0.1495, device='cuda:0', grad_fn=<NegBackward>)\n",
      "- tensor(1.1568, device='cuda:0', grad_fn=<NegBackward>) 2.3685703 1.4771214 0.875335\n",
      "# tensor(0.2537, device='cuda:0', grad_fn=<NegBackward>)\n",
      "- tensor(1.3555, device='cuda:0', grad_fn=<NegBackward>) 2.3685703 1.7319465 0.875335\n",
      "# tensor(0.0921, device='cuda:0', grad_fn=<NegBackward>)\n",
      "- tensor(1.0305, device='cuda:0', grad_fn=<NegBackward>) 2.3685703 1.4930794 0.875335\n",
      "# tensor(0.1909, device='cuda:0', grad_fn=<NegBackward>)\n",
      "- tensor(1.0560, device='cuda:0', grad_fn=<NegBackward>) 2.3685703 1.4829096 0.875335\n",
      "# tensor(0.1055, device='cuda:0', grad_fn=<NegBackward>)\n",
      "- tensor(0.9955, device='cuda:0', grad_fn=<NegBackward>) 2.3685703 1.4170518 0.875335\n",
      "# tensor(0.1162, device='cuda:0', grad_fn=<NegBackward>)\n",
      "- tensor(0.7044, device='cuda:0', grad_fn=<NegBackward>) 2.3685703 1.6299146 0.875335\n",
      "# tensor(0.2656, device='cuda:0', grad_fn=<NegBackward>)\n",
      "- tensor(0.9110, device='cuda:0', grad_fn=<NegBackward>) 2.3685703 1.4638927 0.875335\n",
      "# tensor(0.1522, device='cuda:0', grad_fn=<NegBackward>)\n",
      "- tensor(0.8121, device='cuda:0', grad_fn=<NegBackward>) 2.3685703 1.8804528 0.875335\n",
      "# tensor(0.2528, device='cuda:0', grad_fn=<NegBackward>)\n",
      "- tensor(1.1854, device='cuda:0', grad_fn=<NegBackward>) 2.3685703 1.208388 0.875335\n",
      "# tensor(0.1798, device='cuda:0', grad_fn=<NegBackward>)\n",
      "- tensor(1.0384, device='cuda:0', grad_fn=<NegBackward>) 2.3685703 1.8668215 0.875335\n",
      "# tensor(0.1357, device='cuda:0', grad_fn=<NegBackward>)\n",
      "- tensor(0.7412, device='cuda:0', grad_fn=<NegBackward>) 2.3685703 1.774261 0.875335\n",
      "# tensor(0.2145, device='cuda:0', grad_fn=<NegBackward>)\n",
      "- tensor(0.7205, device='cuda:0', grad_fn=<NegBackward>) 2.3685703 1.0376049 0.875335\n",
      "# tensor(0.3493, device='cuda:0', grad_fn=<NegBackward>)\n",
      "- tensor(0.9908, device='cuda:0', grad_fn=<NegBackward>) 2.3685703 1.5840905 0.875335\n",
      "# tensor(0.1470, device='cuda:0', grad_fn=<NegBackward>)\n",
      "- tensor(0.9328, device='cuda:0', grad_fn=<NegBackward>) 2.3685703 1.2356862 0.875335\n",
      "# tensor(0.1764, device='cuda:0', grad_fn=<NegBackward>)\n",
      "- tensor(0.9364, device='cuda:0', grad_fn=<NegBackward>) 2.3685703 1.6422236 0.875335\n",
      "# tensor(0.1121, device='cuda:0', grad_fn=<NegBackward>)\n",
      "- tensor(1.0100, device='cuda:0', grad_fn=<NegBackward>) 2.3685703 1.2748125 0.875335\n",
      "# tensor(0.1942, device='cuda:0', grad_fn=<NegBackward>)\n",
      "- tensor(0.9913, device='cuda:0', grad_fn=<NegBackward>) 2.3685703 1.6193933 0.875335\n",
      "# tensor(0.2008, device='cuda:0', grad_fn=<NegBackward>)\n",
      "- tensor(1.2489, device='cuda:0', grad_fn=<NegBackward>) 2.3685703 1.4317089 0.875335\n",
      "# tensor(0.1559, device='cuda:0', grad_fn=<NegBackward>)\n",
      "- tensor(1.0685, device='cuda:0', grad_fn=<NegBackward>) 2.3685703 2.1218038 0.875335\n",
      "# tensor(0.2039, device='cuda:0', grad_fn=<NegBackward>)\n",
      "- tensor(0.9065, device='cuda:0', grad_fn=<NegBackward>) 2.3685703 1.2053181 0.875335\n",
      "\n"
     ]
    },
    {
     "ename": "KeyboardInterrupt",
     "evalue": "",
     "output_type": "error",
     "traceback": [
      "\u001B[1;31m---------------------------------------------------------------------------\u001B[0m",
      "\u001B[1;31mKeyboardInterrupt\u001B[0m                         Traceback (most recent call last)",
      "\u001B[1;32m<ipython-input-42-2f03845ed79d>\u001B[0m in \u001B[0;36m<module>\u001B[1;34m\u001B[0m\n\u001B[0;32m     22\u001B[0m   \u001B[0midx\u001B[0m\u001B[1;33m=\u001B[0m\u001B[0mnp\u001B[0m\u001B[1;33m.\u001B[0m\u001B[0mrandom\u001B[0m\u001B[1;33m.\u001B[0m\u001B[0mchoice\u001B[0m\u001B[1;33m(\u001B[0m\u001B[0mX_val\u001B[0m\u001B[1;33m.\u001B[0m\u001B[0mshape\u001B[0m\u001B[1;33m[\u001B[0m\u001B[1;36m0\u001B[0m\u001B[1;33m]\u001B[0m\u001B[1;33m,\u001B[0m\u001B[1;36m128\u001B[0m\u001B[1;33m)\u001B[0m\u001B[1;33m\u001B[0m\u001B[1;33m\u001B[0m\u001B[0m\n\u001B[0;32m     23\u001B[0m   \u001B[0mdist\u001B[0m\u001B[1;33m=\u001B[0m\u001B[0mpredictor\u001B[0m\u001B[1;33m(\u001B[0m\u001B[0minput_normalizer\u001B[0m\u001B[1;33m(\u001B[0m\u001B[0mX_val\u001B[0m\u001B[1;33m[\u001B[0m\u001B[0midx\u001B[0m\u001B[1;33m]\u001B[0m\u001B[1;33m)\u001B[0m\u001B[1;33m)\u001B[0m\u001B[1;33m\u001B[0m\u001B[1;33m\u001B[0m\u001B[0m\n\u001B[1;32m---> 24\u001B[1;33m   \u001B[0mlog_probs\u001B[0m\u001B[1;33m=\u001B[0m\u001B[0mdist\u001B[0m\u001B[1;33m.\u001B[0m\u001B[0mlog_prob\u001B[0m\u001B[1;33m(\u001B[0m\u001B[0moutput_normalizer\u001B[0m\u001B[1;33m(\u001B[0m\u001B[0my_val\u001B[0m\u001B[1;33m[\u001B[0m\u001B[0midx\u001B[0m\u001B[1;33m]\u001B[0m\u001B[1;33m)\u001B[0m\u001B[1;33m)\u001B[0m\u001B[1;33m\u001B[0m\u001B[1;33m\u001B[0m\u001B[0m\n\u001B[0m\u001B[0;32m     25\u001B[0m   \u001B[0mval_loss\u001B[0m\u001B[1;33m=\u001B[0m\u001B[1;33m-\u001B[0m\u001B[0mlog_probs\u001B[0m\u001B[1;33m.\u001B[0m\u001B[0mmean\u001B[0m\u001B[1;33m(\u001B[0m\u001B[1;33m)\u001B[0m\u001B[1;33m.\u001B[0m\u001B[0mdetach\u001B[0m\u001B[1;33m(\u001B[0m\u001B[1;33m)\u001B[0m\u001B[1;33m.\u001B[0m\u001B[0mcpu\u001B[0m\u001B[1;33m(\u001B[0m\u001B[1;33m)\u001B[0m\u001B[1;33m.\u001B[0m\u001B[0mnumpy\u001B[0m\u001B[1;33m(\u001B[0m\u001B[1;33m)\u001B[0m\u001B[1;33m\u001B[0m\u001B[1;33m\u001B[0m\u001B[0m\n\u001B[0;32m     26\u001B[0m \u001B[1;33m\u001B[0m\u001B[0m\n",
      "\u001B[1;31mKeyboardInterrupt\u001B[0m: "
     ]
    }
   ],
   "source": [
    "last_val_scores=[]\n",
    "last_val_scores_max_size=4\n",
    "lr_decay=.95\n",
    "lr=1e-3\n",
    "optimizer=torch.optim.Adam(predictor.parameters(),lr=lr)\n",
    "\n",
    "best_params=copy.deepcopy(predictor.state_dict())\n",
    "best_params_score=np.inf\n",
    "\n",
    "for step in tqdm(range(100000)):\n",
    "\n",
    "  #train step\n",
    "  idx=np.random.choice(X.shape[0],128)\n",
    "  dist=predictor(input_normalizer(X[idx]))\n",
    "  log_probs=dist.log_prob(output_normalizer(y[idx]))\n",
    "  loss=-log_probs.mean()\n",
    "  optimizer.zero_grad()\n",
    "  loss.backward()\n",
    "  optimizer.step()\n",
    "\n",
    "  #validation\n",
    "  idx=np.random.choice(X_val.shape[0],128)\n",
    "  dist=predictor(input_normalizer(X_val[idx]))\n",
    "  log_probs=dist.log_prob(output_normalizer(y_val[idx]))\n",
    "  val_loss=-log_probs.mean().detach().cpu().numpy()\n",
    "\n",
    "  if len(last_val_scores)>=last_val_scores_max_size:\n",
    "    if val_loss>np.max(last_val_scores):\n",
    "      predictor.load_state_dict(best_params)\n",
    "      lr*=lr_decay\n",
    "      lr=max(lr,1e-5)\n",
    "      optimizer=torch.optim.Adam(predictor.parameters(),lr=lr)\n",
    "    else:\n",
    "      last_val_scores.insert(0,val_loss)\n",
    "  else:\n",
    "    last_val_scores.append(val_loss)\n",
    "\n",
    "  last_val_scores[:last_val_scores_max_size]\n",
    "\n",
    "  if val_loss<best_params_score:\n",
    "    best_params=copy.deepcopy(predictor.state_dict())\n",
    "    best_params_score=val_loss\n",
    "\n",
    "\n",
    "  if step%100==0:\n",
    "    print(\"#\",loss)\n",
    "    idx=np.random.choice(X_test.shape[0],128)\n",
    "    dist=predictor(input_normalizer(X_test[idx]))\n",
    "    log_probs=dist.log_prob(output_normalizer(y_test[idx]))\n",
    "    loss=-log_probs.mean()\n",
    "    print(\"-\",loss,np.max(last_val_scores),val_loss, best_params_score)"
   ],
   "metadata": {
    "collapsed": false,
    "pycharm": {
     "name": "#%%\n"
    }
   }
  },
  {
   "cell_type": "code",
   "execution_count": null,
   "outputs": [],
   "source": [
    "y.mean(),y.std()"
   ],
   "metadata": {
    "collapsed": false,
    "pycharm": {
     "name": "#%%\n"
    }
   }
  },
  {
   "cell_type": "code",
   "execution_count": null,
   "outputs": [],
   "source": [
    "predictor.load_state_dict(best_params)"
   ],
   "metadata": {
    "collapsed": false,
    "pycharm": {
     "name": "#%%\n"
    }
   }
  },
  {
   "cell_type": "code",
   "execution_count": null,
   "outputs": [],
   "source": [
    "lookback=128\n",
    "last_pred_y=ts.df[target_cols].values[ts.ttsplit:ts.ttsplit+1].reshape(-1)\n",
    "pred_ys=[]\n",
    "pred_ys_std=[]\n",
    "true_ys=[]\n",
    "for i in tqdm(range(ts.ttsplit,ts.df.shape[0])):\n",
    "  end=i\n",
    "  start=end-lookback\n",
    "  X=ts.df.iloc[start:end].copy()\n",
    "  X.loc[X.iloc[-1:,:].index,target_cols]=last_pred_y\n",
    "  X=torch.FloatTensor(X.values).unsqueeze(0).to(device)\n",
    "  pred_dist=predictor(input_normalizer(X))\n",
    "  pred_y=output_normalizer.reverse(pred_dist.mean)[0][0].detach().cpu().numpy()\n",
    "  pred_y_std=output_normalizer.reverse(pred_dist.stddev)[0][0].detach().cpu().numpy()\n",
    "  y=ts.df[target_cols].values[end:end+1].reshape(-1)\n",
    "\n",
    "  pred_ys.append(pred_y)\n",
    "  pred_ys_std.append(pred_y_std)\n",
    "  true_ys.append(y)\n",
    "  last_pred_y=pred_y"
   ],
   "metadata": {
    "collapsed": false,
    "pycharm": {
     "name": "#%%\n"
    }
   }
  },
  {
   "cell_type": "code",
   "execution_count": null,
   "outputs": [],
   "source": [
    "pred_ys=np.array(pred_ys)\n",
    "pred_ys_std=np.array(pred_ys_std)\n",
    "true_ys=np.array(true_ys)"
   ],
   "metadata": {
    "collapsed": false,
    "pycharm": {
     "name": "#%%\n"
    }
   }
  },
  {
   "cell_type": "code",
   "execution_count": null,
   "outputs": [],
   "source": [
    "def smooth(y, box_pts):\n",
    "    box = np.ones(box_pts)/box_pts\n",
    "    y_smooth = np.convolve(y, box, mode='same')\n",
    "    return y_smooth"
   ],
   "metadata": {
    "collapsed": false,
    "pycharm": {
     "name": "#%%\n"
    }
   }
  },
  {
   "cell_type": "code",
   "execution_count": null,
   "outputs": [],
   "source": [
    "h=30*24\n",
    "plt.figure(figsize=(10,5))\n",
    "plt.plot(true_ys[:h])\n",
    "plt.plot(pred_ys[:h],alpha=.5)"
   ],
   "metadata": {
    "collapsed": false,
    "pycharm": {
     "name": "#%%\n"
    }
   }
  },
  {
   "cell_type": "code",
   "execution_count": null,
   "outputs": [],
   "source": [
    "plt.figure(figsize=(10,5))\n",
    "plt.plot(smooth(true_ys.reshape(-1)[:h],72))\n",
    "plt.plot(smooth(pred_ys.reshape(-1)[:h],72))"
   ],
   "metadata": {
    "collapsed": false,
    "pycharm": {
     "name": "#%%\n"
    }
   }
  },
  {
   "cell_type": "code",
   "execution_count": null,
   "outputs": [],
   "source": [
    "plt.hist(np.abs(true_ys[:h]-pred_ys[:h])/pred_ys[:h])\n",
    "plt.show()\n",
    "(np.abs(true_ys[:h]-pred_ys[:h])/pred_ys[:h]).mean()"
   ],
   "metadata": {
    "collapsed": false,
    "pycharm": {
     "name": "#%%\n"
    }
   }
  },
  {
   "cell_type": "code",
   "execution_count": null,
   "outputs": [],
   "source": [
    "lookback=128\n",
    "last_pred_y=ts.df[target_cols].values[ts.ttsplit:ts.ttsplit+1].reshape(-1)\n",
    "pred_ys_1d=[]\n",
    "pred_ys_std_1d=[]\n",
    "true_ys_1d=[]\n",
    "for i in tqdm(range(ts.ttsplit,ts.df.shape[0])):\n",
    "  end=i\n",
    "  start=end-lookback\n",
    "  X=ts.df.iloc[start:end].copy()\n",
    "  #X.loc[X.iloc[-1:,:].index,target_cols]=last_pred_y\n",
    "  X=torch.FloatTensor(X.values).unsqueeze(0).to(device)\n",
    "  pred_dist=predictor(input_normalizer(X))\n",
    "  pred_y=output_normalizer.reverse(pred_dist.mean)[0][0].detach().cpu().numpy()\n",
    "  pred_y_std=output_normalizer.reverse(pred_dist.stddev)[0][0].detach().cpu().numpy()\n",
    "  y=ts.df[target_cols].values[end:end+1].reshape(-1)\n",
    "\n",
    "  pred_ys_1d.append(pred_y)\n",
    "  pred_ys_std_1d.append(pred_y_std)\n",
    "  true_ys_1d.append(y)\n",
    "  last_pred_y=pred_y"
   ],
   "metadata": {
    "collapsed": false,
    "pycharm": {
     "name": "#%%\n"
    }
   }
  },
  {
   "cell_type": "code",
   "execution_count": null,
   "outputs": [],
   "source": [
    "pred_ys_1d=np.array(pred_ys_1d)\n",
    "pred_ys_std_1d=np.array(pred_ys_std_1d)\n",
    "true_ys_1d=np.array(true_ys_1d)"
   ],
   "metadata": {
    "collapsed": false,
    "pycharm": {
     "name": "#%%\n"
    }
   }
  },
  {
   "cell_type": "code",
   "execution_count": null,
   "outputs": [],
   "source": [
    "h=14000*24\n",
    "plt.figure(figsize=(10,5))\n",
    "plt.plot(true_ys_1d[:h])\n",
    "plt.plot(pred_ys_1d[:h],alpha=.5)"
   ],
   "metadata": {
    "collapsed": false,
    "pycharm": {
     "name": "#%%\n"
    }
   }
  },
  {
   "cell_type": "code",
   "execution_count": null,
   "outputs": [],
   "source": [
    "h=10000\n",
    "plt.hist(np.abs(true_ys_1d[:h]-pred_ys_1d[:h])/pred_ys_1d[:h])\n",
    "plt.show()\n",
    "(np.abs(true_ys_1d[:h]-pred_ys_1d[:h])/pred_ys_1d[:h]).mean()"
   ],
   "metadata": {
    "collapsed": false,
    "pycharm": {
     "name": "#%%\n"
    }
   }
  },
  {
   "cell_type": "code",
   "execution_count": null,
   "outputs": [],
   "source": [
    "lookback=128\n",
    "last_pred_y=ts.df[target_cols].values[ts.ttsplit:ts.ttsplit+1].reshape(-1)\n",
    "pred_ys=[]\n",
    "pred_ys_std=[]\n",
    "true_ys=[]\n",
    "for i in tqdm(range(ts.ttsplit,ts.df.shape[0])):\n",
    "  end=i\n",
    "  start=end-lookback\n",
    "  X=ts.df.iloc[start:end].copy()\n",
    "  X.loc[X.iloc[-1:,:].index,target_cols]=last_pred_y\n",
    "  X=torch.FloatTensor(X.values).unsqueeze(0).to(device)\n",
    "  pred_dist=predictor(input_normalizer(X))\n",
    "  pred_y=output_normalizer.reverse(pred_dist.mean)[0][0].detach().cpu().numpy()\n",
    "  pred_y_std=output_normalizer.reverse(pred_dist.stddev)[0][0].detach().cpu().numpy()\n",
    "  y=ts.df[target_cols].values[end:end+1].reshape(-1)\n",
    "\n",
    "  pred_ys.append(pred_y)\n",
    "  pred_ys_std.append(pred_y_std)\n",
    "  true_ys.append(y)\n",
    "  last_pred_y=pred_y\n"
   ],
   "metadata": {
    "collapsed": false,
    "pycharm": {
     "name": "#%%\n"
    }
   }
  }
 ],
 "metadata": {
  "kernelspec": {
   "display_name": "Python 3",
   "language": "python",
   "name": "python3"
  },
  "language_info": {
   "codemirror_mode": {
    "name": "ipython",
    "version": 2
   },
   "file_extension": ".py",
   "mimetype": "text/x-python",
   "name": "python",
   "nbconvert_exporter": "python",
   "pygments_lexer": "ipython2",
   "version": "2.7.6"
  }
 },
 "nbformat": 4,
 "nbformat_minor": 0
}