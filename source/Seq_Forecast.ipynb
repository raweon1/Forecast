{
 "cells": [
  {
   "cell_type": "code",
   "execution_count": 1,
   "outputs": [],
   "source": [
    "from __future__ import print_function\n",
    "\n",
    "import os\n",
    "import copy\n",
    "import pandas as pd\n",
    "import numpy as np\n",
    "import matplotlib.pyplot as plt\n",
    "from matplotlib import cm, colors\n",
    "\n",
    "from sklearn.pipeline import Pipeline, FeatureUnion\n",
    "from sklearn.preprocessing import MinMaxScaler\n",
    "from sklearn.metrics import mean_squared_error\n",
    "from sklearn.manifold import TSNE\n",
    "from source.DataFrameSelector import DataFrameSelector\n",
    "\n",
    "from datetime import datetime, timezone\n",
    "\n",
    "from tqdm import tqdm\n",
    "import torch\n",
    "import torch.nn as nn"
   ],
   "metadata": {
    "collapsed": false,
    "pycharm": {
     "name": "#%%\n"
    }
   }
  },
  {
   "cell_type": "code",
   "execution_count": 2,
   "outputs": [],
   "source": [
    "DATA_PATH = os.path.join(\"..\", \"data\")\n",
    "\n",
    "def load_csv(filename, path=DATA_PATH):\n",
    "    return pd.read_csv(os.path.join(path, filename))\n",
    "\n",
    "def to_utc_datetime(df, column=\"time\"):\n",
    "    df[column] = df.apply(lambda row: datetime.strptime(row[column], \"%Y-%m-%d %H:%M:%S%z\").astimezone(timezone.utc), axis=1)\n",
    "    return df\n",
    "\n",
    "def get_price():\n",
    "    e_data = load_csv(\"energy_dataset.csv\")\n",
    "    return e_data[[\"time\", \"price day ahead\", \"total load actual\", \"price\"]].rename(\n",
    "        columns={\"price day ahead\": \"TSO_price_forecast\",\n",
    "                 \"total load actual\": \"load\"})\n",
    "\n",
    "def add_weather_data(df):\n",
    "    w_data = load_csv(\"weather_features.csv\").drop(columns=[\"weather_id\", \"weather_icon\", \"temp_min\", \"temp_max\"])\n",
    "    w_data = w_data.join(other=df.set_index(\"time\"), on=\"time\").drop_duplicates(subset=[\"time\", \"city_name\"])\n",
    "    return w_data.reset_index(drop=True)"
   ],
   "metadata": {
    "collapsed": false,
    "pycharm": {
     "name": "#%%\n"
    }
   }
  },
  {
   "cell_type": "code",
   "execution_count": 16,
   "outputs": [],
   "source": [
    "class TimeSeriesPlot:\n",
    "    def __init__(self, df: pd.DataFrame, target_col:str, prediction_col:str, time_col:str=\"time\"):\n",
    "        self.df = df.copy(deep=True)\n",
    "        self.target = target_col\n",
    "        self.prediction = prediction_col\n",
    "        self.time = time_col\n",
    "        self.df['year'] = self.df[self.time].dt.year\n",
    "        self.df['month'] = self.df[self.time].dt.month\n",
    "        self.df['day'] = self.df[self.time].dt.day\n",
    "        self.df['hours'] = self.df[self.time].dt.hour\n",
    "        self.df[\"dayofweek\"] = self.df[self.time].dt.weekday\n",
    "        self.df[\"se\"] = self.squared_error()\n",
    "        self.df[\"mae\"] = self.absolute_error()\n",
    "        self.df[\"mape\"] = self.absolute_percentage_error()\n",
    "\n",
    "    def mape(self):\n",
    "        return self.df[\"mape\"].mean()\n",
    "\n",
    "    def mae(self):\n",
    "        return self.df[\"mae\"].mean()\n",
    "\n",
    "    def rmse(self):\n",
    "        return np.sqrt(mean_squared_error(self.df[self.target], self.df[self.prediction]))\n",
    "\n",
    "    def squared_error(self):\n",
    "        return np.power(np.subtract(self.df[self.target], self.df[self.prediction]), 2)\n",
    "\n",
    "    def absolute_error(self):\n",
    "        return np.abs(np.subtract(self.df[self.target], self.df[self.prediction]))\n",
    "\n",
    "    def absolute_percentage_error(self):\n",
    "        return np.abs(np.divide(np.subtract(self.df[self.target], self.df[self.prediction]), self.df[self.target])) * 100\n",
    "\n",
    "    def plot_rmse_by_time(self, time:str):\n",
    "        fig = plt.figure()\n",
    "        col_map = {\"y\": \"year\", \"m\": \"month\", \"d\": \"day\", \"h\": \"hours\",  \"wd\": \"dayofweek\"}\n",
    "        group_by_cols = [col_map[param] for param in time.split(\"%\") if param in col_map.keys()]\n",
    "        grouped = self.df.groupby(by=group_by_cols)\n",
    "        mean = grouped[\"se\"].mean()\n",
    "        group_index = [str(index) for index in mean.index]\n",
    "        plt.plot(group_index, np.sqrt(mean), label=\"rmse\")\n",
    "        return fig\n",
    "\n",
    "    def plot_multiple(self, *cols: str):\n",
    "        fig = plt.figure()\n",
    "        for col in cols:\n",
    "            plt.plot(self.df[self.time].values, self.df[col].values, alpha=0.5, label=col)\n",
    "        plt.legend()\n",
    "        plt.show()\n",
    "        return fig\n",
    "\n",
    "    def plot_target_by_time(self, time:str, *targets:str):\n",
    "        col_map = {\"y\": \"year\", \"m\": \"month\", \"d\": \"day\", \"h\": \"hours\",  \"wd\": \"dayofweek\"}\n",
    "        group_by_cols = [col_map[param] for param in time.split(\"%\") if param in col_map.keys()]\n",
    "        self.df.boxplot(column=[*targets], by=group_by_cols,\n",
    "                        layout=(targets.__len__(), 1), rot=45, figsize=(50,40), grid=False)\n",
    "        return plt.gcf()\n",
    "\n",
    "    def plot_target_by_time_band(self, time:str, *targets:str, band:bool=True):\n",
    "        fig = plt.figure()\n",
    "        col_map = {\"y\": \"year\", \"m\": \"month\", \"d\": \"day\", \"h\": \"hours\",  \"wd\": \"dayofweek\"}\n",
    "        group_by_cols = [col_map[param] for param in time.split(\"%\") if param in col_map.keys()]\n",
    "        grouped = self.df.groupby(by=group_by_cols)\n",
    "        for tar in targets:\n",
    "            mean = grouped[tar].mean()\n",
    "            std = grouped[tar].std()\n",
    "            group_index = [str(index) for index in mean.index]\n",
    "            plt.plot(group_index, mean, label=tar)\n",
    "            if band:\n",
    "                plt.fill_between(group_index, mean - 2*std, mean + 2*std, alpha=.5)\n",
    "        plt.legend()\n",
    "        return fig"
   ],
   "metadata": {
    "collapsed": false,
    "pycharm": {
     "name": "#%%\n"
    }
   }
  },
  {
   "cell_type": "code",
   "execution_count": 3,
   "outputs": [],
   "source": [
    "data = to_utc_datetime(add_weather_data(get_price()))\n",
    "data.drop(columns=[\"weather_main\", \"weather_description\", \"TSO_price_forecast\"], inplace=True)\n",
    "data.fillna(method=\"ffill\", inplace=True)\n",
    "data = data.drop(columns=[\"city_name\"]).groupby(by=[\"time\"]).mean()"
   ],
   "metadata": {
    "collapsed": false,
    "pycharm": {
     "name": "#%%\n"
    }
   }
  },
  {
   "cell_type": "code",
   "execution_count": 4,
   "outputs": [],
   "source": [
    "target_column = \"price\"\n",
    "#features = [\"temp\", \"pressure\", \"humidity\", \"wind_speed\", \"wind_deg\", \"rain_1h\", \"rain_3h\", \"snow_3h\", \"clouds_all\", \"load\", \"price\"]\n",
    "features = [\"price\"]\n",
    "num_features = len(features)\n",
    "data = data.loc[:, features]"
   ],
   "metadata": {
    "collapsed": false,
    "pycharm": {
     "name": "#%%\n"
    }
   }
  },
  {
   "cell_type": "code",
   "execution_count": 5,
   "outputs": [],
   "source": [
    "target_year = 2018\n",
    "\n",
    "train_data = data.loc[data.index.year < target_year]\n",
    "test_data = data.loc[data.index.year == target_year]"
   ],
   "metadata": {
    "collapsed": false,
    "pycharm": {
     "name": "#%%\n"
    }
   }
  },
  {
   "cell_type": "code",
   "execution_count": 6,
   "outputs": [],
   "source": [
    "scaler_y = MinMaxScaler()\n",
    "scaler_y.fit(train_data[target_column].values.reshape(-1, 1))\n",
    "\n",
    "scaler = MinMaxScaler()\n",
    "train_data_scaled = scaler.fit_transform(train_data)\n",
    "device = torch.device(\"cuda\" if torch.cuda.is_available() else \"cpu\")\n",
    "#train_data_scaled = torch.FloatTensor(train_data_scaled).to(device)"
   ],
   "metadata": {
    "collapsed": false,
    "pycharm": {
     "name": "#%%\n"
    }
   }
  },
  {
   "cell_type": "code",
   "execution_count": 7,
   "outputs": [],
   "source": [
    "def create_input_output_sequence(input_data, seq_len, pred_len=1, multivar=False):\n",
    "    # if multivar: target column has to be the last column\n",
    "    X = []\n",
    "    y = []\n",
    "    for i in range(len(input_data) - seq_len - pred_len + 1):\n",
    "        train_seq = input_data[i:i+seq_len]\n",
    "        train_label = input_data[i+seq_len:i+seq_len+pred_len]\n",
    "        if not multivar:\n",
    "            train_label = train_label[:, -1]\n",
    "        X.append(train_seq)\n",
    "        y.append(train_label)\n",
    "    X=torch.FloatTensor(X).to(device)\n",
    "    y=torch.FloatTensor(y).to(device)\n",
    "    return X, y\n",
    "\n",
    "seq_len = 48 #24*7\n",
    "out_seq_len = 24\n",
    "X, y = create_input_output_sequence(train_data_scaled, seq_len, out_seq_len)"
   ],
   "metadata": {
    "collapsed": false,
    "pycharm": {
     "name": "#%%\n"
    }
   }
  },
  {
   "cell_type": "code",
   "execution_count": 148,
   "outputs": [],
   "source": [
    "# x has values from a to b, y has values from b+1 to c, so x+y should be equal to the a-c sclice of train_data_scaled\n",
    "assert np.sum(np.concatenate((X.cpu().numpy()[0, -4:].flatten(), y.cpu().numpy()[0, :4].flatten()))\n",
    "              - torch.FloatTensor(train_data_scaled[44:52].flatten()).numpy()) == 0"
   ],
   "metadata": {
    "collapsed": false,
    "pycharm": {
     "name": "#%%\n"
    }
   }
  },
  {
   "cell_type": "code",
   "execution_count": 8,
   "outputs": [],
   "source": [
    "def split_validation(X, y, num_val):\n",
    "    idx = np.random.choice(X.shape[0], num_val, replace=False)\n",
    "    mask = np.ones(X.shape[0], bool)\n",
    "    mask[idx] = False\n",
    "    return X[mask], y[mask], X[idx], y[idx]\n",
    "\n",
    "X, y, X_val, y_val = split_validation(X, y, 300)"
   ],
   "metadata": {
    "collapsed": false,
    "pycharm": {
     "name": "#%%\n"
    }
   }
  },
  {
   "cell_type": "code",
   "execution_count": 153,
   "outputs": [
    {
     "data": {
      "text/plain": "torch.Size([25514, 168, 11])"
     },
     "execution_count": 153,
     "metadata": {},
     "output_type": "execute_result"
    }
   ],
   "source": [
    "X.shape"
   ],
   "metadata": {
    "collapsed": false,
    "pycharm": {
     "name": "#%%\n"
    }
   }
  },
  {
   "cell_type": "code",
   "execution_count": 9,
   "outputs": [],
   "source": [
    "class D_LSTM_Seq(nn.Module):\n",
    "    def __init__(self, input_dim, out_seq_len=1, hidden_dim=100, layer_dim=1, output_dim=1):\n",
    "        super(D_LSTM_Seq, self).__init__()\n",
    "        self.hidden_dim = hidden_dim\n",
    "        self.layer_dim = layer_dim\n",
    "        self.out_seq_len = out_seq_len\n",
    "        self.lstm_in = nn.LSTM(input_dim, hidden_dim, layer_dim, batch_first=True)\n",
    "        self.lstm_repeat = nn.LSTM(hidden_dim, hidden_dim, layer_dim, batch_first=True)\n",
    "        # self.lstm_repeat = nn.LSTM(1, hidden_dim, layer_dim, batch_first=True)\n",
    "        self.linear = nn.Linear(hidden_dim, output_dim)\n",
    "\n",
    "    def init_hidden_cell(self, batch_size):\n",
    "        return (torch.zeros(self.layer_dim, batch_size, self.hidden_dim).to(device),\n",
    "                torch.zeros(self.layer_dim, batch_size, self.hidden_dim).to(device))\n",
    "\n",
    "    def lstm_wrapper(self, batch):\n",
    "        _, (x, _) = self.lstm_repeat(batch, self.init_hidden_cell(batch.shape[0]))\n",
    "        return x[-1] # last layer\n",
    "\n",
    "    def forward(self, x):\n",
    "        batch_size = x.shape[0]\n",
    "        x, (_, _) = self.lstm_in(x, self.init_hidden_cell(batch_size))\n",
    "        # x.shape = [batch, seq_len, hidden_dim] = [batch, timesteps t, h(t)]\n",
    "        x = x.unsqueeze(1).repeat(1, self.out_seq_len, 1, 1)\n",
    "        # x.shape = [batch, out_seq_len repeats of batch, seq_len, hiddem_dim]\n",
    "        # so we can get batch_size batches instead of out_seq_len sized ones\n",
    "        x = x.view(self.out_seq_len, batch_size, -1, self.hidden_dim)\n",
    "        # x.shape = [out_seq_len repeats of batch, batch, seq_len, hiddem_dim]\n",
    "        x = torch.cat([self.lstm_wrapper(batch) for batch in x])\n",
    "        # x.shape = [batch * out_seq_len, hidden_dim]\n",
    "        x = self.linear(x)\n",
    "        # x.shape = [batch * out_seq_len, output_dim]\n",
    "        # order output back into out_seq_len size\n",
    "        x = x.view(batch_size, self.out_seq_len, -1)\n",
    "        if x.shape[-1] == 1:\n",
    "            x = x.view(x.shape[0], -1) # if output_dim = 1, merge last two dimensions\n",
    "        return x\n",
    "\n",
    "class LSTMSeq2SeqOle(nn.Module):\n",
    "    def __init__(self, input_dim, out_seq_len=1, hidden_dim=100, layer_dim=1, output_dim=1):\n",
    "        super(LSTMSeq2SeqOle, self).__init__()\n",
    "        self.hidden_dim = hidden_dim\n",
    "        self.layer_dim = layer_dim\n",
    "        self.out_seq_len = out_seq_len\n",
    "        self.lstm_in = nn.LSTM(input_dim, hidden_dim, layer_dim, batch_first=True)\n",
    "        self.lstm_repeat = nn.LSTM(hidden_dim, hidden_dim, layer_dim, batch_first=True)\n",
    "        self.linear = nn.Linear(hidden_dim, output_dim)\n",
    "\n",
    "    def forward(self, x):\n",
    "        \"\"\"\n",
    "        Input is encoded by lstm_in\n",
    "        Output of lstm_in is the input of lstm_repeat; lstm_repeat starts with new empty states (h,c)\n",
    "        Output of lstm_in is repeated out_seq_len times to get out_seq_len long sequences\n",
    "        \"\"\"\n",
    "        # encode\n",
    "        _, (x, _) = self.lstm_in(x) # x.shape = [lstm_layer, batch, hidden_dim]\n",
    "        x = x[-1] # last lstm_layer; x.shape = [batch, hidden_dim]\n",
    "        x = x.unsqueeze(1).repeat(1, self.out_seq_len, 1) # x.shape = [batch, out_seq_len, hiddem_dim]\n",
    "\n",
    "        # decode\n",
    "        x, (_, _) = self.lstm_repeat(x) # x.shape = [batch, out_seq_len, hidden_dim]\n",
    "        x = self.linear(x) # x.shape = [batch, out_seq_len, output_dim]\n",
    "        if x.shape[-1] == 1:\n",
    "            x = x.view(x.shape[0], -1) # if output_dim = 1, merge last two dimensions\n",
    "        return x\n",
    "\n",
    "class LSTMSeq2SeqBook(nn.Module):\n",
    "    def __init__(self, input_dim, out_seq_len=1, hidden_dim=100, layer_dim=1, output_dim=1):\n",
    "        super(LSTMSeq2SeqBook, self).__init__()\n",
    "        self.hidden_dim = hidden_dim\n",
    "        self.layer_dim = layer_dim\n",
    "        self.out_seq_len = out_seq_len\n",
    "        self.lstm_in = nn.LSTM(input_dim, hidden_dim, layer_dim, batch_first=True)\n",
    "        self.lstm_repeat = nn.LSTM(1, hidden_dim, layer_dim, batch_first=True)\n",
    "        self.linear = nn.Linear(hidden_dim, output_dim)\n",
    "\n",
    "    def forward(self, x):\n",
    "        \"\"\"\n",
    "        Input is encoded by lstm_in\n",
    "        Output of lstm_in is the starting state for lstm_repeat (h, c)\n",
    "        Input for lstm_repeat is zero ([batch, out_seq_len, 1])\n",
    "        \"\"\"\n",
    "        # encode\n",
    "        _, (h, c) = self.lstm_in(x)\n",
    "        # decode\n",
    "        x, (_, _) = self.lstm_repeat(torch.zeros(x.shape[0], self.out_seq_len, 1).to(device), (h, c)) # x.shape = [batch, out_seq_len, hidden_dim]\n",
    "        x = self.linear(x) # x.shape = [batch, out_seq_len, output_dim]\n",
    "        if x.shape[-1] == 1:\n",
    "            x = x.view(x.shape[0], -1) # if output_dim = 1, merge last two dimensions\n",
    "        return x\n",
    "\n",
    "class LSTMSeq2SeqBookTranslation(nn.Module):\n",
    "    def __init__(self, input_dim, out_seq_len=1, hidden_dim=100, layer_dim=1, output_dim=1):\n",
    "        super(LSTMSeq2SeqBookTranslation, self).__init__()\n",
    "        self.hidden_dim = hidden_dim\n",
    "        self.layer_dim = layer_dim\n",
    "        self.out_seq_len = out_seq_len\n",
    "        self.lstm_in = nn.LSTM(input_dim, hidden_dim, layer_dim, batch_first=True)\n",
    "        self.lstm_repeat = nn.LSTM(1, hidden_dim, layer_dim, batch_first=True)\n",
    "        self.linear = nn.Linear(hidden_dim, 1)\n",
    "\n",
    "    def forward(self, x, y=None):\n",
    "        \"\"\"\n",
    "        During training y must be the correct labels. After training y must be None\n",
    "        Input is encoded by lstm_in\n",
    "        Output of lstm_in is the starting state for lstm_repeat (h, c)\n",
    "        Input for lstm_repeat during training:\n",
    "            the labels shifted by one (timestep x gets the correct value of timestep x-1)\n",
    "            last label is discarded, first label is zero\n",
    "        Input for lstm_repeat after training:\n",
    "            Output of lstm_repeat at timestep x-1 is the input for timestep x\n",
    "            in this case: output is a vector but input must be len 1, thus the output at timestep x-1 is used for a linear layer first\n",
    "        \"\"\"\n",
    "        # encode\n",
    "        _, (h, c) = self.lstm_in(x)\n",
    "        # decode\n",
    "        if y is not None:\n",
    "            decoder_input = y.unsqueeze(-1).roll(1, dims=1)\n",
    "            decoder_input[:, 0] = 0\n",
    "            x, (_, _) = self.lstm_repeat(decoder_input, (h, c))\n",
    "            x = self.linear(x)\n",
    "        else:\n",
    "            # seq_len per input must be 1 since we feed the seq manually\n",
    "            # feature is the output of the last iteration, zero for first\n",
    "            decoder_input = torch.zeros(x.shape[0], 1, 1).to(device)\n",
    "            # out_seq_len, batch, output\n",
    "            x = torch.zeros(self.out_seq_len, x.shape[0], 1).to(device)\n",
    "            for i in range(self.out_seq_len):\n",
    "                _, (h, c) = self.lstm_repeat(decoder_input, (h, c))\n",
    "                x[i] = self.linear(h[-1]) # h[-1] = last layer\n",
    "                decoder_input = x[i].unsqueeze(1) # unsqueeze to add seq_len 1\n",
    "            # x.shape = [out_seq_len, batch, 1]\n",
    "            x = x.transpose(0, 1) # batch first\n",
    "        # x.shape = [batch, out_seq_len, output_dim]\n",
    "        if x.shape[-1] == 1:\n",
    "            x = x.view(x.shape[0], -1) # if output_dim = 1, merge last two dimensions\n",
    "        return x"
   ],
   "metadata": {
    "collapsed": false,
    "pycharm": {
     "name": "#%%\n"
    }
   }
  },
  {
   "cell_type": "code",
   "execution_count": 10,
   "outputs": [
    {
     "data": {
      "text/plain": "LSTMSeq2SeqOle(\n  (lstm_in): LSTM(1, 84, batch_first=True)\n  (lstm_repeat): LSTM(84, 84, batch_first=True)\n  (linear): Linear(in_features=84, out_features=1, bias=True)\n)"
     },
     "execution_count": 10,
     "metadata": {},
     "output_type": "execute_result"
    }
   ],
   "source": [
    "mini_batch = 100\n",
    "model = LSTMSeq2SeqOle(input_dim=num_features, out_seq_len=out_seq_len, hidden_dim=84)\n",
    "loss = nn.MSELoss()\n",
    "optimizer = torch.optim.Adam(model.parameters(), lr=0.001)\n",
    "model.to(device)"
   ],
   "metadata": {
    "collapsed": false,
    "pycharm": {
     "name": "#%%\n"
    }
   }
  },
  {
   "cell_type": "code",
   "execution_count": 11,
   "outputs": [
    {
     "name": "stderr",
     "output_type": "stream",
     "text": [
      "100%|██████████| 10000/10000 [02:03<00:00, 81.21it/s]\n"
     ]
    },
    {
     "name": "stdout",
     "output_type": "stream",
     "text": [
      "epoch:   0 loss: 0.20100304\n",
      "epoch: 500 loss: 0.00754089\n",
      "epoch: 1000 loss: 0.00813984\n",
      "epoch: 1500 loss: 0.00917924\n",
      "epoch: 2000 loss: 0.00715278\n",
      "epoch: 2500 loss: 0.00534219\n",
      "epoch: 3000 loss: 0.00461956\n",
      "epoch: 3500 loss: 0.00378262\n",
      "epoch: 4000 loss: 0.00446807\n",
      "epoch: 4500 loss: 0.00314234\n",
      "epoch: 5000 loss: 0.00430210\n",
      "epoch: 5500 loss: 0.00369389\n",
      "epoch: 6000 loss: 0.00316687\n",
      "epoch: 6500 loss: 0.00270783\n",
      "epoch: 7000 loss: 0.00307925\n",
      "epoch: 7500 loss: 0.00356605\n",
      "epoch: 8000 loss: 0.00331345\n",
      "epoch: 8500 loss: 0.00347000\n",
      "epoch: 9000 loss: 0.00451520\n",
      "epoch: 9500 loss: 0.00285527\n",
      "epoch: 9999 loss: 0.0034507688\n"
     ]
    }
   ],
   "source": [
    "val_loss_hist = []\n",
    "last_val_scores = []\n",
    "max_val_scores = 4\n",
    "\n",
    "epochs = 10000\n",
    "for i in tqdm(range(epochs)):\n",
    "    # train\n",
    "    idx = np.random.choice(X.shape[0], mini_batch, replace=False)\n",
    "    optimizer.zero_grad()\n",
    "    #model.hidden_cell = (torch.zeros(2, mini_batch, model.hidden_layer_size).to(device),torch.zeros(2, mini_batch, model.hidden_layer_size).to(device))\n",
    "    y_pred = model(X[idx])\n",
    "    single_loss = loss(y_pred, y[idx])\n",
    "    single_loss.backward()\n",
    "    optimizer.step()\n",
    "\n",
    "    # validation\n",
    "    #idx = np.random.choice(X_val.shape[0], mini_batch, replace=False)\n",
    "    #y_pred = model(X_val[idx])\n",
    "    #val_loss = loss(y_pred, y_val[idx]).detach().cpu().numpy().tolist()\n",
    "    #if len(last_val_scores) >= max_val_scores:\n",
    "    #    if val_loss > max(last_val_scores):\n",
    "    #        pass\n",
    "    #last_val_scores.append(val_loss)\n",
    "    #last_val_scores = last_val_scores[-4:]\n",
    "    #val_loss_hist.append(val_loss)\n",
    "\n",
    "    if i%500 == 0:\n",
    "        print(f'epoch: {i:3} loss: {single_loss.item():10.8f}')\n",
    "\n",
    "print(f'epoch: {i:3} loss: {single_loss.item():10.10f}')"
   ],
   "metadata": {
    "collapsed": false,
    "pycharm": {
     "name": "#%%\n"
    }
   }
  },
  {
   "cell_type": "code",
   "execution_count": 113,
   "outputs": [
    {
     "data": {
      "text/plain": "[<matplotlib.lines.Line2D at 0x210be770888>]"
     },
     "execution_count": 113,
     "metadata": {},
     "output_type": "execute_result"
    },
    {
     "data": {
      "text/plain": "<Figure size 432x288 with 1 Axes>",
      "image/png": "[encoded data removed]"
     },
     "metadata": {
      "needs_background": "light"
     },
     "output_type": "display_data"
    }
   ],
   "source": [
    "plt.plot(val_loss_hist)"
   ],
   "metadata": {
    "collapsed": false,
    "pycharm": {
     "name": "#%%\n"
    }
   }
  },
  {
   "cell_type": "code",
   "execution_count": 12,
   "outputs": [],
   "source": [
    "test_data_scaled = scaler.transform(test_data)"
   ],
   "metadata": {
    "collapsed": false,
    "pycharm": {
     "name": "#%%\n"
    }
   }
  },
  {
   "cell_type": "code",
   "execution_count": 13,
   "outputs": [
    {
     "name": "stderr",
     "output_type": "stream",
     "text": [
      "100%|██████████| 364/364 [00:00<00:00, 506.42it/s]\n"
     ]
    }
   ],
   "source": [
    "pred_len = int(len(test_data) / out_seq_len) * out_seq_len\n",
    "test_inputs = np.vstack((train_data_scaled[-seq_len:].tolist(), test_data_scaled)).tolist()\n",
    "prediction = []\n",
    "for i in tqdm(range(0, pred_len, out_seq_len)):\n",
    "    seq = torch.FloatTensor([test_inputs[i+j:i+j+seq_len] for j in range(out_seq_len)]).to(device)\n",
    "    with torch.no_grad():\n",
    "        output = model(seq)\n",
    "        prediction.append(output.cpu().numpy())\n",
    "\n",
    "prediction = np.array(prediction).reshape(-1, out_seq_len)\n",
    "#prediction_df = test_data[:prediction.shape[0]].assign(prediction=scaler_y.inverse_transform(prediction.reshape(-1, 1)).reshape(-1)).reset_index()"
   ],
   "metadata": {
    "collapsed": false,
    "pycharm": {
     "name": "#%%\n"
    }
   }
  },
  {
   "cell_type": "code",
   "execution_count": 14,
   "outputs": [],
   "source": [
    "f_o=23 # offset into the future: 0 next hour, 1 predeciton of next hour +1\n",
    "prediction_df = test_data[f_o:prediction.shape[0]+f_o].assign(prediction=scaler_y.inverse_transform(prediction[:,f_o].reshape(-1, 1)).reshape(-1)).reset_index()\n",
    "#prediction_df = test_data[f_o:prediction.shape[0]+f_o].assign(prediction=prediction[:,f_o]).reset_index()\n"
   ],
   "metadata": {
    "collapsed": false,
    "pycharm": {
     "name": "#%%\n"
    }
   }
  },
  {
   "cell_type": "code",
   "execution_count": 15,
   "outputs": [
    {
     "ename": "NameError",
     "evalue": "name 'TimeSeriesPlot' is not defined",
     "output_type": "error",
     "traceback": [
      "\u001B[1;31m---------------------------------------------------------------------------\u001B[0m",
      "\u001B[1;31mNameError\u001B[0m                                 Traceback (most recent call last)",
      "\u001B[1;32m<ipython-input-15-30ca64f844dd>\u001B[0m in \u001B[0;36m<module>\u001B[1;34m\u001B[0m\n\u001B[1;32m----> 1\u001B[1;33m \u001B[0mfoobar\u001B[0m \u001B[1;33m=\u001B[0m \u001B[0mTimeSeriesPlot\u001B[0m\u001B[1;33m(\u001B[0m\u001B[0mprediction_df\u001B[0m\u001B[1;33m,\u001B[0m \u001B[1;34m\"price\"\u001B[0m\u001B[1;33m,\u001B[0m \u001B[1;34m\"prediction\"\u001B[0m\u001B[1;33m)\u001B[0m\u001B[1;33m\u001B[0m\u001B[1;33m\u001B[0m\u001B[0m\n\u001B[0m\u001B[0;32m      2\u001B[0m \u001B[0mfig\u001B[0m \u001B[1;33m=\u001B[0m \u001B[0mfoobar\u001B[0m\u001B[1;33m.\u001B[0m\u001B[0mplot_multiple\u001B[0m\u001B[1;33m(\u001B[0m\u001B[1;34m\"price\"\u001B[0m\u001B[1;33m,\u001B[0m \u001B[1;34m\"prediction\"\u001B[0m\u001B[1;33m)\u001B[0m\u001B[1;33m\u001B[0m\u001B[1;33m\u001B[0m\u001B[0m\n\u001B[0;32m      3\u001B[0m \u001B[0mfig\u001B[0m\u001B[1;33m.\u001B[0m\u001B[0msavefig\u001B[0m\u001B[1;33m(\u001B[0m\u001B[1;34m\"../results/seq_forecast_%d.png\"\u001B[0m \u001B[1;33m%\u001B[0m \u001B[1;33m(\u001B[0m\u001B[0mf_o\u001B[0m \u001B[1;33m+\u001B[0m \u001B[1;36m1\u001B[0m\u001B[1;33m)\u001B[0m\u001B[1;33m)\u001B[0m\u001B[1;33m\u001B[0m\u001B[1;33m\u001B[0m\u001B[0m\n\u001B[0;32m      4\u001B[0m \u001B[1;31m#bp = foobar.plot_target_by_time(\"%m%wd\", \"price\", \"prediction\")\u001B[0m\u001B[1;33m\u001B[0m\u001B[1;33m\u001B[0m\u001B[1;33m\u001B[0m\u001B[0m\n\u001B[0;32m      5\u001B[0m \u001B[1;31m#bp.savefig(\"results/foo.png\")\u001B[0m\u001B[1;33m\u001B[0m\u001B[1;33m\u001B[0m\u001B[1;33m\u001B[0m\u001B[0m\n",
      "\u001B[1;31mNameError\u001B[0m: name 'TimeSeriesPlot' is not defined"
     ]
    }
   ],
   "source": [
    "foobar = TimeSeriesPlot(prediction_df, \"price\", \"prediction\")\n",
    "fig = foobar.plot_multiple(\"price\", \"prediction\")\n",
    "fig.savefig(\"../results/seq_forecast_%d.png\" % (f_o + 1))\n",
    "#bp = foobar.plot_target_by_time(\"%m%wd\", \"price\", \"prediction\")\n",
    "#bp.savefig(\"results/foo.png\")\n",
    "#band = foobar.plot_target_by_time_band(\"%m\", \"mape\", band=False)\n",
    "#band.savefig(\"results/mape_per_month.png\")\n",
    "#band = foobar.plot_target_by_time_band(\"%h\", \"mape\", band=False)\n",
    "#band.savefig(\"results/mape_per_hour.png\")\n",
    "#band = foobar.plot_target_by_time_band(\"%m\", \"mae\", band=False)\n",
    "#band.savefig(\"results/mae_per_hour.png\")\n",
    "#rmse = foobar.plot_rmse_by_time(\"%m\")\n",
    "#band.savefig(\"results/band.png\")"
   ],
   "metadata": {
    "collapsed": false,
    "pycharm": {
     "name": "#%%\n"
    }
   }
  },
  {
   "cell_type": "code",
   "execution_count": 109,
   "outputs": [
    {
     "name": "stdout",
     "output_type": "stream",
     "text": [
      "rmse: 7.475326\n",
      "mape: 10.895744\n",
      "mae: 5.713028\n"
     ]
    }
   ],
   "source": [
    "print(\"rmse: %f\" % foobar.rmse())\n",
    "print(\"mape: %f\" % foobar.mape())\n",
    "print(\"mae: %f\" % foobar.mae())"
   ],
   "metadata": {
    "collapsed": false,
    "pycharm": {
     "name": "#%%\n"
    }
   }
  },
  {
   "cell_type": "code",
   "execution_count": 17,
   "outputs": [
    {
     "name": "stderr",
     "output_type": "stream",
     "text": [
      "100%|██████████| 24/24 [00:00<00:00, 96.03it/s]\n"
     ]
    },
    {
     "data": {
      "text/plain": "        rmse       mape       mae\n0   2.741979   3.551989  2.002144\n1   3.984008   5.354510  3.060313\n2   4.709319   6.373457  3.606989\n3   5.326913   7.309291  4.141443\n4   5.739992   7.946576  4.488469\n5   6.045199   8.410683  4.726461\n6   6.283644   8.788094  4.925267\n7   6.489901   9.111899  5.101034\n8   6.683635   9.435485  5.274937\n9   6.864154   9.726051  5.434986\n10  7.036019  10.003569  5.587369\n11  7.197965  10.278675  5.735005\n12  7.343022  10.482191  5.847219\n13  7.469017  10.636601  5.933352\n14  7.560367  10.752699  5.990822\n15  7.621617  10.852299  6.032952\n16  7.664370  10.929549  6.063713\n17  7.690014  10.982792  6.080975\n18  7.697097  10.989587  6.074458\n19  7.685800  10.963206  6.050281\n20  7.661473  10.923253  6.010298\n21  7.640499  10.880986  5.957482\n22  7.641617  10.848730  5.907226\n23  7.718683  10.920335  5.919589",
      "text/html": "<div>\n<style scoped>\n    .dataframe tbody tr th:only-of-type {\n        vertical-align: middle;\n    }\n\n    .dataframe tbody tr th {\n        vertical-align: top;\n    }\n\n    .dataframe thead th {\n        text-align: right;\n    }\n</style>\n<table border=\"1\" class=\"dataframe\">\n  <thead>\n    <tr style=\"text-align: right;\">\n      <th></th>\n      <th>rmse</th>\n      <th>mape</th>\n      <th>mae</th>\n    </tr>\n  </thead>\n  <tbody>\n    <tr>\n      <th>0</th>\n      <td>2.741979</td>\n      <td>3.551989</td>\n      <td>2.002144</td>\n    </tr>\n    <tr>\n      <th>1</th>\n      <td>3.984008</td>\n      <td>5.354510</td>\n      <td>3.060313</td>\n    </tr>\n    <tr>\n      <th>2</th>\n      <td>4.709319</td>\n      <td>6.373457</td>\n      <td>3.606989</td>\n    </tr>\n    <tr>\n      <th>3</th>\n      <td>5.326913</td>\n      <td>7.309291</td>\n      <td>4.141443</td>\n    </tr>\n    <tr>\n      <th>4</th>\n      <td>5.739992</td>\n      <td>7.946576</td>\n      <td>4.488469</td>\n    </tr>\n    <tr>\n      <th>5</th>\n      <td>6.045199</td>\n      <td>8.410683</td>\n      <td>4.726461</td>\n    </tr>\n    <tr>\n      <th>6</th>\n      <td>6.283644</td>\n      <td>8.788094</td>\n      <td>4.925267</td>\n    </tr>\n    <tr>\n      <th>7</th>\n      <td>6.489901</td>\n      <td>9.111899</td>\n      <td>5.101034</td>\n    </tr>\n    <tr>\n      <th>8</th>\n      <td>6.683635</td>\n      <td>9.435485</td>\n      <td>5.274937</td>\n    </tr>\n    <tr>\n      <th>9</th>\n      <td>6.864154</td>\n      <td>9.726051</td>\n      <td>5.434986</td>\n    </tr>\n    <tr>\n      <th>10</th>\n      <td>7.036019</td>\n      <td>10.003569</td>\n      <td>5.587369</td>\n    </tr>\n    <tr>\n      <th>11</th>\n      <td>7.197965</td>\n      <td>10.278675</td>\n      <td>5.735005</td>\n    </tr>\n    <tr>\n      <th>12</th>\n      <td>7.343022</td>\n      <td>10.482191</td>\n      <td>5.847219</td>\n    </tr>\n    <tr>\n      <th>13</th>\n      <td>7.469017</td>\n      <td>10.636601</td>\n      <td>5.933352</td>\n    </tr>\n    <tr>\n      <th>14</th>\n      <td>7.560367</td>\n      <td>10.752699</td>\n      <td>5.990822</td>\n    </tr>\n    <tr>\n      <th>15</th>\n      <td>7.621617</td>\n      <td>10.852299</td>\n      <td>6.032952</td>\n    </tr>\n    <tr>\n      <th>16</th>\n      <td>7.664370</td>\n      <td>10.929549</td>\n      <td>6.063713</td>\n    </tr>\n    <tr>\n      <th>17</th>\n      <td>7.690014</td>\n      <td>10.982792</td>\n      <td>6.080975</td>\n    </tr>\n    <tr>\n      <th>18</th>\n      <td>7.697097</td>\n      <td>10.989587</td>\n      <td>6.074458</td>\n    </tr>\n    <tr>\n      <th>19</th>\n      <td>7.685800</td>\n      <td>10.963206</td>\n      <td>6.050281</td>\n    </tr>\n    <tr>\n      <th>20</th>\n      <td>7.661473</td>\n      <td>10.923253</td>\n      <td>6.010298</td>\n    </tr>\n    <tr>\n      <th>21</th>\n      <td>7.640499</td>\n      <td>10.880986</td>\n      <td>5.957482</td>\n    </tr>\n    <tr>\n      <th>22</th>\n      <td>7.641617</td>\n      <td>10.848730</td>\n      <td>5.907226</td>\n    </tr>\n    <tr>\n      <th>23</th>\n      <td>7.718683</td>\n      <td>10.920335</td>\n      <td>5.919589</td>\n    </tr>\n  </tbody>\n</table>\n</div>"
     },
     "execution_count": 17,
     "metadata": {},
     "output_type": "execute_result"
    }
   ],
   "source": [
    "stats = []\n",
    "for f_o in tqdm(range(24)):\n",
    "    prediction_df = test_data[f_o:prediction.shape[0]+f_o].assign(prediction=scaler_y.inverse_transform(prediction[:,f_o].reshape(-1, 1)).reshape(-1)).reset_index()\n",
    "    #prediction_df = test_data[f_o:prediction.shape[0]+f_o].assign(prediction=prediction[:,f_o]).reset_index()\n",
    "    foobar = TimeSeriesPlot(prediction_df, \"price\", \"prediction\")\n",
    "    stats.append([foobar.rmse(), foobar.mape(), foobar.mae()])\n",
    "df_stats = pd.DataFrame(stats, columns=[\"rmse\", \"mape\", \"mae\"])\n",
    "df_stats"
   ],
   "metadata": {
    "collapsed": false,
    "pycharm": {
     "name": "#%%\n"
    }
   }
  },
  {
   "cell_type": "code",
   "execution_count": null,
   "outputs": [],
   "source": [
    "t = df_stats.plot()\n",
    "#t.get_figure().savefig(\"../results/seq2seq_forecast_24h_book.png\")"
   ],
   "metadata": {
    "collapsed": false,
    "pycharm": {
     "name": "#%%\n"
    }
   }
  },
  {
   "cell_type": "code",
   "execution_count": null,
   "outputs": [],
   "source": [
    "prediction = np.loadtxt(os.path.join(DATA_PATH, \"predictions_inversed.csv\"))\n",
    "#np.savetxt(os.path.join(DATA_PATH, \"predictions_inversed.csv\"), prediction)"
   ],
   "metadata": {
    "collapsed": false,
    "pycharm": {
     "name": "#%%\n"
    }
   }
  },
  {
   "cell_type": "code",
   "execution_count": 27,
   "outputs": [],
   "source": [
    "np.save(os.path.join(DATA_PATH, \"x_embedded\"), X_embedded)\n",
    "#sal = np.load(os.path.join(DATA_PATH, \"saliency_feature_ole.npy\"))"
   ],
   "metadata": {
    "collapsed": false,
    "pycharm": {
     "name": "#%%\n"
    }
   }
  },
  {
   "cell_type": "code",
   "execution_count": 93,
   "outputs": [
    {
     "name": "stderr",
     "output_type": "stream",
     "text": [
      "100%|██████████| 87/87 [01:00<00:00,  1.44it/s]\n"
     ]
    }
   ],
   "source": [
    "def sum_abs_diff_batch(a, b):\n",
    "    return np.sum(np.abs(a-b), 1)\n",
    "\n",
    "test_inputs = np.vstack((train_data_scaled[-seq_len:].tolist(), test_data_scaled)).tolist()\n",
    "mini_batch = 100\n",
    "batch_count = int(len(test_data) / mini_batch) * mini_batch\n",
    "prediction = np.empty((int(batch_count/mini_batch), mini_batch, seq_len))\n",
    "mask = torch.zeros(num_features).to(device)\n",
    "\n",
    "with torch.no_grad():\n",
    "    for batch, i in enumerate(tqdm(range(0, batch_count, mini_batch))):\n",
    "        seq = torch.FloatTensor([test_inputs[i+j:i+j+seq_len] for j in range(mini_batch)]).to(device)\n",
    "        pred = model(seq).cpu().numpy() # pred.shape = [batch, 24]\n",
    "        pred_ = np.empty((seq_len, mini_batch, out_seq_len))\n",
    "        for j in range(seq_len):\n",
    "            feature_vector_batch = seq[:, j].clone()\n",
    "            seq[:, j] = mask\n",
    "            pred_[j] = model(seq).cpu().numpy()\n",
    "            seq[:, j] = feature_vector_batch\n",
    "        prediction[batch] = np.array([sum_abs_diff_batch(pred, p) for p in pred_]).swapaxes(0, 1)\n",
    "\n",
    "sal = prediction.reshape(-1, seq_len)"
   ],
   "metadata": {
    "collapsed": false,
    "pycharm": {
     "name": "#%% # saliancy per sample in seq\n"
    }
   }
  },
  {
   "cell_type": "code",
   "execution_count": 94,
   "outputs": [
    {
     "data": {
      "text/plain": "[<matplotlib.lines.Line2D at 0x210c31e1b88>]"
     },
     "execution_count": 94,
     "metadata": {},
     "output_type": "execute_result"
    },
    {
     "data": {
      "text/plain": "<Figure size 432x288 with 1 Axes>",
      "image/png": "[encoded data removed]"
     },
     "metadata": {
      "needs_background": "light"
     },
     "output_type": "display_data"
    }
   ],
   "source": [
    "plt.plot(np.mean(sal, axis=0))"
   ],
   "metadata": {
    "collapsed": false,
    "pycharm": {
     "name": "#%%\n"
    }
   }
  },
  {
   "cell_type": "code",
   "execution_count": 104,
   "outputs": [
    {
     "name": "stderr",
     "output_type": "stream",
     "text": [
      "100%|██████████| 87/87 [00:15<00:00,  5.58it/s]\n"
     ]
    }
   ],
   "source": [
    "def sum_abs_diff_batch(a, b):\n",
    "    return np.sum(np.abs(a-b), 1)\n",
    "\n",
    "mini_batch = 100\n",
    "\n",
    "test_inputs = np.vstack((train_data_scaled[-seq_len:].tolist(), test_data_scaled)).tolist()\n",
    "batch_count = int(len(test_data) / mini_batch) * mini_batch\n",
    "prediction = np.empty((int(batch_count / mini_batch), mini_batch, seq_len, num_features))\n",
    "mask_mat = (torch.eye(num_features) - torch.ones(num_features)).abs().to(device)\n",
    "\n",
    "with torch.no_grad():\n",
    "    for batch, i in enumerate(tqdm(range(0, batch_count, mini_batch))):\n",
    "        seq = torch.FloatTensor([test_inputs[i+j:i+j+seq_len] for j in range(mini_batch)]).to(device)\n",
    "        pred = model(seq).cpu().numpy()\n",
    "        pred_ = np.empty((seq_len, num_features, mini_batch, out_seq_len))\n",
    "        for j in range(seq_len):\n",
    "            feature_vector_batch = seq[:, j].clone()\n",
    "            for k in range(num_features):\n",
    "                seq[:, j] = feature_vector_batch * mask_mat[k]\n",
    "                pred_[j, k] = model(seq).cpu().numpy()\n",
    "                seq[:, j] = feature_vector_batch\n",
    "        prediction[batch] = np.array([[sum_abs_diff_batch(pred, f) for f in s] for s in pred_]).transpose((2, 0, 1))\n",
    "\n",
    "sal = prediction.reshape(-1, seq_len, num_features)"
   ],
   "metadata": {
    "collapsed": false,
    "pycharm": {
     "name": "#%% # saliancy per feature per sample in seq\n"
    }
   }
  },
  {
   "cell_type": "code",
   "execution_count": 105,
   "outputs": [
    {
     "data": {
      "text/plain": "<matplotlib.legend.Legend at 0x210c3719c48>"
     },
     "execution_count": 105,
     "metadata": {},
     "output_type": "execute_result"
    },
    {
     "data": {
      "text/plain": "<Figure size 432x288 with 1 Axes>",
      "image/png": "[encoded data removed]"
     },
     "metadata": {
      "needs_background": "light"
     },
     "output_type": "display_data"
    }
   ],
   "source": [
    "for i in range(0, num_features):\n",
    "    plt.plot(np.mean(sal[:,:,i], axis=0), label=i+1)\n",
    "\n",
    "plt.gcf().legend()"
   ],
   "metadata": {
    "collapsed": false,
    "pycharm": {
     "name": "#%%\n"
    }
   }
  },
  {
   "cell_type": "code",
   "execution_count": 21,
   "outputs": [],
   "source": [
    "test_inputs, _ = create_input_output_sequence(np.vstack((train_data_scaled[-seq_len:].tolist(), test_data_scaled)), seq_len, out_seq_len)"
   ],
   "metadata": {
    "collapsed": false,
    "pycharm": {
     "name": "#%%\n"
    }
   }
  },
  {
   "cell_type": "code",
   "execution_count": 22,
   "outputs": [
    {
     "name": "stderr",
     "output_type": "stream",
     "text": [
      "100%|██████████| 87/87 [00:00<00:00, 537.21it/s]\n"
     ]
    }
   ],
   "source": [
    "mini_batch = 100\n",
    "batch_count = int(test_inputs.shape[0] / mini_batch) * mini_batch\n",
    "lstm = model.lstm_in\n",
    "\n",
    "states = []\n",
    "with torch.no_grad():\n",
    "    for batch, i in enumerate(tqdm(range(0, batch_count, mini_batch))):\n",
    "        _, (h, _) = lstm(test_inputs[i:i+mini_batch])\n",
    "        states.append(h[-1].cpu().numpy()) # h[-1] last layer\n",
    "states = np.array(states).reshape(-1, model.hidden_dim)"
   ],
   "metadata": {
    "collapsed": false,
    "pycharm": {
     "name": "#%%\n"
    }
   }
  },
  {
   "cell_type": "code",
   "execution_count": 25,
   "outputs": [
    {
     "name": "stdout",
     "output_type": "stream",
     "text": [
      "[t-SNE] Computing 151 nearest neighbors...\n",
      "[t-SNE] Indexed 8700 samples in 0.152s...\n",
      "[t-SNE] Computed neighbors for 8700 samples in 1.910s...\n",
      "[t-SNE] Computed conditional probabilities for sample 1000 / 8700\n",
      "[t-SNE] Computed conditional probabilities for sample 2000 / 8700\n",
      "[t-SNE] Computed conditional probabilities for sample 3000 / 8700\n",
      "[t-SNE] Computed conditional probabilities for sample 4000 / 8700\n",
      "[t-SNE] Computed conditional probabilities for sample 5000 / 8700\n",
      "[t-SNE] Computed conditional probabilities for sample 6000 / 8700\n",
      "[t-SNE] Computed conditional probabilities for sample 7000 / 8700\n",
      "[t-SNE] Computed conditional probabilities for sample 8000 / 8700\n",
      "[t-SNE] Computed conditional probabilities for sample 8700 / 8700\n",
      "[t-SNE] Mean sigma: 0.117463\n",
      "[t-SNE] KL divergence after 250 iterations with early exaggeration: 81.238800\n",
      "[t-SNE] KL divergence after 1000 iterations: 1.665844\n"
     ]
    }
   ],
   "source": [
    "X_embedded = TSNE(n_components=2, verbose=1, n_jobs=-1, perplexity=50).fit_transform(states)"
   ],
   "metadata": {
    "collapsed": false,
    "pycharm": {
     "name": "#%%\n"
    }
   }
  },
  {
   "cell_type": "code",
   "execution_count": 26,
   "outputs": [
    {
     "data": {
      "text/plain": "<matplotlib.collections.PathCollection at 0x1bcd2ea18c8>"
     },
     "execution_count": 26,
     "metadata": {},
     "output_type": "execute_result"
    },
    {
     "data": {
      "text/plain": "<Figure size 432x288 with 1 Axes>",
      "image/png": "[encoded data removed]"
     },
     "metadata": {
      "needs_background": "light"
     },
     "output_type": "display_data"
    }
   ],
   "source": [
    "plt.scatter(X_embedded[:,0], X_embedded[:,1], s=1)"
   ],
   "metadata": {
    "collapsed": false,
    "pycharm": {
     "name": "#%%\n"
    }
   }
  }
 ],
 "metadata": {
  "kernelspec": {
   "display_name": "Python 3",
   "language": "python",
   "name": "python3"
  },
  "language_info": {
   "codemirror_mode": {
    "name": "ipython",
    "version": 2
   },
   "file_extension": ".py",
   "mimetype": "text/x-python",
   "name": "python",
   "nbconvert_exporter": "python",
   "pygments_lexer": "ipython2",
   "version": "2.7.6"
  }
 },
 "nbformat": 4,
 "nbformat_minor": 0
}