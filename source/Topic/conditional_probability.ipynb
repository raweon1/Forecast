{
 "cells": [
  {
   "cell_type": "code",
   "execution_count": 1,
   "metadata": {
    "collapsed": true
   },
   "outputs": [
    {
     "name": "stderr",
     "output_type": "stream",
     "text": [
      "Using TensorFlow backend.\n"
     ]
    }
   ],
   "source": [
    "import pandas as pd\n",
    "from scipy.stats import entropy\n",
    "import queue\n",
    "import numpy as np\n",
    "import gensim\n",
    "from scipy.spatial.distance import euclidean\n",
    "from gensim.utils import simple_preprocess\n",
    "from gensim import corpora, models\n",
    "from gensim.parsing.preprocessing import STOPWORDS\n",
    "from nltk.stem import WordNetLemmatizer, SnowballStemmer\n",
    "from nltk.stem.porter import *\n",
    "from sklearn.cluster import AgglomerativeClustering\n",
    "from scipy.cluster.hierarchy import dendrogram\n",
    "from nltk import tokenize\n",
    "from transformers import AutoModel, AutoTokenizer\n",
    "from sklearn.metrics import euclidean_distances\n",
    "from sklearn import manifold\n",
    "from sklearn.cluster import DBSCAN\n",
    "\n",
    "from source.Topic.Utils import *\n",
    "from source.Topic.Model import *\n",
    "import re\n",
    "\n",
    "from sentence_transformers import SentenceTransformer"
   ]
  },
  {
   "cell_type": "code",
   "execution_count": 2,
   "outputs": [],
   "source": [
    "meta = pd.read_csv(\"kaffee_reviews.csv\")\n",
    "meta.drop(columns=[\"index\"], inplace=True)"
   ],
   "metadata": {
    "collapsed": false,
    "pycharm": {
     "name": "#%%\n"
    }
   }
  },
  {
   "cell_type": "code",
   "execution_count": 3,
   "outputs": [
    {
     "name": "stdout",
     "output_type": "stream",
     "text": [
      "Preprocessing raw texts ...\n",
      "Preprocessing raw texts. Done!\n"
     ]
    }
   ],
   "source": [
    "method = \"BERT_AE\" # \"LDA_BERT\"\n",
    "samp_size = len(meta.review)\n",
    "ntopic = 10\n",
    "\n",
    "rws = meta.review\n",
    "#rws = pd.Series(sentences)\n",
    "sentences, token_lists, idx_in = preprocess(rws, samp_size=samp_size)"
   ],
   "metadata": {
    "collapsed": false,
    "pycharm": {
     "name": "#%%\n"
    }
   }
  },
  {
   "cell_type": "code",
   "execution_count": 4,
   "outputs": [],
   "source": [
    "model = SentenceTransformer(\"distiluse-base-multilingual-cased\")"
   ],
   "metadata": {
    "collapsed": false,
    "pycharm": {
     "name": "#%%\n"
    }
   }
  },
  {
   "cell_type": "code",
   "execution_count": 5,
   "outputs": [],
   "source": [
    "words, words_counts = np.unique(np.concatenate(token_lists), return_counts=True)\n",
    "embeddings = model.encode(words)"
   ],
   "metadata": {
    "collapsed": false,
    "pycharm": {
     "name": "#%%\n"
    }
   }
  },
  {
   "cell_type": "code",
   "execution_count": 26,
   "outputs": [
    {
     "name": "stdout",
     "output_type": "stream",
     "text": [
      "Estimated number of clusters: 44\n",
      "Estimated number of noise points: 762\n",
      "['Abpackung', 'Verpackung']\n",
      "['Anblick', 'Hinblick']\n",
      "['Aroma', 'aroma', 'aromatisch']\n",
      "['Art', 'art']\n",
      "['Beigeschmack', 'geschmackssach', 'geschmacksscal']\n",
      "['Benutzung', 'Verwendung']\n",
      "['Bohnenform', 'bohnenform']\n",
      "['Bohnenkaffee', 'bohnenkaffee']\n",
      "['Cafe', 'Café', 'cafe']\n",
      "['Cappuccino', 'cappuccino']\n",
      "['Discounter', 'discounter']\n",
      "['Einkauf', 'einkaufen']\n",
      "['Espressomaschine', 'Nespressomaschine', 'espressomaschine']\n",
      "['Geschmack', 'Geschmackssache']\n",
      "['Herstellung', 'Produktion']\n",
      "['Info', 'Information']\n",
      "['Kaffe', 'Kaffee', 'Kaffeebohnen', 'Kaffeebörse', 'Kaffeeduft', 'Kaffeegenuss', 'Kaffeemaschine', 'Kaffeemühle', 'Kaffeeröstereien', 'Kaffeesort', 'Kaffeesorte', 'Kaffeetasse', 'Kaffeetrinker', 'cafés', 'getreidekaffee', 'kaffe', 'kaffebohn', 'kaffeearomen', 'kaffeebauern', 'kaffeebohn', 'kaffeegenießer', 'kaffeegenuss', 'kaffeekonsum', 'kaffeemaschine', 'kaffeereihen', 'kaffees', 'kaffeesorte', 'kaffeesorten', 'kaffeetrink', 'kaffeetrinken', 'kaffeetrinker', 'kaffeetrinkerin', 'kaffeeweln']\n",
      "['Kaffeegeschmack', 'kaffegeschmack']\n",
      "['Kaffeemark', 'kaffeemark']\n",
      "['Kaffeevollautomat', 'Kaffeevollautomaten', 'kaffeeautomat', 'kaffeeautomaten', 'kaffeevollautomat', 'kaffeevollautomaten']\n",
      "['Kaufempfehlung', 'kaufempfehlung']\n",
      "['Konsum', 'Konsument']\n",
      "['Kooperation', 'cooperativ']\n",
      "['Kundenbetreuung', 'kundenbetreuung']\n",
      "['Kundenservice', 'kundenservice']\n",
      "['Landkaffee', 'Landkaffees']\n",
      "['Lecker', 'Leckere']\n",
      "['Leistungsverhältnis', 'Leistungverhältnis']\n",
      "['Lieblingskaffee', 'Lieblingskaffees']\n",
      "['Markt', 'Marktstand']\n",
      "['Mitarbeiter', 'Mitarbeiterin']\n",
      "['Nein', 'Not', 'nein']\n",
      "['Packung', 'Paket']\n",
      "['Punkt', 'punkt']\n",
      "['Röstung', 'röstung']\n",
      "['Selbsthilfe', 'selbsthilfe']\n",
      "['Vergleich', 'vergleichen']\n",
      "['bioprodukt', 'bioprodukten']\n",
      "['geschmacklich', 'geschmackvollst']\n",
      "['kaffeepause', 'kaffepause']\n",
      "['lieb', 'lieben']\n",
      "['mild', 'milde']\n",
      "['preis', 'preisen']\n",
      "['vollautomat', 'vollautomaten']\n"
     ]
    }
   ],
   "source": [
    "def synonyme(unique_words_count, embeddings, eps=0.3, min_samples=2):\n",
    "    db = DBSCAN(eps=eps, min_samples=min_samples).fit(embeddings)\n",
    "    labels = db.labels_\n",
    "\n",
    "    # Number of clusters in labels, ignoring noise if present.\n",
    "    n_clusters_ = len(set(labels)) - (1 if -1 in labels else 0)\n",
    "    n_noise_ = list(labels).count(-1)\n",
    "\n",
    "    print('Estimated number of clusters: %d' % n_clusters_)\n",
    "    print('Estimated number of noise points: %d' % n_noise_)\n",
    "    #[np.where(labels == i)[0] for i in range(n_clusters_)]\n",
    "    count = 0\n",
    "    syn = {}\n",
    "    syn_i = {}\n",
    "    for word_idx in np.where(labels == -1)[0]:\n",
    "        syn[word_idx] = count\n",
    "        syn_i[count] = word_idx\n",
    "        count += 1\n",
    "    for cluster in [np.where(labels == i)[0] for i in range(n_clusters_)]:\n",
    "        # print([words[j] for j in cluster])\n",
    "        for word_idx in cluster:\n",
    "            syn[word_idx] = count\n",
    "        syn_i[count] = cluster[unique_words_count[cluster].argmax()]\n",
    "        count += 1\n",
    "    return syn, syn_i, count\n",
    "\n",
    "syn, syn_i, n_syn = synonyme(words_counts, embeddings)"
   ],
   "metadata": {
    "collapsed": false,
    "pycharm": {
     "name": "#%%\n"
    }
   }
  },
  {
   "cell_type": "code",
   "execution_count": 36,
   "outputs": [],
   "source": [
    "mat = np.zeros((n_syn, n_syn))\n",
    "for k, token_list in enumerate(token_lists):\n",
    "    syn_tokens = np.unique([syn[np.where(words==i)[0][0]] for i in token_list])\n",
    "    token_combinations = np.array(np.meshgrid(syn_tokens, syn_tokens)).T.reshape(-1, 2)\n",
    "    for i, j in token_combinations:\n",
    "        if i == j:\n",
    "            mat[i][j] += 1 # len(syn_tokens) - 1\n",
    "        else:\n",
    "            mat[i][j] += 1\n",
    "\n",
    "mat_p = np.zeros((n_syn, n_syn))\n",
    "for i in range(n_syn):\n",
    "    if mat[i][i] != 0:\n",
    "        mat_p[i] = mat[i] / mat[i][i]\n",
    "        # mat_p[i][i] = 0"
   ],
   "metadata": {
    "collapsed": false,
    "pycharm": {
     "name": "#%%\n"
    }
   }
  },
  {
   "cell_type": "code",
   "execution_count": 38,
   "outputs": [
    {
     "data": {
      "text/plain": "[('Kaffee', 100.0),\n ('Geschmack', 28.37),\n ('Aroma', 14.54),\n ('preis', 14.54),\n ('Bio', 13.48),\n ('Leck', 11.35),\n ('Produkt', 9.93),\n ('Bohne', 9.57),\n ('Sorte', 9.57),\n ('Qualität', 8.16)]"
     },
     "execution_count": 38,
     "metadata": {},
     "output_type": "execute_result"
    }
   ],
   "source": [
    "# Kaffee = 239, syn[Kaffee] = 778\n",
    "# Geschmack = 178, syn[Geschmack] = 775\n",
    "# argmax 775\n",
    "# q = syn[np.where(words == \"Bewertung\")[0][0]]\n",
    "q = 778\n",
    "[(words[syn_i[i]], np.round(mat_p[q][i] * 100, decimals=2)) for i in np.argsort(mat_p[q])[::-1]][:10]\n",
    "# [np.round(sum(mat_p[i]), decimals=3) for i in range(mat_p.shape[0])]"
   ],
   "metadata": {
    "collapsed": false,
    "pycharm": {
     "name": "#%%\n"
    }
   }
  },
  {
   "cell_type": "code",
   "execution_count": 35,
   "outputs": [
    {
     "data": {
      "text/plain": "array([778, 775, 804,  62, 764, 344, 400, 265,  70, 413], dtype=int64)"
     },
     "execution_count": 35,
     "metadata": {},
     "output_type": "execute_result"
    }
   ],
   "source": [
    "np.argsort([sum(mat[i]) for i in range(n_syn)])[::-1][:10]"
   ],
   "metadata": {
    "collapsed": false,
    "pycharm": {
     "name": "#%%\n"
    }
   }
  },
  {
   "cell_type": "code",
   "execution_count": 37,
   "outputs": [
    {
     "data": {
      "text/plain": "[('Geschmack', 100.0, 116.0),\n ('preis', 41.18, 21.0),\n ('Cafe', 40.74, 11.0),\n ('Bio', 31.48, 17.0),\n ('Aroma', 28.57, 16.0),\n ('Kaffee', 28.37, 80.0),\n ('Leck', 27.66, 13.0)]"
     },
     "execution_count": 37,
     "metadata": {},
     "output_type": "execute_result"
    }
   ],
   "source": [
    "p = 775\n",
    "threshold = 10\n",
    "[(words[syn_i[i]], np.round(mat_p[:, p][i] * 100, decimals=2), mat[:,p][i]) for i in np.argsort(mat_p[:, p])[::-1] if mat[:, p][i] > threshold][:10]\n",
    "#mat_p[:, 775]"
   ],
   "metadata": {
    "collapsed": false,
    "pycharm": {
     "name": "#%%"
    }
   }
  },
  {
   "cell_type": "code",
   "execution_count": 40,
   "outputs": [
    {
     "name": "stdout",
     "output_type": "stream",
     "text": [
      "[('Kaffee', 100.0), ('Geschmack', 28.37), ('Aroma', 14.54), ('preis', 14.54), ('Bio', 13.48), ('Leck', 11.35), ('Produkt', 9.93), ('Bohne', 9.57), ('Sorte', 9.57), ('Qualität', 8.16)]\n",
      "[('Geschmack', 100.0), ('Kaffee', 68.97), ('preis', 18.1), ('Bio', 14.66), ('Aroma', 13.79), ('Leck', 11.21), ('Cafe', 9.48), ('fairtrade', 8.62), ('Produkt', 8.62), ('Sorte', 8.62)]\n",
      "[('preis', 100.0), ('Kaffee', 80.39), ('Geschmack', 41.18), ('Sorte', 21.57), ('Aroma', 17.65), ('Qualität', 15.69), ('Cafe', 15.69), ('Bio', 15.69), ('Leck', 15.69), ('Bohne', 13.73)]\n",
      "[('Bio', 100.0), ('Kaffee', 70.37), ('Geschmack', 31.48), ('Aroma', 18.52), ('Produkt', 16.67), ('Qualität', 14.81), ('preis', 14.81), ('fairtrade', 12.96), ('Sorte', 9.26), ('Magen', 9.26)]\n",
      "[('Aroma', 100.0), ('Kaffee', 73.21), ('Geschmack', 28.57), ('Bio', 17.86), ('preis', 16.07), ('Bohne', 14.29), ('Cafe', 12.5), ('Produkt', 10.71), ('Duft', 10.71), ('kaffeevollautomat', 8.93)]\n",
      "[('Produkt', 100.0), ('Kaffee', 75.68), ('Geschmack', 27.03), ('Bio', 24.32), ('Aroma', 16.22), ('Stern', 13.51), ('Tag', 10.81), ('preis', 10.81), ('Preis', 8.11), ('Sinn', 8.11)]\n",
      "[('Sorte', 100.0), ('Kaffee', 75.0), ('preis', 30.56), ('Geschmack', 27.78), ('Bio', 13.89), ('Qualität', 13.89), ('Firma', 11.11), ('Bohne', 11.11), ('Latte', 11.11), ('fairtrade', 11.11)]\n",
      "[('Leck', 100.0), ('Kaffee', 68.09), ('Geschmack', 27.66), ('preis', 17.02), ('Milch', 14.89), ('Bohne', 14.89), ('Bio', 10.64), ('zuckern', 10.64), ('Stern', 10.64), ('alternativ', 10.64)]\n",
      "[('Bohne', 100.0), ('Kaffee', 79.41), ('Aroma', 23.53), ('Geschmack', 23.53), ('Leck', 20.59), ('preis', 20.59), ('Qualität', 14.71), ('kaffeevollautomat', 14.71), ('vollautomat', 11.76), ('Packung', 11.76)]\n",
      "[('Stern', 100.0), ('Kaffee', 56.1), ('Geschmack', 17.07), ('preis', 14.63), ('Produkt', 12.2), ('Leck', 12.2), ('Aroma', 12.2), ('gut', 9.76), ('Bio', 9.76), ('lieblingskaffee', 9.76)]\n"
     ]
    }
   ],
   "source": [
    "bar = np.argsort([sum(mat[i]) for i in range(n_syn)])[::-1][:10]\n",
    "for k in bar:\n",
    "    foo = [(words[syn_i[i]], np.round(mat_p[k][i] * 100, decimals=2)) for i in np.argsort(mat_p[k])[::-1]][:10]\n",
    "    print(foo)"
   ],
   "metadata": {
    "collapsed": false,
    "pycharm": {
     "name": "#%%\n"
    }
   }
  }
 ],
 "metadata": {
  "kernelspec": {
   "display_name": "Python 3",
   "language": "python",
   "name": "python3"
  },
  "language_info": {
   "codemirror_mode": {
    "name": "ipython",
    "version": 2
   },
   "file_extension": ".py",
   "mimetype": "text/x-python",
   "name": "python",
   "nbconvert_exporter": "python",
   "pygments_lexer": "ipython2",
   "version": "2.7.6"
  }
 },
 "nbformat": 4,
 "nbformat_minor": 0
}