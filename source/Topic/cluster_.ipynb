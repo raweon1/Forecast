{
 "cells": [
  {
   "cell_type": "code",
   "execution_count": 1,
   "metadata": {
    "collapsed": true
   },
   "outputs": [],
   "source": [
    "import pandas as pd\n",
    "import numpy as np\n",
    "import torch\n",
    "import spacy\n",
    "import matplotlib.pyplot as plt\n",
    "\n",
    "from sklearn import preprocessing\n",
    "from sklearn.cluster import KMeans, DBSCAN\n",
    "from sklearn.metrics import silhouette_score\n",
    "from sentence_transformers import SentenceTransformer, util"
   ]
  },
  {
   "cell_type": "code",
   "execution_count": 2,
   "outputs": [],
   "source": [
    "df = pd.read_csv(\"kaffee_reviews.csv\")\n",
    "sentences = df.review"
   ],
   "metadata": {
    "collapsed": false,
    "pycharm": {
     "name": "#%%\n"
    }
   }
  },
  {
   "cell_type": "code",
   "execution_count": 3,
   "outputs": [],
   "source": [
    "model = SentenceTransformer(\"distiluse-base-multilingual-cased\")\n",
    "nlp = spacy.load(\"de_core_news_sm\")"
   ],
   "metadata": {
    "collapsed": false,
    "pycharm": {
     "name": "#%%\n"
    }
   }
  },
  {
   "cell_type": "code",
   "execution_count": 4,
   "outputs": [],
   "source": [
    "def noun_tagger(sentence_list, nlp=None):\n",
    "    nlp = nlp if nlp is not None else spacy.load(\"de_core_news_sm\")\n",
    "    noun_list = []\n",
    "    for sentence in sentence_list:\n",
    "        doc = nlp(sentence)\n",
    "        noun_list.append([w.text for w in doc if w.tag_ == \"NN\"]) # or w.tag_ == \"NNP\"])\n",
    "    return noun_list\n",
    "\n",
    "embeddings = model.encode(sentences, convert_to_tensor=True)\n",
    "token_lists = noun_tagger(sentences, nlp)"
   ],
   "metadata": {
    "collapsed": false,
    "pycharm": {
     "name": "#%%\n"
    }
   }
  },
  {
   "cell_type": "code",
   "execution_count": 31,
   "outputs": [],
   "source": [
    "cos_sim = util.pytorch_cos_sim(embeddings, embeddings).cpu().numpy()\n",
    "cos_dist = 1 - np.around(cos_sim, 5)\n",
    "dist = torch.cdist(embeddings, embeddings, p=2, compute_mode=\"donot_use_mm_for_euclid_dist\").cpu().numpy()\n",
    "\n",
    "embeddings_norm = preprocessing.normalize(embeddings.cpu().numpy())\n",
    "\n",
    "metric = [\"cosine\", \"euclidean\", \"precomputed\"]"
   ],
   "metadata": {
    "collapsed": false,
    "pycharm": {
     "name": "#%%\n"
    }
   }
  },
  {
   "cell_type": "code",
   "execution_count": 30,
   "outputs": [
    {
     "name": "stdout",
     "output_type": "stream",
     "text": [
      "0 385\n",
      "1 10\n",
      "n_clusters: 2 n_noise 69\n"
     ]
    }
   ],
   "source": [
    "#embeddings.cpu().numpy()\n",
    "from sklearn.cluster import DBSCAN\n",
    "clustering = DBSCAN(eps=0.4, min_samples=5, metric=metric[2]).fit(cos_dist)\n",
    "\n",
    "labels = clustering.labels_\n",
    "\n",
    "# Number of clusters in labels, ignoring noise if present.\n",
    "n_clusters_ = len(set(labels)) - (1 if -1 in labels else 0)\n",
    "for i in range(n_clusters_):\n",
    "    print(i, len(np.where(labels == i)[0]))\n",
    "n_noise_ = list(labels).count(-1)\n",
    "\n",
    "print(\"n_clusters: %d\" % n_clusters_, \"n_noise %d\" % n_noise_)"
   ],
   "metadata": {
    "collapsed": false,
    "pycharm": {
     "name": "#%%\n"
    }
   }
  },
  {
   "cell_type": "code",
   "execution_count": 70,
   "outputs": [
    {
     "name": "stdout",
     "output_type": "stream",
     "text": [
      "0 7\n",
      "1 4\n",
      "2 3\n",
      "3 4\n",
      "4 12\n",
      "5 7\n",
      "6 7\n",
      "7 4\n",
      "8 4\n",
      "9 9\n",
      "10 5\n",
      "11 7\n",
      "12 3\n",
      "13 4\n",
      "14 6\n",
      "15 5\n",
      "16 12\n",
      "n_clusters: 17 n_noise 361\n"
     ]
    }
   ],
   "source": [
    "from sklearn.cluster import OPTICS\n",
    "clustering = OPTICS(xi=0.01, min_samples=3, metric=metric[2]).fit(cos_dist)\n",
    "\n",
    "labels = clustering.labels_\n",
    "\n",
    "# Number of clusters in labels, ignoring noise if present.\n",
    "n_clusters_ = len(set(labels)) - (1 if -1 in labels else 0)\n",
    "for i in range(n_clusters_):\n",
    "    print(i, len(np.where(labels == i)[0]))\n",
    "n_noise_ = list(labels).count(-1)\n",
    "\n",
    "print(\"n_clusters: %d\" % n_clusters_, \"n_noise %d\" % n_noise_)"
   ],
   "metadata": {
    "collapsed": false,
    "pycharm": {
     "name": "#%%\n"
    }
   }
  },
  {
   "cell_type": "code",
   "execution_count": 8,
   "outputs": [],
   "source": [
    "keywords, count = np.unique(np.concatenate(token_lists), return_counts=True)"
   ],
   "metadata": {
    "collapsed": false,
    "pycharm": {
     "name": "#%%\n"
    }
   }
  },
  {
   "cell_type": "code",
   "execution_count": 57,
   "outputs": [
    {
     "name": "stdout",
     "output_type": "stream",
     "text": [
      "[27.953075   5.9485545  3.2349072  6.6937275 12.360534   3.2349072\n",
      "  5.42159    3.2349072 25.43567    6.482114 ]\n",
      "[ 0.4313054   0.12182959 -0.00461774  0.14543414  0.26810172 -0.02713609\n",
      "  0.10327779 -0.01409695  0.41243047  0.13900931]\n"
     ]
    }
   ],
   "source": [
    "# create centroids from most commen keywords, then cos_sim -> softmax to get likelihood\n",
    "from scipy.special import softmax\n",
    "n_clusters = len(np.where(count >= 10)[0])\n",
    "n_clusters = 10\n",
    "centroid_keywords = keywords[np.argsort(count)[::-1]][:n_clusters]\n",
    "centroids = model.encode(centroid_keywords, convert_to_tensor=True)\n",
    "\n",
    "cos_sim_centroids = util.pytorch_cos_sim(embeddings, centroids).cpu().numpy()\n",
    "\n",
    "cos_sim_centroids_ = cos_sim_centroids.clip(min=0)*5\n",
    "likelihood = softmax(cos_sim_centroids_, axis=1)\n",
    "print(likelihood[1]*100)\n",
    "print(cos_sim_centroids[1])\n",
    "#np.sort([np.sort(likelihood[i])[::-1][0] for i in range(len(likelihood))])[::-1][:5]"
   ],
   "metadata": {
    "collapsed": false,
    "pycharm": {
     "name": "#%%\n"
    }
   }
  },
  {
   "cell_type": "code",
   "execution_count": 114,
   "outputs": [
    {
     "data": {
      "text/plain": "<Figure size 1008x504 with 2 Axes>",
      "image/png": "[encoded data removed]"
     },
     "metadata": {
      "needs_background": "light"
     },
     "output_type": "display_data"
    }
   ],
   "source": [
    "range_n_clusters = np.linspace(50, 75, 25, endpoint=True, dtype=int)\n",
    "elbow = []\n",
    "ss = []\n",
    "for n_clusters in range_n_clusters:\n",
    "   #iterating through cluster sizes\n",
    "   clusterer = KMeans(n_clusters = n_clusters, random_state=42)\n",
    "   cluster_labels = clusterer.fit_predict(embeddings_norm)\n",
    "   #Finding the average silhouette score\n",
    "   silhouette_avg = silhouette_score(embeddings_norm, cluster_labels)\n",
    "   ss.append(silhouette_avg)\n",
    "   # print(\"For n_clusters =\", n_clusters,\"The average silhouette_score is :\", silhouette_avg)\n",
    "   #Finding the average SSE\"\n",
    "   elbow.append(clusterer.inertia_) # Inertia: Sum of distances of samples to their closest cluster center\n",
    "fig = plt.figure(figsize=(14,7))\n",
    "fig.add_subplot(121)\n",
    "plt.plot(range_n_clusters, elbow,'b-',label='Sum of squared error')\n",
    "plt.xlabel(\"Number of cluster\")\n",
    "plt.ylabel(\"SSE\")\n",
    "plt.legend()\n",
    "fig.add_subplot(122)\n",
    "plt.plot(range_n_clusters, ss,'b-',label='Silhouette Score')\n",
    "plt.xlabel(\"Number of cluster\")\n",
    "plt.ylabel(\"Silhouette Score\")\n",
    "plt.legend()\n",
    "plt.show()"
   ],
   "metadata": {
    "collapsed": false,
    "pycharm": {
     "name": "#%%\n"
    }
   }
  },
  {
   "cell_type": "code",
   "execution_count": 110,
   "outputs": [
    {
     "data": {
      "text/plain": "GaussianMixture(covariance_type='full', init_params='kmeans', max_iter=100,\n                means_init=None, n_components=20, n_init=1,\n                precisions_init=None, random_state=None, reg_covar=1e-06,\n                tol=0.001, verbose=0, verbose_interval=10, warm_start=False,\n                weights_init=None)"
     },
     "execution_count": 110,
     "metadata": {},
     "output_type": "execute_result"
    }
   ],
   "source": [
    "# GMM\n",
    "from sklearn import mixture\n",
    "gmm = mixture.GaussianMixture(n_components=20, covariance_type=\"full\")\n",
    "gmm.fit(embeddings_norm)"
   ],
   "metadata": {
    "collapsed": false,
    "pycharm": {
     "name": "#%%\n"
    }
   }
  },
  {
   "cell_type": "code",
   "execution_count": 112,
   "outputs": [
    {
     "data": {
      "text/plain": "<Figure size 432x288 with 1 Axes>",
      "image/png": "[encoded data removed]"
     },
     "metadata": {
      "needs_background": "light"
     },
     "output_type": "display_data"
    }
   ],
   "source": [
    "n_components = np.arange(1, 21)\n",
    "models = [mixture.GaussianMixture(n, covariance_type='full', random_state=0).fit(embeddings_norm)\n",
    "          for n in n_components]\n",
    "\n",
    "plt.plot(n_components, [m.bic(embeddings_norm) for m in models], label='BIC')\n",
    "plt.plot(n_components, [m.aic(embeddings_norm) for m in models], label='AIC')\n",
    "plt.legend(loc='best')\n",
    "plt.xlabel('n_components');"
   ],
   "metadata": {
    "collapsed": false,
    "pycharm": {
     "name": "#%%\n"
    }
   }
  },
  {
   "cell_type": "code",
   "execution_count": 142,
   "outputs": [
    {
     "name": "stdout",
     "output_type": "stream",
     "text": [
      "38\n",
      "(array([ 0,  1,  2,  3,  4,  5,  6,  7,  8,  9, 10, 11, 12, 13, 14, 15, 16,\n",
      "       17, 18, 19, 20, 21, 22, 23, 24, 25, 26, 27, 28, 29, 30, 31, 32, 33,\n",
      "       34, 35, 36, 37], dtype=int64), array([  2, 375,   2,   8,   3,   8,   4,  12,   2,   2,   4,   3,   2,\n",
      "         1,   2,   8,   2,   1,   3,   1,   1,   1,   1,   1,   1,   1,\n",
      "         1,   1,   1,   1,   2,   1,   1,   1,   1,   1,   1,   1],\n",
      "      dtype=int64))\n"
     ]
    }
   ],
   "source": [
    "from sklearn.cluster import AgglomerativeClustering\n",
    "model = AgglomerativeClustering(n_clusters=None, distance_threshold=1, linkage=\"average\", affinity=metric[2]).fit(dist)\n",
    "\n",
    "print(model.n_clusters_)\n",
    "print(np.unique(model.labels_, return_counts=True))"
   ],
   "metadata": {
    "collapsed": false,
    "pycharm": {
     "name": "#%%\n"
    }
   }
  }
 ],
 "metadata": {
  "kernelspec": {
   "display_name": "Python 3",
   "language": "python",
   "name": "python3"
  },
  "language_info": {
   "codemirror_mode": {
    "name": "ipython",
    "version": 2
   },
   "file_extension": ".py",
   "mimetype": "text/x-python",
   "name": "python",
   "nbconvert_exporter": "python",
   "pygments_lexer": "ipython2",
   "version": "2.7.6"
  }
 },
 "nbformat": 4,
 "nbformat_minor": 0
}