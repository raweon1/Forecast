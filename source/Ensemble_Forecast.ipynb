{
 "cells": [
  {
   "cell_type": "code",
   "execution_count": 25,
   "metadata": {
    "collapsed": true,
    "pycharm": {
     "name": "#%% import dependencies\n",
     "is_executing": false
    }
   },
   "outputs": [],
   "source": [
    "import os\n",
    "import pandas as pd\n",
    "import numpy as np\n",
    "import matplotlib as plt\n",
    "from sklearn.model_selection import StratifiedShuffleSplit, cross_val_score, train_test_split\n",
    "from sklearn.metrics import mean_squared_error\n",
    "from sklearn.pipeline import Pipeline, FeatureUnion\n",
    "from sklearn.preprocessing import OneHotEncoder, StandardScaler, PolynomialFeatures\n",
    "from sklearn.linear_model import LinearRegression\n",
    "from sklearn.ensemble import RandomForestRegressor\n",
    "from sklearn.svm import LinearSVR, SVR\n",
    "from source.DataFrameSelector import DataFrameSelector\n",
    "\n",
    "DATA_PATH = os.path.join(\"..\", \"data\")\n",
    "\n",
    "def load_csv(filename, path=DATA_PATH):\n",
    "    return pd.read_csv(os.path.join(path, filename))"
   ]
  },
  {
   "cell_type": "code",
   "execution_count": 3,
   "outputs": [],
   "source": [
    "def import_data():\n",
    "    e_data = load_csv(\"energy_dataset.csv\")\n",
    "    w_data = load_csv(\"weather_features.csv\")\n",
    "    # weather_id ist abgeleitet von clouds_all\n",
    "    # weather_id ist die numerische klassifikation von weather_description\n",
    "    # weather_main ist eine ungenaue darstellung von weather_description\n",
    "    # weather_icon ist ?\n",
    "    # in den meisten fällen ist temp = temp_min = temp_max\n",
    "    w_data = w_data.drop(columns=[\"weather_id\", \"weather_icon\", \"weather_main\", \"temp_min\", \"temp_max\"])\n",
    "    return w_data.join(other=e_data[[\"time\", \"price\"]].set_index(\"time\"), on=\"time\")\n",
    "\n",
    "data = import_data()"
   ],
   "metadata": {
    "collapsed": false,
    "pycharm": {
     "name": "#%% import data\n",
     "is_executing": false
    }
   }
  },
  {
   "cell_type": "code",
   "execution_count": 23,
   "outputs": [
    {
     "name": "stdout",
     "text": [
      "5\n<class 'pandas.core.frame.DataFrame'>\nInt64Index: 35951 entries, 71412 to 107362\nData columns (total 13 columns):\n #   Column               Non-Null Count  Dtype  \n---  ------               --------------  -----  \n 0   time                 35951 non-null  object \n 1   city_name            35951 non-null  object \n 2   temp                 35951 non-null  float64\n 3   pressure             35951 non-null  int64  \n 4   humidity             35951 non-null  int64  \n 5   wind_speed           35951 non-null  int64  \n 6   wind_deg             35951 non-null  int64  \n 7   rain_1h              35951 non-null  float64\n 8   rain_3h              35951 non-null  float64\n 9   snow_3h              35951 non-null  float64\n 10  clouds_all           35951 non-null  int64  \n 11  weather_description  35951 non-null  object \n 12  price                35951 non-null  float64\ndtypes: float64(5), int64(5), object(3)\nmemory usage: 3.8+ MB\n"
     ],
     "output_type": "stream"
    }
   ],
   "source": [
    "dfs = [data.loc[data[\"city_name\"] == city] for city in data[\"city_name\"].value_counts().index]"
   ],
   "metadata": {
    "collapsed": false,
    "pycharm": {
     "name": "#%% split data for each city\n",
     "is_executing": false
    }
   }
  },
  {
   "cell_type": "code",
   "execution_count": 69,
   "outputs": [
    {
     "data": {
      "text/plain": "{'X_train':                             time city_name     temp  pressure  humidity  \\\n 12788  2016-06-15 14:00:00+02:00  Valencia  300.920      1007        23   \n 23213  2017-08-22 20:00:00+02:00  Valencia  302.150      1015        54   \n 23006  2017-08-14 05:00:00+02:00  Valencia  295.150      1018        78   \n 18955  2017-02-26 19:00:00+01:00  Valencia  287.150      1019        76   \n 17497  2016-12-28 03:00:00+01:00  Valencia  279.150      1035       100   \n ...                          ...       ...      ...       ...       ...   \n 16850  2016-12-01 04:00:00+01:00  Valencia  286.150      1029        82   \n 6265   2015-09-18 15:00:00+02:00  Valencia  296.590      1020        41   \n 11284  2016-04-14 09:00:00+02:00  Valencia  290.300      1016        62   \n 860    2015-02-05 19:00:00+01:00  Valencia  279.350      1010        34   \n 15795  2016-10-18 20:00:00+02:00  Valencia  291.802       997        65   \n \n        wind_speed  wind_deg  rain_1h  rain_3h  snow_3h  clouds_all  \\\n 12788           0       180      0.0      0.0      0.0           0   \n 23213           3        80      0.0      0.0      0.0           0   \n 23006           2       310      0.0      0.0      0.0          20   \n 18955           3        70      0.0      0.0      0.0           0   \n 17497           1         0      0.0      0.0      0.0          36   \n ...           ...       ...      ...      ...      ...         ...   \n 16850           2        20      0.0      0.0      0.0          75   \n 6265            3        90      0.0      0.0      0.0          20   \n 11284           1       330      0.0      0.0      0.0           0   \n 860             9       302      0.0      0.0      0.0           0   \n 15795           1       106      0.0      0.0      0.0          80   \n \n       weather_description  \n 12788        sky is clear  \n 23213        sky is clear  \n 23006          few clouds  \n 18955        sky is clear  \n 17497    scattered clouds  \n ...                   ...  \n 16850       broken clouds  \n 6265           few clouds  \n 11284        sky is clear  \n 860          sky is clear  \n 15795       broken clouds  \n \n [28116 rows x 12 columns],\n 'X_test':                             time city_name    temp  pressure  humidity  \\\n 20993  2017-05-22 16:00:00+02:00  Valencia  298.15      1016        44   \n 27854  2018-03-03 23:00:00+01:00  Valencia  287.15      1001        67   \n 4143   2015-06-22 13:00:00+02:00  Valencia  304.96       986        34   \n 20888  2017-05-18 07:00:00+02:00  Valencia  287.15      1013        76   \n 10594  2016-03-16 19:00:00+01:00  Valencia  286.84      1015        44   \n ...                          ...       ...     ...       ...       ...   \n 30017  2018-06-02 03:00:00+02:00  Valencia  293.15      1018        82   \n 1603   2015-03-08 18:00:00+01:00  Valencia  286.98      1024        62   \n 9667   2016-02-07 04:00:00+01:00  Valencia  288.56      1010        51   \n 13797  2016-07-27 15:00:00+02:00  Valencia  303.65      1017        62   \n 872    2015-02-06 07:00:00+01:00  Valencia  275.45      1009        57   \n \n        wind_speed  wind_deg  rain_1h  rain_3h  snow_3h  clouds_all  \\\n 20993           4        70      0.0      0.0      0.0           0   \n 27854           1       218      0.0      0.0      0.0          20   \n 4143            2       170      0.0      0.0      0.0           8   \n 20888           0         0      0.0      0.0      0.0           0   \n 10594           3       100      0.0      0.0      0.0          20   \n ...           ...       ...      ...      ...      ...         ...   \n 30017           2        50      0.0      0.0      0.0          20   \n 1603            2        90      0.0      0.0      0.0           0   \n 9667            9       230      0.0      0.0      0.0          20   \n 13797           5        80      0.0      0.0      0.0          20   \n 872             6       287      0.0      0.0      0.0           0   \n \n       weather_description  \n 20993        sky is clear  \n 27854          few clouds  \n 4143         sky is clear  \n 20888        sky is clear  \n 10594          few clouds  \n ...                   ...  \n 30017          few clouds  \n 1603         sky is clear  \n 9667           few clouds  \n 13797          few clouds  \n 872          sky is clear  \n \n [7029 rows x 12 columns],\n 'y_train': 12788    41.00\n 23213    58.88\n 23006    47.04\n 18955    61.78\n 17497    51.05\n          ...  \n 16850    55.31\n 6265     58.46\n 11284    36.83\n 860      82.79\n 15795    74.68\n Name: price, Length: 28116, dtype: float64,\n 'y_test': 20993    57.41\n 27854    57.77\n 4143     81.94\n 20888    55.30\n 10594    51.77\n          ...  \n 30017    64.57\n 1603     49.46\n 9667     16.24\n 13797    53.84\n 872      61.27\n Name: price, Length: 7029, dtype: float64}"
     },
     "metadata": {},
     "output_type": "execute_result",
     "execution_count": 69
    }
   ],
   "source": [
    "label = \"price\"\n",
    "sets = []\n",
    "for df in dfs:\n",
    "    X_train, X_test, y_train, y_test = train_test_split(df.drop(columns=[label]), df[label], test_size=0.2, random_state=42)\n",
    "    sets.append({\"X_train\": X_train, \"X_test\": X_test, \"y_train\": y_train, \"y_test\": y_test})"
   ],
   "metadata": {
    "collapsed": false,
    "pycharm": {
     "name": "#%% split data in train/test-sets for each city\n",
     "is_executing": false
    }
   }
  },
  {
   "cell_type": "code",
   "execution_count": 36,
   "outputs": [],
   "source": [
    "cat_attribs = [\"weather_description\"]\n",
    "num_attribs = ['rain_1h', 'rain_3h', 'snow_3h', 'clouds_all']\n",
    "poly_attribs = ['temp', 'pressure', 'humidity', 'wind_speed', 'wind_deg']\n",
    "degree = 2\n",
    "\n",
    "cat_pipeline = Pipeline([\n",
    "    (\"selector\", DataFrameSelector(cat_attribs)),\n",
    "    (\"cat_encoder\", OneHotEncoder(sparse=False))\n",
    "])\n",
    "\n",
    "pipelines = [FeatureUnion(transformer_list=[\n",
    "    (\"num_pipeline\", Pipeline([\n",
    "        (\"selector\", DataFrameSelector(num_attribs)),\n",
    "        (\"std_scaler\", StandardScaler())\n",
    "    ])),\n",
    "    (\"poly_pipeline\", Pipeline([\n",
    "        (\"selector\", DataFrameSelector(poly_attribs)),\n",
    "        (\"poly_features\", PolynomialFeatures(degree=degree)),\n",
    "        (\"std_scaler\", StandardScaler())\n",
    "    ])),\n",
    "]).fit(_set[\"X_train\"]) for _set in sets]\n",
    "\n",
    "for _set, pipeline in zip(sets, pipelines):\n",
    "    _set[\"X_train_clean\"] = pipeline.transform(_set[\"X_train\"])\n",
    "    _set[\"X_test_clean\"] = pipeline.transform(_set[\"X_test\"])"
   ],
   "metadata": {
    "collapsed": false,
    "pycharm": {
     "name": "#%% clean data\n",
     "is_executing": false
    }
   }
  },
  {
   "cell_type": "code",
   "execution_count": 62,
   "outputs": [
    {
     "name": "stdout",
     "text": [
      "13.445103686395514 13.336254276202173\n13.378419901654263 13.283128586884326\n13.680226403441372 13.798161356271763\n13.705752353752203 13.64433289339329\n13.532891279795942 13.407035614843604\n"
     ],
     "output_type": "stream"
    }
   ],
   "source": [
    "models = [LinearRegression().fit(_set[\"X_train_clean\"], _set[\"y_train\"]) for _set, pipeline in zip(sets, pipelines)]\n",
    "predictions = []\n",
    "predictions_test = []\n",
    "for count, (model, _set) in enumerate(zip(models, sets)):\n",
    "    rmse_train = np.sqrt(mean_squared_error(_set[\"y_train\"], model.predict(_set[\"X_train_clean\"])))\n",
    "    rmse_test = np.sqrt(mean_squared_error(_set[\"y_test\"], model.predict(_set[\"X_test_clean\"])))\n",
    "    print(rmse_train, rmse_test)\n",
    "    predictions.append(model.predict(_set[\"X_train_clean\"]))\n",
    "    predictions_test.append(model.predict(_set[\"X_test_clean\"]))\n",
    "\n",
    "predictions.append(min(sets, key = lambda x: x[\"y_train\"].__len__())[\"y_train\"])\n",
    "predictions_test.append(min(sets, key = lambda x: x[\"y_test\"].__len__())[\"y_test\"])\n",
    "foo = pd.DataFrame(predictions).transpose().dropna()\n",
    "test = pd.DataFrame(predictions_test).transpose().dropna()    "
   ],
   "metadata": {
    "collapsed": false,
    "pycharm": {
     "name": "#%% train models\n",
     "is_executing": false
    }
   }
  },
  {
   "cell_type": "code",
   "execution_count": 70,
   "outputs": [
    {
     "name": "stdout",
     "text": [
      "13.532860596691599 13.407161181131517\n               0          1          2          3          4      5\n0      56.374478  61.809020  57.800531  51.318967  62.646476  41.00\n1      52.561970  56.500003  58.187785  59.150107  62.639794  58.88\n2      61.780262  58.219770  52.102411  60.365653  60.194456  47.04\n3      59.202358  50.341749  54.351494  57.369213  56.573405  61.78\n4      61.522934  59.636782  60.212418  61.615103  63.231450  51.05\n...          ...        ...        ...        ...        ...    ...\n28111  56.686472  55.936363  60.438010  56.013193  60.332211  55.31\n28112  60.595679  61.536681  58.517505  54.129953  57.502875  58.46\n28113  50.908389  61.003802  63.378334  60.223643  55.448026  36.83\n28114  58.359588  63.231506  55.170224  59.703563  46.694973  82.79\n28115  58.884888  54.676976  62.309788  59.292679  58.775481  74.68\n\n[28116 rows x 6 columns]\n"
     ],
     "output_type": "stream"
    }
   ],
   "source": [
    "#foo.drop(columns=[5]).info()\n",
    "lin_reg = LinearRegression()\n",
    "lin_reg.fit(foo.drop(columns=[5]), foo[5])\n",
    "\n",
    "rmse_train = np.sqrt(mean_squared_error(foo[5], lin_reg.predict(foo.drop(columns=[5]))))\n",
    "rmse_test = np.sqrt(mean_squared_error(test[5], lin_reg.predict(test.drop(columns=[5]))))\n",
    "print(rmse_train, rmse_test)\n",
    "print(foo)"
   ],
   "metadata": {
    "collapsed": false,
    "pycharm": {
     "name": "#%% train last model based on output of the other models\n",
     "is_executing": false
    }
   }
  }
 ],
 "metadata": {
  "kernelspec": {
   "display_name": "Python 3",
   "language": "python",
   "name": "python3"
  },
  "language_info": {
   "codemirror_mode": {
    "name": "ipython",
    "version": 2
   },
   "file_extension": ".py",
   "mimetype": "text/x-python",
   "name": "python",
   "nbconvert_exporter": "python",
   "pygments_lexer": "ipython2",
   "version": "2.7.6"
  },
  "pycharm": {
   "stem_cell": {
    "cell_type": "raw",
    "source": [],
    "metadata": {
     "collapsed": false
    }
   }
  }
 },
 "nbformat": 4,
 "nbformat_minor": 0
}