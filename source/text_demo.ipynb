{
 "cells": [
  {
   "cell_type": "code",
   "execution_count": 1,
   "metadata": {
    "collapsed": true
   },
   "outputs": [],
   "source": [
    "import pandas as pd\n",
    "import numpy as np"
   ]
  },
  {
   "cell_type": "code",
   "execution_count": 2,
   "outputs": [],
   "source": [
    "df = pd.read_csv(\"demo_text_chunk_0.csv\", sep=\";\")"
   ],
   "metadata": {
    "collapsed": false,
    "pycharm": {
     "name": "#%%\n"
    }
   }
  },
  {
   "cell_type": "code",
   "execution_count": 3,
   "outputs": [
    {
     "name": "stdout",
     "output_type": "stream",
     "text": [
      "Lange war sie angekündigt, nun soll sie der Öffentlichkeit endlich vorgestellt werden: die Corona-Warn-App. Im Kanzleramt wird man aufatmen. Von Anfang an setzten Kanzlerin Angela Merkel und ihr oberster Corona-Bekämpfer, Kanzleramtsminister Helge Braun, auf die Technik im Smartphone, um Infektionsketten nachzuvollziehen. Zunächst gab es Ärger, Firmen sprangen ab, Braun räumte jüngst Verzögerungen ein. Doch am Ende hat die lange Diskussion etwas bewirkt: Es entspann sich bereits vor der Entwicklung des Warninstruments eine Diskussion über den Datenschutz und die Akzeptanz der App. Ergebnis: keine zentrale Speicherung der Daten, kein Zwang zur Installation. Niemand kann nachvollziehen, wann ich mich wo aufgehalten habe. Außerdem maximale Transparenz bei der Entwicklung – alles Punkte, die zu Recht eingefordert wurden. Der jetzt gewählte Ansatz stellt nach Meinung von IT-Experten sicher, dass Daten nicht zweckentfremdet und zur Überwachung genutzt werden können. Und noch etwas ist interessant: Die App setzt auf den Smartphone-Schnittstellen der US-amerikanischen Tech-Riesen Apple und Google auf, entwickelt wurde sie von SAP und der Deutschen Telekom. Hinweise aus der Online-Community wurden berücksichtigt. Eine Zusammenarbeit vieler unterschiedlicher Akteure, die Hoffnung macht und vielleicht anwenderfreundliche Nutzungen auch für andere Probleme in sich birgt – man denke etwa an die Probleme bei der digitalen Bildung. Aus medizinischer Sicht wäre eine strengere Handhabung zur Pandemie-Bekämpfung wahrscheinlich besser gewesen. Für die Akzeptanz in der Bevölkerung ist sie das aber nicht – deswegen ist die „Warn-App light“ ein guter Weg. ­Zumal die App, wenn viele Menschen sich diese auf ihr Smartphone laden, auch eine Art Rückversicherung für eine mögliche zweite Welle im Herbst sein kann. Die App lebt vom Mitmachen, die Wirksamkeit von der Akzeptanz. Ähnlich wie bei Abstandsregeln und Maskenpflicht: Nur wenn sich viele beteiligen, ergibt es Sinn. Die Behörden setzen deshalb auf Aufklärung, auf einfache Bedienung und Hotlines, die Fragen der Nutzer klären sollen. Bleibt die Frage der Diskriminierung: Dürfen etwa Arbeitgeber von ihren Mitarbeitern verlangen, die App zu installieren? Oder ein Restaurantbesitzer nur noch Gästen Zutritt gewähren, die die App auf ihren Smartphones haben? Die Regierung setzt noch auf Vernunft und Augenmaß – es wird sich zeigen, ob diese Einschätzung realistisch ist. Sonst wäre eine gesetzliche Regelung hier wünschenswert. Jeder muss für sich persönlich entscheiden dürfen, ob er die App herunterlädt. Wer nicht möchte, macht einfach nicht mit. Derjenige bekommt dann aber auch keinen frühzeitigen Hinweis, dass er sich möglicherweise länger in der Nähe eines Infizierten aufgehalten hat. Man sollte eines bedenken: Jeder Nutzer, der etwa den Internetnachrichtendienst WhatsApp, die Apps Tiktok, ­Instagram oder andere Dienste installiert, gibt Daten preis. Und zwar an Firmen. Auch jede analoge Kundenkarte weist nach, wann und was ich wo eingekauft habe. Doch bei aller Technikbegeisterung ist eines auch klar. Die App ist kein Wundermittel: Persönliche Verhaltensweisen wie das Abstandsgebot, das Tragen von Mund-Nasen-Schutz sowie die manuelle Kontaktverfolgung durch Gesundheitsämter sind weiterhin der beste Weg, die Pandemie noch weiter einzudämmen. Und die Gefahr einer zweiten Welle im Herbst gering zu halten.\n",
      "Die Corona-Warn-App startet. Bei ihrer Entwicklung hat die Bundesregierung vieles richtig gemacht. Eine Wunderwaffe ist sie aber nicht.\n"
     ]
    }
   ],
   "source": [
    "index = 4\n",
    "print(df.iloc[4][\"body\"])\n",
    "print(df.iloc[4][\"head\"])"
   ],
   "metadata": {
    "collapsed": false,
    "pycharm": {
     "name": "#%%\n"
    }
   }
  }
 ],
 "metadata": {
  "kernelspec": {
   "display_name": "Python 3",
   "language": "python",
   "name": "python3"
  },
  "language_info": {
   "codemirror_mode": {
    "name": "ipython",
    "version": 2
   },
   "file_extension": ".py",
   "mimetype": "text/x-python",
   "name": "python",
   "nbconvert_exporter": "python",
   "pygments_lexer": "ipython2",
   "version": "2.7.6"
  }
 },
 "nbformat": 4,
 "nbformat_minor": 0
}