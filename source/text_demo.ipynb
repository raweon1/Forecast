{
 "cells": [
  {
   "cell_type": "code",
   "execution_count": 2,
   "metadata": {
    "collapsed": true
   },
   "outputs": [],
   "source": [
    "import pandas as pd\n",
    "import numpy as np"
   ]
  },
  {
   "cell_type": "code",
   "execution_count": 3,
   "outputs": [],
   "source": [
    "df = pd.read_csv(\"demo_text_chunk_0.csv\", sep=\";\")"
   ],
   "metadata": {
    "collapsed": false,
    "pycharm": {
     "name": "#%%\n"
    }
   }
  },
  {
   "cell_type": "code",
   "execution_count": 15,
   "outputs": [
    {
     "name": "stdout",
     "output_type": "stream",
     "text": [
      "Dieser Mord erschüttert das Land bis heute. Einer der brisantesten Kriminalfälle der letzten Jahre wird seit Dienstag vor dem Oberlandesgericht Frankfurt verhandelt: das Attentat auf den Kasseler Regierungspräsidenten Walter Lübcke (CDU). Die Beweislast gegen den mutmaßlichen Täter Stephan E., der wenige Kilometer vom Tatort entfernt wohnte, ist erdrückend. Dennoch könnte es ein langer Prozess werden. Vorsorglich hat das Gericht bis Ende Oktober Termine festgelegt. Bei Staatsschutz-Verfahren gelten besondere Sicherheitsmaßnahmen. Erschwerend kommen die Corona-Auflagen hinzu, sodass statt 60 nur 19 Journalisten (und 18 Besucher) im Gerichtssaal sitzen dürfen. An dieser „Abschottung“ regt sich Kritik. Was wir über den Fall wissen: In der Nacht vom 1. auf den 2. Juni 2019 wird der 65 Jahre alte Politiker auf seiner Terrasse im nordhessischen Wolfhagen-Istha mit einem Kopfschuss ermordet, vermutlich kurz nach Mitternacht. Der Christdemokrat hinterlässt seine Ehefrau und zwei erwachsene Kinder. Weniger als zwei Wochen nach der Bluttat nimmt ein Spezialeinsatzkommando Stephan E. in seinem Wohnhaus in Kassel fest. Eine DNA-Spur an Lübckes Kleidung hat ihn überführt. Zehn Tage später, am 25. Juni, legt er im Polizeipräsidium Kassel ein Geständnis ab, das er Anfang Juli wieder zurücknimmt. Der 47-Jährige gilt als Neonazi und sympathisiert mit der AfD. Seine bisherigen Verteidiger sind in der rechten Szene ein Begriff: Der erste Anwalt war für die NPD aktiv, der zweite und aktuelle Verteidiger Frank Hannig aus Dresden vertrat Pegida. Hannigs Kollege Mustafa Kaplan aus Köln vertrat im NSU-Verfahren wiederum ein Opfer. Ab 2015 erhält Lübcke anonyme Morddrohungen. 2015 ist das Jahr der Flüchtlingskrise, eine Zäsur, weil es in der Folge zu einer politischen Polarisierung kommt. Lübcke ist zum einen für die Einrichtung von Erstaufnahmelagern für Asylsuchende zuständig, zum anderen ein Unterstützer der liberalen Flüchtlingspolitik von Kanzlerin Angela Merkel, die er im selben Jahr auf einer Bürgerversammlung in Lohfelden mit den Worten verteidigt, wer die Werte Deutschlands nicht vertrete, „der kann jederzeit dieses Land verlassen“. Lesen Sie auch: Fall Lübcke: Bundesweite Durchsuchungen wegen Internet-Hetze Gemeint sind Störer auf der Veranstaltung, darunter Stephan E. „Ich war empört“, sagt dieser im November 2019 dem ARD-Magazin „Panorama“. „Ich konnte es nicht fassen, dass ein Politiker weiten Teilen der Bevölkerung nahelegt, das Land zu verlassen, weil sie anderer Meinung sind zu dieser Thematik.“ Im selben Interview äußert sich E. auch über seinen Kontakt zum Neonazi Markus H. aus Kassel: „Das war ein entscheidendes Verhängnis.“ Dieser habe „die Waffen ins Spiel“ gebracht, sie „ständig mit politischen Themen“ verknüpft und „sein Umfeld immer aufgestachelt“. Im Januar 2020 legt E. ein neues Geständnis ab. Laut seinem Verteidiger gibt er an, Markus H. sei mit ihm in der Tatnacht zum Haus von Walter Lübcke gefahren, um diesen mit der Waffe zu bedrohen und einzuschüchtern. Auf der Terrasse habe es eine verbale Auseinandersetzung gegeben. Dann habe sich aus der Tatwaffe, die Markus H. in der Hand gehalten habe, ein „Schuss gelöst“. Die Waffe, ein Revolver Kaliber 38, hat sich E. schon 2016 beschafft. Stephan E. wird wegen Mord angeklagt, Markus H. wegen Beihilfe. E. muss sich auch wegen eines Überfalls auf einen Asylbewerber aus dem Irak im Jahr 2016 rechtfertigen. Die Bundesanwaltschaft wertet diese Tat als Mordversuch. Der Iraker ist neben der Familie Lübcke ein Nebenkläger im Verfahren. Obwohl Stephan E. seit seiner Jugend als rechter Gewalttäter gilt und Kontakte zur mittlerweile verbotenen Extremistengruppe „Combat 18“ unterhält, verliert der Verfassungsschutz ihn aus den Augen. 2009 fällt er noch bei einem Angriff von Rechtsextremisten auf eine 1.-Mai-Kundgebung auf – danach verliert sich seine Spur. Er hat eine Familie gegründet, arbeitet bei einem Bahntechnik-Hersteller und führt augenscheinlich ein unauffälliges, bürgerliche Leben. Sein Fall gilt für den Geheimdienst als „abgekühlt“. Es kommt vor, dass Ex­tremisten mit einer Szene brechen, aussteigen und schleichend vom Radarschirm des Verfassungsschutzes verschwinden. In diesem Fall ist es allerdings ein verhängnisvoller Trugschluss. Mehr als das, ein echter Fehler ist es, dass der hessische Verfassungsschutz seine Erkenntnisse über Markus H. zurückhält, als dieser sich 2015 vor dem Verwaltungsgericht Kassel zwei Waffenbesitzkarten juristisch erstreitet. Im Klartext: Hätten dem Gericht die Informationen vorgelegen, hätten die Richter womöglich verhindern können, dass H. legal an Waffen herankommt. Einer der ersten Reaktionen von Innenminister Horst Seehofer (CSU) ist denn auch eine Verschärfung des Waffenrechts, unter anderem mit einer Regelanfrage beim Verfassungsschutz – just um zu verhindern, dass sich Extremisten unbemerkt bewaffnen können. Als 2019 auch noch ein Attentat auf eine Synagoge in Halle verübt wird, greifen Bund und Länder durch. Lesen Sie dazu: Mehr politisch motivierte Straftaten – vor allem von Rechten Seehofer sagte unserer Redaktion, dem Phänomen des Rechtsextremismus sei in der Vergangenheit oft nicht genug Beachtung geschenkt worden. Aber er halte es für unsere momentan „größte Bedrohung“. Seehofers größte Sorge: „Wir haben in Deutschland über 12.000 gewaltbereite Rechtsextremisten.“ Menschen wie Stephan E. aus Kassel. Ex-Grünen-Chef Cem Özdemir, der seit Jahren Morddrohungen erhält und unter Polizeischutz steht, unterstützt eine Initiative von Union und SPD, das Führen sogenannter Todes- und Feindeslisten unter Strafe zu stellen. „Todeslisten haben in einer Demokratie nichts verloren, egal, wie ernst sie nun gemeint sein sollen“, sagte Özdemir unserer Redaktion. „Wer sich in unserer Demokratie engagiert, sei es für den Stadtteil, im Ort, in einer Initiative oder im Bundestag, muss dieses tun dürfen, ohne um die Sicherheit seiner Familie oder sein Leben zu fürchten.“ Fachpolitiker von SPD und CDU prüfen gerade, ob und wie das Erstellen von Drohlisten mit Namen und Anschrift von Politikern strafbar werden könnte. Dabei soll unter anderem geklärt werden, ob für eine Strafverfolgung solche Listen ausdrücklich zu Straftaten anstacheln und öffentlich zugänglich sein müssen – und was mit Listen ist, die zum Beispiel nur in einschlägigen Chats kursieren. So tauchte der Name von Walter Lübcke bereits 2011 auf einer internen Liste der NSU-Terrorgruppe auf. Özdemir und weitere Bundespolitiker erhielten im vergangenen Jahr Drohmails von einem deutschen Ableger einer US-Neonazi-Gruppe. Dem Vorsitzenden des Verkehrsausschusses im Bundestag, der türkische Wurzeln hat, wurde darin mitgeteilt, er stehe auf Platz eins einer angeblichen Todesliste. Özdemir betont, spätestens nach dem Mord an Walter Lübcke müsse allen klar sein, dass Deutschland ein massives Problem mit Hass, Hetze und Gewalt gegen politisch Engagierte habe. „Deswegen ist es richtig, dass der Rechtsstaat eine Handhabe gegen solche Listen haben muss. Dabei muss aber klar sein, was als Todesliste zählt und was nicht.“\n",
      "In Frankfurt hat der Prozess gegen Stephan E. wegen des Mordes an Walter Lübcke begonnen. Warum dieser Fall ein Lehrbeispiel ist.\n"
     ]
    }
   ],
   "source": [
    "index = 11\n",
    "print(df.iloc[index][\"body\"])\n",
    "print(df.iloc[index][\"head\"])"
   ],
   "metadata": {
    "collapsed": false,
    "pycharm": {
     "name": "#%%\n"
    }
   }
  }
 ],
 "metadata": {
  "kernelspec": {
   "display_name": "Python 3",
   "language": "python",
   "name": "python3"
  },
  "language_info": {
   "codemirror_mode": {
    "name": "ipython",
    "version": 2
   },
   "file_extension": ".py",
   "mimetype": "text/x-python",
   "name": "python",
   "nbconvert_exporter": "python",
   "pygments_lexer": "ipython2",
   "version": "2.7.6"
  }
 },
 "nbformat": 4,
 "nbformat_minor": 0
}