{
 "cells": [
  {
   "cell_type": "code",
   "execution_count": 1,
   "metadata": {
    "collapsed": true,
    "pycharm": {
     "is_executing": false,
     "name": "#%% import dependencies\n"
    }
   },
   "outputs": [],
   "source": [
    "import os\n",
    "import pandas as pd\n",
    "import numpy as np\n",
    "import matplotlib as plt\n",
    "from sklearn.model_selection import StratifiedShuffleSplit, cross_val_score\n",
    "from sklearn.metrics import mean_squared_error\n",
    "from sklearn.pipeline import Pipeline, FeatureUnion\n",
    "from sklearn.preprocessing import OneHotEncoder, StandardScaler, PolynomialFeatures\n",
    "from sklearn.linear_model import LinearRegression, SGDRegressor\n",
    "from sklearn.ensemble import RandomForestRegressor\n",
    "from sklearn.svm import LinearSVR, SVR\n",
    "from source.DataFrameSelector import DataFrameSelector\n",
    "\n",
    "DATA_PATH = os.path.join(\"..\", \"data\")\n",
    "\n",
    "def load_csv(filename, path=DATA_PATH):\n",
    "    return pd.read_csv(os.path.join(path, filename))"
   ]
  },
  {
   "cell_type": "code",
   "execution_count": 2,
   "outputs": [],
   "source": [
    "def import_data():\n",
    "    e_data = load_csv(\"energy_dataset.csv\")\n",
    "    w_data = load_csv(\"weather_features.csv\")\n",
    "    # weather_id ist abgeleitet von clouds_all\n",
    "    # weather_id ist die numerische klassifikation von weather_description\n",
    "    # weather_main ist eine ungenaue darstellung von weather_description\n",
    "    # weather_icon ist ?\n",
    "    # in den meisten fällen ist temp = temp_min = temp_max\n",
    "    w_data = w_data.drop(columns=[\"weather_id\", \"weather_icon\", \"weather_main\", \"temp_min\", \"temp_max\"])\n",
    "    return w_data.join(other=e_data[[\"time\", \"price\"]].set_index(\"time\"), on=\"time\")\n",
    "\n",
    "data = import_data()"
   ],
   "metadata": {
    "collapsed": false,
    "pycharm": {
     "name": "#%% import data\n",
     "is_executing": false
    }
   }
  },
  {
   "cell_type": "code",
   "execution_count": 30,
   "outputs": [
    {
     "data": {
      "text/plain": "<matplotlib.axes._subplots.AxesSubplot at 0x2d701ab7fc8>"
     },
     "metadata": {},
     "output_type": "execute_result",
     "execution_count": 30
    },
    {
     "data": {
      "text/plain": "<Figure size 1440x1080 with 1 Axes>",
      "image/png": "[encoded data removed]"
     },
     "metadata": {
      "needs_background": "light"
     },
     "output_type": "display_data"
    }
   ],
   "source": [
    "data[\"price\"].hist(bins=50, figsize=(20, 15))"
   ],
   "metadata": {
    "collapsed": false,
    "pycharm": {
     "name": "#%% explore data\n",
     "is_executing": false
    }
   }
  },
  {
   "cell_type": "code",
   "execution_count": 3,
   "outputs": [
    {
     "data": {
      "text/plain": "Madrid        0.203307\nBilbao        0.201513\nSeville       0.199327\n Barcelona    0.198851\nValencia      0.197001\nName: city_name, dtype: float64"
     },
     "metadata": {},
     "output_type": "execute_result",
     "execution_count": 3
    }
   ],
   "source": [
    "label = \"price\"\n",
    "X_train = X_test = y_train = y_test = None\n",
    "split = StratifiedShuffleSplit(n_splits=1, test_size=0.2, random_state=42)\n",
    "for train_index, test_index in split.split(data, data[\"city_name\"]):\n",
    "    X_train = data.loc[train_index]\n",
    "    y_train = X_train[label]\n",
    "    X_train = X_train.drop(columns=[label])\n",
    "    X_test = data.loc[test_index]\n",
    "    y_test = X_test[label]\n",
    "    X_test = X_test.drop(columns=[label])\n",
    "    \n",
    "X_test[\"city_name\"].value_counts() / len(X_test)"
   ],
   "metadata": {
    "collapsed": false,
    "pycharm": {
     "name": "#%% split data in train/test-sets\n",
     "is_executing": false
    }
   }
  },
  {
   "cell_type": "code",
   "execution_count": 17,
   "outputs": [],
   "source": [
    "#encoder = OneHotEncoder()\n",
    "#oneHotClouds = encoder.fit_transform(tmp[\"weather_id\"].to_numpy().reshape(-1,1))\n",
    "cat_attribs = [\"city_name\"]\n",
    "num_attribs = ['rain_1h', 'rain_3h', 'snow_3h', 'clouds_all']\n",
    "poly_attribs = ['temp', 'pressure', 'humidity', 'wind_speed', 'wind_deg']\n",
    "degree = 2\n",
    "\n",
    "num_pipeline = Pipeline([\n",
    "    (\"selector\", DataFrameSelector(num_attribs)),\n",
    "    (\"std_scaler\", StandardScaler())\n",
    "])\n",
    "cat_pipeline = Pipeline([\n",
    "    (\"selector\", DataFrameSelector(cat_attribs)),\n",
    "    (\"cat_encoder\", OneHotEncoder(sparse=False))\n",
    "])\n",
    "poly_pipeline = Pipeline([\n",
    "    (\"selector\", DataFrameSelector(poly_attribs)),\n",
    "    (\"poly_features\", PolynomialFeatures(degree=degree)),\n",
    "    (\"std_scaler\", StandardScaler())\n",
    "])\n",
    "pipeline = FeatureUnion(transformer_list=[\n",
    "    (\"num_pipeline\", num_pipeline),\n",
    "    (\"poly_pipeline\", poly_pipeline),\n",
    "    #(\"cat_pipeline\", cat_pipeline)\n",
    "])\n",
    "pipeline.fit(X_train)\n",
    "X_prepared = pipeline.transform(X_train)"
   ],
   "metadata": {
    "collapsed": false,
    "pycharm": {
     "name": "#%%\n",
     "is_executing": false
    }
   }
  },
  {
   "cell_type": "code",
   "execution_count": 18,
   "outputs": [
    {
     "name": "stdout",
     "text": [
      "(4.646843424167619, 12.163875162446075)\n"
     ],
     "output_type": "stream"
    }
   ],
   "source": [
    "def foo(model, X_train, y_train, X_test, y_test):\n",
    "    model.fit(X_train, y_train)\n",
    "    rmse_train = np.sqrt(mean_squared_error(y_train, model.predict(X_train)))\n",
    "    rmse_test = np.sqrt(mean_squared_error(y_test, model.predict(X_test)))\n",
    "    return rmse_train, rmse_test\n",
    "\n",
    "#svm_reg = SVR(kernel=\"poly\", degree=2, C=1, epsilon=0.1)\n",
    "lin_reg = RandomForestRegressor()\n",
    "print(foo(lin_reg, X_prepared, y_train, pipeline.transform(X_test), y_test))\n",
    "\n",
    "# lineare_regression (13.977081227562822, 13.945052725340519)\n",
    "# poly_regression \n",
    "#   degree 2    (13.853527042680058, 13.828147812150833)    ohne pressure/ humidity\n",
    "#   degree 2    (13.808968948355282, 13.793752486988796)    mit pressure / humidity\n",
    "#   degree 3    (13.714074208559285, 13.683145331334556)    nur ['temp', 'pressure', 'humidity', 'wind_speed', 'wind_deg'] als poly\n",
    "#   degree 3    overfit\n",
    "# Random Forest\n",
    "# degree 3 von ['temp', 'pressure', 'humidity', 'wind_speed', 'wind_deg'] (4.6769143747021, 12.257459179998438)\n",
    "# degree 2 von s.o. (4.647315055937049, 12.1596083705406)"
   ],
   "metadata": {
    "collapsed": false,
    "pycharm": {
     "name": "#%%\n",
     "is_executing": false
    }
   }
  },
  {
   "cell_type": "code",
   "execution_count": 31,
   "outputs": [
    {
     "name": "stdout",
     "text": [
      "[ 5.25961984e+09  4.54968770e+07 -2.39049790e+08 -8.23057839e+08\n  0.00000000e+00 -1.09687986e+08  2.15635083e+10 -8.07019075e+08\n -4.41791197e+08  4.33342784e+07 -5.12143684e+06 -9.00916514e+07\n  8.78944839e+07  8.68874487e+07  1.79910283e+08]\n"
     ],
     "output_type": "stream"
    }
   ],
   "source": [
    "print(lin_reg.coef_)\n",
    "#print(X_prepared[0])\n",
    "#print(X_train.iloc[0])"
   ],
   "metadata": {
    "collapsed": false,
    "pycharm": {
     "name": "#%%\n",
     "is_executing": false
    }
   }
  }
 ],
 "metadata": {
  "kernelspec": {
   "display_name": "Python 3",
   "language": "python",
   "name": "python3"
  },
  "language_info": {
   "codemirror_mode": {
    "name": "ipython",
    "version": 2
   },
   "file_extension": ".py",
   "mimetype": "text/x-python",
   "name": "python",
   "nbconvert_exporter": "python",
   "pygments_lexer": "ipython2",
   "version": "2.7.6"
  },
  "pycharm": {
   "stem_cell": {
    "cell_type": "raw",
    "source": [],
    "metadata": {
     "collapsed": false
    }
   }
  }
 },
 "nbformat": 4,
 "nbformat_minor": 0
}