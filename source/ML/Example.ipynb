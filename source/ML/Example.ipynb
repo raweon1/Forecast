{
 "cells": [
  {
   "cell_type": "code",
   "execution_count": 39,
   "metadata": {
    "collapsed": true
   },
   "outputs": [],
   "source": [
    "import os\n",
    "import pandas as pd\n",
    "import numpy as np\n",
    "import matplotlib.pyplot as plt\n",
    "\n",
    "from sklearn.preprocessing import MinMaxScaler\n",
    "\n",
    "from datetime import datetime, timezone\n",
    "\n",
    "from tqdm import tqdm\n",
    "import torch\n",
    "import torch.nn as nn\n",
    "from torch.distributions.normal import Normal\n",
    "\n",
    "from source.ML import HelperFunction\n",
    "from source.ML import Models"
   ]
  },
  {
   "cell_type": "code",
   "execution_count": 40,
   "outputs": [],
   "source": [
    "# Import Data\n",
    "\n",
    "device = torch.device(\"cuda\" if torch.cuda.is_available() else \"cpu\")\n",
    "DATA_PATH = os.path.join(\"..\", \"..\", \"data\")\n",
    "\n",
    "def load_csv(filename, path=DATA_PATH):\n",
    "    return pd.read_csv(os.path.join(path, filename))\n",
    "\n",
    "def to_utc_datetime(df, column=\"time\"):\n",
    "    df[column] = df.apply(lambda row: datetime.strptime(row[column], \"%Y-%m-%d %H:%M:%S%z\").astimezone(timezone.utc), axis=1)\n",
    "    return df\n",
    "\n",
    "def get_price():\n",
    "    e_data = load_csv(\"energy_dataset.csv\")\n",
    "    return e_data[[\"time\", \"price day ahead\", \"total load actual\", \"price\"]].rename(\n",
    "        columns={\"price day ahead\": \"TSO_price_forecast\",\n",
    "                 \"total load actual\": \"load\"})\n",
    "\n",
    "def add_weather_data(df):\n",
    "    w_data = load_csv(\"weather_features.csv\").drop(columns=[\"weather_id\", \"weather_icon\", \"temp_min\", \"temp_max\"])\n",
    "    w_data = w_data.join(other=df.set_index(\"time\"), on=\"time\").drop_duplicates(subset=[\"time\", \"city_name\"])\n",
    "    return w_data.reset_index(drop=True)\n",
    "\n",
    "data = to_utc_datetime(add_weather_data(get_price()))\n",
    "data.drop(columns=[\"weather_main\", \"weather_description\", \"TSO_price_forecast\"], inplace=True)\n",
    "data.fillna(method=\"ffill\", inplace=True)\n",
    "data = data.drop(columns=[\"city_name\"]).groupby(by=[\"time\"]).mean()"
   ],
   "metadata": {
    "collapsed": false,
    "pycharm": {
     "name": "#%%\n"
    }
   }
  },
  {
   "cell_type": "code",
   "execution_count": 41,
   "outputs": [],
   "source": [
    "# select features\n",
    "\n",
    "target_column = \"price\"\n",
    "features = [\"temp\", \"pressure\", \"humidity\", \"wind_speed\", \"wind_deg\", \"rain_1h\", \"rain_3h\", \"snow_3h\", \"clouds_all\", \"load\", \"price\"]\n",
    "#features = [\"price\"]\n",
    "num_features = len(features)\n",
    "data = data.loc[:, features]"
   ],
   "metadata": {
    "collapsed": false,
    "pycharm": {
     "name": "#%%\n"
    }
   }
  },
  {
   "cell_type": "code",
   "execution_count": 42,
   "outputs": [],
   "source": [
    "# split train/test\n",
    "\n",
    "target_year = 2018\n",
    "train_data = data.loc[data.index.year < target_year]\n",
    "test_data = data.loc[data.index.year == target_year]"
   ],
   "metadata": {
    "collapsed": false,
    "pycharm": {
     "name": "#%%\n"
    }
   }
  },
  {
   "cell_type": "code",
   "execution_count": 43,
   "outputs": [],
   "source": [
    "# scale data\n",
    "\n",
    "scaler_y = MinMaxScaler()\n",
    "scaler_y.fit(train_data[target_column].values.reshape(-1, 1))\n",
    "\n",
    "scaler = MinMaxScaler()\n",
    "\n",
    "train_data_scaled = scaler.fit_transform(train_data)\n",
    "test_data_scaled = scaler.transform(test_data)"
   ],
   "metadata": {
    "collapsed": false,
    "pycharm": {
     "name": "#%%\n"
    }
   }
  },
  {
   "cell_type": "code",
   "execution_count": 44,
   "outputs": [],
   "source": [
    "# create ML-problem by creating a input sequences and corresponding labels\n",
    "\n",
    "seq_len = 48 #24*7\n",
    "out_seq_len = 24\n",
    "X, y = HelperFunction.create_input_output_sequence(train_data_scaled, seq_len, out_seq_len)\n",
    "X = torch.FloatTensor(X).to(device)\n",
    "y = torch.FloatTensor(y).to(device)"
   ],
   "metadata": {
    "collapsed": false,
    "pycharm": {
     "name": "#%%\n"
    }
   }
  },
  {
   "cell_type": "code",
   "execution_count": 45,
   "outputs": [
    {
     "data": {
      "text/plain": "LSTMSeq2SeqOle(\n  (lstm_in): LSTM(11, 84, batch_first=True)\n  (lstm_repeat): LSTM(84, 84, batch_first=True)\n  (linear): Linear(in_features=84, out_features=1, bias=True)\n)"
     },
     "execution_count": 45,
     "metadata": {},
     "output_type": "execute_result"
    }
   ],
   "source": [
    "# define model\n",
    "\n",
    "mini_batch = 100\n",
    "model = Models.LSTMSeq2SeqOle(input_dim=num_features, out_seq_len=out_seq_len, hidden_dim=84)\n",
    "loss = nn.MSELoss()\n",
    "optimizer = torch.optim.Adam(model.parameters(), lr=0.001)\n",
    "model.to(device)"
   ],
   "metadata": {
    "collapsed": false,
    "pycharm": {
     "name": "#%%\n"
    }
   }
  },
  {
   "cell_type": "code",
   "execution_count": 46,
   "outputs": [
    {
     "name": "stderr",
     "output_type": "stream",
     "text": [
      "100%|██████████| 6000/6000 [01:04<00:00, 93.39it/s] \n"
     ]
    },
    {
     "name": "stdout",
     "output_type": "stream",
     "text": [
      "epoch:   0 loss: 0.15510018\n",
      "epoch: 500 loss: 0.00823042\n",
      "epoch: 1000 loss: 0.00679335\n",
      "epoch: 1500 loss: 0.00454345\n",
      "epoch: 2000 loss: 0.00502727\n",
      "epoch: 2500 loss: 0.00405978\n",
      "epoch: 3000 loss: 0.00311954\n",
      "epoch: 3500 loss: 0.00349919\n",
      "epoch: 4000 loss: 0.00352404\n",
      "epoch: 4500 loss: 0.00272701\n",
      "epoch: 5000 loss: 0.00274682\n",
      "epoch: 5500 loss: 0.00278270\n",
      "epoch: 5999 loss: 0.0024923040\n"
     ]
    }
   ],
   "source": [
    "# train model\n",
    "\n",
    "epochs = 6000\n",
    "\n",
    "for i in tqdm(range(epochs)):\n",
    "    # train\n",
    "    idx = np.random.choice(X.shape[0], mini_batch, replace=False)\n",
    "    optimizer.zero_grad()\n",
    "    y_pred = model(X[idx])\n",
    "    single_loss = loss(y_pred, y[idx])\n",
    "    single_loss.backward()\n",
    "    optimizer.step()\n",
    "    if i%500 == 0:\n",
    "        print(f'epoch: {i:3} loss: {single_loss.item():10.8f}')\n",
    "\n",
    "print(f'epoch: {i:3} loss: {single_loss.item():10.10f}')"
   ],
   "metadata": {
    "collapsed": false,
    "pycharm": {
     "name": "#%%\n"
    }
   }
  },
  {
   "cell_type": "code",
   "execution_count": 47,
   "outputs": [],
   "source": [
    "# predict test-data\n",
    "\n",
    "prediction = HelperFunction.predict(model, np.vstack((train_data_scaled[-seq_len:], test_data_scaled)), seq_len)"
   ],
   "metadata": {
    "collapsed": false,
    "pycharm": {
     "name": "#%%\n"
    }
   }
  },
  {
   "cell_type": "code",
   "execution_count": 48,
   "outputs": [
    {
     "data": {
      "text/plain": "<matplotlib.legend.Legend at 0x21f81d28fc8>"
     },
     "execution_count": 48,
     "metadata": {},
     "output_type": "execute_result"
    },
    {
     "data": {
      "text/plain": "<Figure size 432x288 with 1 Axes>",
      "image/png": "[encoded data removed]"
     },
     "metadata": {
      "needs_background": "light"
     },
     "output_type": "display_data"
    }
   ],
   "source": [
    "# plot prediction\n",
    "\n",
    "f_o = 23 # offset into the future: 0 next hour, 1 prediction of next hour + 1; must be < out_seq_len\n",
    "prediction_real = scaler_y.inverse_transform(prediction[:, f_o].reshape(-1, 1))\n",
    "last_test_data_index = min(len(test_data), f_o + prediction_real.shape[0])\n",
    "prediction_df = test_data[f_o: last_test_data_index].assign(prediction=prediction_real[0: last_test_data_index - f_o])\n",
    "prediction_df.reset_index(inplace=True)\n",
    "\n",
    "plt.plot(prediction_df.index, prediction_df[target_column], label=target_column, alpha=0.5)\n",
    "plt.plot(prediction_df.index, prediction_df[\"prediction\"], label=\"prediction\", alpha=0.5)\n",
    "plt.gcf().legend()"
   ],
   "metadata": {
    "collapsed": false,
    "pycharm": {
     "name": "#%%\n"
    }
   }
  },
  {
   "cell_type": "code",
   "execution_count": 49,
   "outputs": [
    {
     "name": "stderr",
     "output_type": "stream",
     "text": [
      "100%|██████████| 24/24 [00:00<00:00, 105.76it/s]\n"
     ]
    },
    {
     "data": {
      "text/plain": "        rmse       mape       mae\n0   3.535336   4.730353  2.715249\n1   4.363242   5.869746  3.369234\n2   4.943790   6.674046  3.804195\n3   5.443795   7.385332  4.191341\n4   5.780015   7.890871  4.442234\n5   6.000101   8.233816  4.586440\n6   6.136525   8.458388  4.657779\n7   6.233887   8.603731  4.692023\n8   6.334596   8.738997  4.733612\n9   6.459838   8.918937  4.813281\n10  6.617035   9.144328  4.924394\n11  6.796088   9.406050  5.059684\n12  6.971211   9.665572  5.201495\n13  7.128953   9.915503  5.342437\n14  7.249415  10.132183  5.460848\n15  7.325793  10.295652  5.544028\n16  7.372892  10.408428  5.591769\n17  7.408222  10.492435  5.618613\n18  7.432299  10.552980  5.634655\n19  7.431904  10.578877  5.635704\n20  7.402326  10.552454  5.607635\n21  7.359728  10.496117  5.563255\n22  7.334998  10.465037  5.534390\n23  7.383932  10.541116  5.569332",
      "text/html": "<div>\n<style scoped>\n    .dataframe tbody tr th:only-of-type {\n        vertical-align: middle;\n    }\n\n    .dataframe tbody tr th {\n        vertical-align: top;\n    }\n\n    .dataframe thead th {\n        text-align: right;\n    }\n</style>\n<table border=\"1\" class=\"dataframe\">\n  <thead>\n    <tr style=\"text-align: right;\">\n      <th></th>\n      <th>rmse</th>\n      <th>mape</th>\n      <th>mae</th>\n    </tr>\n  </thead>\n  <tbody>\n    <tr>\n      <th>0</th>\n      <td>3.535336</td>\n      <td>4.730353</td>\n      <td>2.715249</td>\n    </tr>\n    <tr>\n      <th>1</th>\n      <td>4.363242</td>\n      <td>5.869746</td>\n      <td>3.369234</td>\n    </tr>\n    <tr>\n      <th>2</th>\n      <td>4.943790</td>\n      <td>6.674046</td>\n      <td>3.804195</td>\n    </tr>\n    <tr>\n      <th>3</th>\n      <td>5.443795</td>\n      <td>7.385332</td>\n      <td>4.191341</td>\n    </tr>\n    <tr>\n      <th>4</th>\n      <td>5.780015</td>\n      <td>7.890871</td>\n      <td>4.442234</td>\n    </tr>\n    <tr>\n      <th>5</th>\n      <td>6.000101</td>\n      <td>8.233816</td>\n      <td>4.586440</td>\n    </tr>\n    <tr>\n      <th>6</th>\n      <td>6.136525</td>\n      <td>8.458388</td>\n      <td>4.657779</td>\n    </tr>\n    <tr>\n      <th>7</th>\n      <td>6.233887</td>\n      <td>8.603731</td>\n      <td>4.692023</td>\n    </tr>\n    <tr>\n      <th>8</th>\n      <td>6.334596</td>\n      <td>8.738997</td>\n      <td>4.733612</td>\n    </tr>\n    <tr>\n      <th>9</th>\n      <td>6.459838</td>\n      <td>8.918937</td>\n      <td>4.813281</td>\n    </tr>\n    <tr>\n      <th>10</th>\n      <td>6.617035</td>\n      <td>9.144328</td>\n      <td>4.924394</td>\n    </tr>\n    <tr>\n      <th>11</th>\n      <td>6.796088</td>\n      <td>9.406050</td>\n      <td>5.059684</td>\n    </tr>\n    <tr>\n      <th>12</th>\n      <td>6.971211</td>\n      <td>9.665572</td>\n      <td>5.201495</td>\n    </tr>\n    <tr>\n      <th>13</th>\n      <td>7.128953</td>\n      <td>9.915503</td>\n      <td>5.342437</td>\n    </tr>\n    <tr>\n      <th>14</th>\n      <td>7.249415</td>\n      <td>10.132183</td>\n      <td>5.460848</td>\n    </tr>\n    <tr>\n      <th>15</th>\n      <td>7.325793</td>\n      <td>10.295652</td>\n      <td>5.544028</td>\n    </tr>\n    <tr>\n      <th>16</th>\n      <td>7.372892</td>\n      <td>10.408428</td>\n      <td>5.591769</td>\n    </tr>\n    <tr>\n      <th>17</th>\n      <td>7.408222</td>\n      <td>10.492435</td>\n      <td>5.618613</td>\n    </tr>\n    <tr>\n      <th>18</th>\n      <td>7.432299</td>\n      <td>10.552980</td>\n      <td>5.634655</td>\n    </tr>\n    <tr>\n      <th>19</th>\n      <td>7.431904</td>\n      <td>10.578877</td>\n      <td>5.635704</td>\n    </tr>\n    <tr>\n      <th>20</th>\n      <td>7.402326</td>\n      <td>10.552454</td>\n      <td>5.607635</td>\n    </tr>\n    <tr>\n      <th>21</th>\n      <td>7.359728</td>\n      <td>10.496117</td>\n      <td>5.563255</td>\n    </tr>\n    <tr>\n      <th>22</th>\n      <td>7.334998</td>\n      <td>10.465037</td>\n      <td>5.534390</td>\n    </tr>\n    <tr>\n      <th>23</th>\n      <td>7.383932</td>\n      <td>10.541116</td>\n      <td>5.569332</td>\n    </tr>\n  </tbody>\n</table>\n</div>"
     },
     "execution_count": 49,
     "metadata": {},
     "output_type": "execute_result"
    }
   ],
   "source": [
    "# stats for all predictions by hours into the future, i.e. always next hour, next hour + 1, etc.\n",
    "\n",
    "stats = []\n",
    "for f_o in tqdm(range(prediction.shape[1])):\n",
    "    prediction_real = scaler_y.inverse_transform(prediction[:, f_o].reshape(-1, 1))\n",
    "    last_test_data_index = min(len(test_data), f_o + prediction_real.shape[0])\n",
    "    prediction_df = test_data[f_o: last_test_data_index].assign(prediction=prediction_real[0: last_test_data_index - f_o])\n",
    "    prediction_df.reset_index(inplace=True)\n",
    "    foobar = HelperFunction.TimeSeriesPlot(prediction_df, target_column, \"prediction\")\n",
    "    stats.append([foobar.rmse(), foobar.mape(), foobar.mae()])\n",
    "df_stats = pd.DataFrame(stats, columns=[\"rmse\", \"mape\", \"mae\"])\n",
    "df_stats"
   ],
   "metadata": {
    "collapsed": false,
    "pycharm": {
     "name": "#%%\n"
    }
   }
  },
  {
   "cell_type": "code",
   "execution_count": 50,
   "outputs": [
    {
     "data": {
      "text/plain": "<Figure size 432x288 with 1 Axes>",
      "image/png": "[encoded data removed]"
     },
     "metadata": {
      "needs_background": "light"
     },
     "output_type": "display_data"
    }
   ],
   "source": [
    "# plot stats\n",
    "\n",
    "stat_plot = df_stats.plot()"
   ],
   "metadata": {
    "collapsed": false,
    "pycharm": {
     "name": "#%%\n"
    }
   }
  },
  {
   "cell_type": "code",
   "execution_count": 51,
   "outputs": [],
   "source": [
    "# saliancy per timestep\n",
    "\n",
    "sal_sample = HelperFunction.saliancy_per_sample(model, np.vstack((train_data_scaled[-seq_len:], test_data_scaled)), seq_len)"
   ],
   "metadata": {
    "collapsed": false,
    "pycharm": {
     "name": "#%%\n"
    }
   }
  },
  {
   "cell_type": "code",
   "execution_count": 52,
   "outputs": [
    {
     "data": {
      "text/plain": "[<matplotlib.lines.Line2D at 0x21fd5c73688>]"
     },
     "execution_count": 52,
     "metadata": {},
     "output_type": "execute_result"
    },
    {
     "data": {
      "text/plain": "<Figure size 432x288 with 1 Axes>",
      "image/png": "[encoded data removed]"
     },
     "metadata": {
      "needs_background": "light"
     },
     "output_type": "display_data"
    }
   ],
   "source": [
    "# plot saliancy per timestep\n",
    "\n",
    "plt.plot(np.mean(sal_sample, axis=0))"
   ],
   "metadata": {
    "collapsed": false,
    "pycharm": {
     "name": "#%%\n"
    }
   }
  },
  {
   "cell_type": "code",
   "execution_count": 53,
   "outputs": [],
   "source": [
    "# saliancy per timestep per feature\n",
    "\n",
    "sal_feature = HelperFunction.saliancy_per_feature(model, np.vstack((train_data_scaled[-seq_len:], test_data_scaled)), seq_len)"
   ],
   "metadata": {
    "collapsed": false,
    "pycharm": {
     "name": "#%%\n"
    }
   }
  },
  {
   "cell_type": "code",
   "execution_count": 54,
   "outputs": [
    {
     "data": {
      "text/plain": "<matplotlib.legend.Legend at 0x21fd560ce48>"
     },
     "execution_count": 54,
     "metadata": {},
     "output_type": "execute_result"
    },
    {
     "data": {
      "text/plain": "<Figure size 432x288 with 1 Axes>",
      "image/png": "[encoded data removed]"
     },
     "metadata": {
      "needs_background": "light"
     },
     "output_type": "display_data"
    }
   ],
   "source": [
    "# plot saliancy per timestep per feature\n",
    "\n",
    "for i in range(0, num_features):\n",
    "    plt.plot(np.mean(sal_feature[:,:,i], axis=0), label=i+1)\n",
    "\n",
    "plt.gcf().legend()"
   ],
   "metadata": {
    "collapsed": false,
    "pycharm": {
     "name": "#%%\n"
    }
   }
  }
 ],
 "metadata": {
  "kernelspec": {
   "display_name": "Python 3",
   "language": "python",
   "name": "python3"
  },
  "language_info": {
   "codemirror_mode": {
    "name": "ipython",
    "version": 2
   },
   "file_extension": ".py",
   "mimetype": "text/x-python",
   "name": "python",
   "nbconvert_exporter": "python",
   "pygments_lexer": "ipython2",
   "version": "2.7.6"
  }
 },
 "nbformat": 4,
 "nbformat_minor": 0
}